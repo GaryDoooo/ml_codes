{
 "cells": [
  {
   "cell_type": "code",
   "execution_count": 1,
   "metadata": {},
   "outputs": [
    {
     "name": "stderr",
     "output_type": "stream",
     "text": [
      "/usr/local/lib/python3.6/dist-packages/pandas_datareader/compat/__init__.py:7: FutureWarning: pandas.util.testing is deprecated. Use the functions in the public API at pandas.testing instead.\n",
      "  from pandas.util.testing import assert_frame_equal\n"
     ]
    }
   ],
   "source": [
    "import datetime as dt\n",
    "import matplotlib.pyplot as plt\n",
    "from matplotlib import style\n",
    "import pandas as pd\n",
    "import pandas_datareader.data as web\n",
    "import pickle                                                                \n"
   ]
  },
  {
   "cell_type": "code",
   "execution_count": 2,
   "metadata": {},
   "outputs": [
    {
     "name": "stdout",
     "output_type": "stream",
     "text": [
      "                Open      High       Low     Close  Adj Close   Volume\n",
      "Date                                                                  \n",
      "1990-01-02  19.84375  20.15625  19.78125  20.12500   9.334455  1496000\n",
      "1990-01-03  20.15625  20.46875  20.12500  20.34375   9.435915  2631600\n",
      "1990-01-04  20.21875  20.75000  20.21875  20.50000   9.508387  2538400\n",
      "1990-01-05  20.40625  20.50000  20.15625  20.15625   9.348946  1825600\n",
      "1990-01-08  20.12500  20.71875  20.12500  20.68750   9.595356  2164400\n"
     ]
    }
   ],
   "source": [
    "df = pickle.load(open(\"MMM.p\", \"rb\"))                                        \n",
    "                                                                             \n",
    "print df.head()"
   ]
  },
  {
   "cell_type": "code",
   "execution_count": null,
   "metadata": {
    "collapsed": true
   },
   "outputs": [],
   "source": [
    "# Calculate moving average lines\n",
    "df['100ma']=df['Adj Close'].rolling(window=100,min_periods=0).mean()\n",
    "df['5ma']=df['Adj Close'].rolling(window=5,min_periods=0).mean()\n",
    "df['10ma']=df['Adj Close'].rolling(window=10,min_periods=0).mean()\n",
    "df['20ma']=df['Adj Close'].rolling(window=20,min_periods=0).mean()\n",
    "df['50ma']=df['Adj Close'].rolling(window=50,min_periods=0).mean()"
   ]
  },
  {
   "cell_type": "code",
   "execution_count": null,
   "metadata": {},
   "outputs": [],
   "source": [
    "print df['10ma'].head()"
   ]
  },
  {
   "cell_type": "code",
   "execution_count": 41,
   "metadata": {},
   "outputs": [
    {
     "name": "stdout",
     "output_type": "stream",
     "text": [
      "(115642, 5)\n",
      "                     1. open   2. high  3. low  4. close  5. volume\n",
      "date                                                               \n",
      "2020-02-07 09:35:00   332.82  333.0000  332.01  332.0800  3472208.0\n",
      "2020-02-07 09:40:00   332.08  332.8107  331.96  332.5400  1221997.0\n",
      "2020-02-07 09:45:00   332.53  332.6100  332.23  332.3600   701466.0\n",
      "2020-02-07 09:50:00   332.35  332.6200  332.16  332.6100   570401.0\n",
      "2020-02-07 09:55:00   332.61  332.8300  332.54  332.7700   464389.0\n",
      "...                      ...       ...     ...       ...        ...\n",
      "2022-09-30 19:40:00   357.80  357.9000  357.80  357.8500     1558.0\n",
      "2022-09-30 19:45:00   357.90  357.9000  357.81  357.8400     2574.0\n",
      "2022-09-30 19:50:00   357.82  357.8500  357.82  357.8400     1861.0\n",
      "2022-09-30 19:55:00   357.86  357.9000  357.83  357.8701     2677.0\n",
      "2022-09-30 20:00:00   357.88  357.9700  357.85  357.8800     7095.0\n",
      "\n",
      "[115642 rows x 5 columns]\n"
     ]
    }
   ],
   "source": [
    "import bz2\n",
    "with bz2.BZ2File(\"data/SPY.p.bz2\", \"r\") as pfile_handle:\n",
    "    data = pickle.load(pfile_handle)\n",
    "\n",
    "    #data_set = read_data(\"data/spy.p.bz2\")\n",
    "print(data.shape)\n",
    "print(data)"
   ]
  },
  {
   "cell_type": "code",
   "execution_count": 14,
   "metadata": {},
   "outputs": [
    {
     "data": {
      "text/plain": [
       "1. open      float64\n",
       "2. high      float64\n",
       "3. low       float64\n",
       "4. close     float64\n",
       "5. volume    float64\n",
       "dtype: object"
      ]
     },
     "execution_count": 14,
     "metadata": {},
     "output_type": "execute_result"
    }
   ],
   "source": [
    "data.index\n",
    "data.columns\n",
    "data.dtypes"
   ]
  },
  {
   "cell_type": "code",
   "execution_count": 15,
   "metadata": {},
   "outputs": [
    {
     "data": {
      "text/plain": [
       "<bound method DataFrame.info of                       1. open   2. high  3. low  4. close  5. volume\n",
       "date                                                                \n",
       "2018-12-04 09:35:00  278.3800  278.7900  278.23    278.28  3140850.0\n",
       "2018-12-04 09:40:00  278.3100  278.8500  278.25    278.66  1139129.0\n",
       "2018-12-04 09:45:00  278.6507  278.7650  278.03    278.04  1210424.0\n",
       "2018-12-04 09:50:00  278.0100  278.2300  277.80    277.96  1214156.0\n",
       "2018-12-04 09:55:00  277.9600  278.0500  277.35    277.56  2375012.0\n",
       "...                       ...       ...     ...       ...        ...\n",
       "2019-09-12 15:40:00  301.9300  302.0100  301.92    301.92   769807.0\n",
       "2019-09-12 15:45:00  301.9201  301.9201  301.68    301.80   909493.0\n",
       "2019-09-12 15:50:00  301.8116  301.8900  301.59    301.61  1419613.0\n",
       "2019-09-12 15:55:00  301.5900  301.6500  301.55    301.65  2026258.0\n",
       "2019-09-12 16:00:00  301.6400  301.6600  301.15    301.27  2929874.0\n",
       "\n",
       "[15000 rows x 5 columns]>"
      ]
     },
     "execution_count": 15,
     "metadata": {},
     "output_type": "execute_result"
    }
   ],
   "source": [
    "data.info"
   ]
  },
  {
   "cell_type": "code",
   "execution_count": 33,
   "metadata": {},
   "outputs": [
    {
     "data": {
      "text/html": [
       "<div>\n",
       "<style scoped>\n",
       "    .dataframe tbody tr th:only-of-type {\n",
       "        vertical-align: middle;\n",
       "    }\n",
       "\n",
       "    .dataframe tbody tr th {\n",
       "        vertical-align: top;\n",
       "    }\n",
       "\n",
       "    .dataframe thead th {\n",
       "        text-align: right;\n",
       "    }\n",
       "</style>\n",
       "<table border=\"1\" class=\"dataframe\">\n",
       "  <thead>\n",
       "    <tr style=\"text-align: right;\">\n",
       "      <th></th>\n",
       "      <th>1. open</th>\n",
       "      <th>2. high</th>\n",
       "      <th>3. low</th>\n",
       "      <th>4. close</th>\n",
       "      <th>5. volume</th>\n",
       "    </tr>\n",
       "    <tr>\n",
       "      <th>date</th>\n",
       "      <th></th>\n",
       "      <th></th>\n",
       "      <th></th>\n",
       "      <th></th>\n",
       "      <th></th>\n",
       "    </tr>\n",
       "  </thead>\n",
       "  <tbody>\n",
       "    <tr>\n",
       "      <th>2018-12-06 09:35:00</th>\n",
       "      <td>265.9200</td>\n",
       "      <td>266.22</td>\n",
       "      <td>265.13</td>\n",
       "      <td>266.09</td>\n",
       "      <td>8641302.0</td>\n",
       "    </tr>\n",
       "    <tr>\n",
       "      <th>2018-12-06 09:40:00</th>\n",
       "      <td>266.1011</td>\n",
       "      <td>267.13</td>\n",
       "      <td>265.96</td>\n",
       "      <td>267.05</td>\n",
       "      <td>3513860.0</td>\n",
       "    </tr>\n",
       "    <tr>\n",
       "      <th>2018-12-06 09:45:00</th>\n",
       "      <td>267.0600</td>\n",
       "      <td>267.06</td>\n",
       "      <td>266.39</td>\n",
       "      <td>266.72</td>\n",
       "      <td>2812788.0</td>\n",
       "    </tr>\n",
       "    <tr>\n",
       "      <th>2018-12-06 09:50:00</th>\n",
       "      <td>266.7500</td>\n",
       "      <td>266.99</td>\n",
       "      <td>265.92</td>\n",
       "      <td>265.99</td>\n",
       "      <td>2871757.0</td>\n",
       "    </tr>\n",
       "    <tr>\n",
       "      <th>2018-12-06 09:55:00</th>\n",
       "      <td>265.9500</td>\n",
       "      <td>266.06</td>\n",
       "      <td>264.68</td>\n",
       "      <td>264.70</td>\n",
       "      <td>3225076.0</td>\n",
       "    </tr>\n",
       "    <tr>\n",
       "      <th>...</th>\n",
       "      <td>...</td>\n",
       "      <td>...</td>\n",
       "      <td>...</td>\n",
       "      <td>...</td>\n",
       "      <td>...</td>\n",
       "    </tr>\n",
       "    <tr>\n",
       "      <th>2018-12-06 15:40:00</th>\n",
       "      <td>268.4700</td>\n",
       "      <td>268.72</td>\n",
       "      <td>268.30</td>\n",
       "      <td>268.57</td>\n",
       "      <td>2517921.0</td>\n",
       "    </tr>\n",
       "    <tr>\n",
       "      <th>2018-12-06 15:45:00</th>\n",
       "      <td>268.5400</td>\n",
       "      <td>268.93</td>\n",
       "      <td>268.05</td>\n",
       "      <td>268.86</td>\n",
       "      <td>2990647.0</td>\n",
       "    </tr>\n",
       "    <tr>\n",
       "      <th>2018-12-06 15:50:00</th>\n",
       "      <td>268.8600</td>\n",
       "      <td>269.56</td>\n",
       "      <td>268.76</td>\n",
       "      <td>269.48</td>\n",
       "      <td>4573645.0</td>\n",
       "    </tr>\n",
       "    <tr>\n",
       "      <th>2018-12-06 15:55:00</th>\n",
       "      <td>269.4700</td>\n",
       "      <td>269.79</td>\n",
       "      <td>269.26</td>\n",
       "      <td>269.59</td>\n",
       "      <td>7969420.0</td>\n",
       "    </tr>\n",
       "    <tr>\n",
       "      <th>2018-12-06 16:00:00</th>\n",
       "      <td>269.5900</td>\n",
       "      <td>269.94</td>\n",
       "      <td>269.45</td>\n",
       "      <td>269.94</td>\n",
       "      <td>8672526.0</td>\n",
       "    </tr>\n",
       "  </tbody>\n",
       "</table>\n",
       "<p>78 rows × 5 columns</p>\n",
       "</div>"
      ],
      "text/plain": [
       "                      1. open  2. high  3. low  4. close  5. volume\n",
       "date                                                               \n",
       "2018-12-06 09:35:00  265.9200   266.22  265.13    266.09  8641302.0\n",
       "2018-12-06 09:40:00  266.1011   267.13  265.96    267.05  3513860.0\n",
       "2018-12-06 09:45:00  267.0600   267.06  266.39    266.72  2812788.0\n",
       "2018-12-06 09:50:00  266.7500   266.99  265.92    265.99  2871757.0\n",
       "2018-12-06 09:55:00  265.9500   266.06  264.68    264.70  3225076.0\n",
       "...                       ...      ...     ...       ...        ...\n",
       "2018-12-06 15:40:00  268.4700   268.72  268.30    268.57  2517921.0\n",
       "2018-12-06 15:45:00  268.5400   268.93  268.05    268.86  2990647.0\n",
       "2018-12-06 15:50:00  268.8600   269.56  268.76    269.48  4573645.0\n",
       "2018-12-06 15:55:00  269.4700   269.79  269.26    269.59  7969420.0\n",
       "2018-12-06 16:00:00  269.5900   269.94  269.45    269.94  8672526.0\n",
       "\n",
       "[78 rows x 5 columns]"
      ]
     },
     "execution_count": 33,
     "metadata": {},
     "output_type": "execute_result"
    }
   ],
   "source": [
    "data[[\"2018-12-06\" in _ for _ in data.index]]"
   ]
  },
  {
   "cell_type": "code",
   "execution_count": null,
   "metadata": {},
   "outputs": [],
   "source": [
    "d=data[[\"2018-12-06\" in _ for _ in data.index]]['4. close'][-1]\n",
    "print(d)"
   ]
  },
  {
   "cell_type": "code",
   "execution_count": null,
   "metadata": {},
   "outputs": [],
   "source": [
    "date_set=set()\n",
    "for i in data.index:\n",
    "    date_set.add(str(i).split()[0])\n",
    "print(sorted(list(date_set)))"
   ]
  },
  {
   "cell_type": "code",
   "execution_count": null,
   "metadata": {},
   "outputs": [],
   "source": [
    "len(date_set)"
   ]
  },
  {
   "cell_type": "code",
   "execution_count": null,
   "metadata": {},
   "outputs": [],
   "source": [
    "print(1)"
   ]
  },
  {
   "cell_type": "code",
   "execution_count": null,
   "metadata": {},
   "outputs": [],
   "source": []
  },
  {
   "cell_type": "code",
   "execution_count": null,
   "metadata": {},
   "outputs": [],
   "source": []
  },
  {
   "cell_type": "code",
   "execution_count": null,
   "metadata": {},
   "outputs": [],
   "source": []
  }
 ],
 "metadata": {
  "kernelspec": {
   "display_name": "Python 3",
   "language": "python",
   "name": "python3"
  },
  "language_info": {
   "codemirror_mode": {
    "name": "ipython",
    "version": 3
   },
   "file_extension": ".py",
   "mimetype": "text/x-python",
   "name": "python",
   "nbconvert_exporter": "python",
   "pygments_lexer": "ipython3",
   "version": "3.6.9"
  }
 },
 "nbformat": 4,
 "nbformat_minor": 2
}
