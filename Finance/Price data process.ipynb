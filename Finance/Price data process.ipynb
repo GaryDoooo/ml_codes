{
 "cells": [
  {
   "cell_type": "code",
   "execution_count": null,
   "metadata": {
    "collapsed": true
   },
   "outputs": [],
   "source": [
    "import datetime as dt\n",
    "import matplotlib.pyplot as plt\n",
    "from matplotlib import style\n",
    "import pandas as pd\n",
    "import pandas_datareader.data as web\n",
    "import pickle                                                                \n"
   ]
  },
  {
   "cell_type": "code",
   "execution_count": 2,
   "metadata": {
    "collapsed": false
   },
   "outputs": [
    {
     "name": "stdout",
     "output_type": "stream",
     "text": [
      "                Open      High       Low     Close  Adj Close   Volume\n",
      "Date                                                                  \n",
      "1990-01-02  19.84375  20.15625  19.78125  20.12500   9.334455  1496000\n",
      "1990-01-03  20.15625  20.46875  20.12500  20.34375   9.435915  2631600\n",
      "1990-01-04  20.21875  20.75000  20.21875  20.50000   9.508387  2538400\n",
      "1990-01-05  20.40625  20.50000  20.15625  20.15625   9.348946  1825600\n",
      "1990-01-08  20.12500  20.71875  20.12500  20.68750   9.595356  2164400\n"
     ]
    }
   ],
   "source": [
    "df = pickle.load(open(\"MMM.p\", \"rb\"))                                        \n",
    "                                                                             \n",
    "print df.head()"
   ]
  },
  {
   "cell_type": "code",
   "execution_count": null,
   "metadata": {
    "collapsed": true
   },
   "outputs": [],
   "source": [
    "# Calculate moving average lines\n",
    "df['100ma']=df['Adj Close'].rolling(window=100,min_periods=0).mean()\n",
    "df['5ma']=df['Adj Close'].rolling(window=5,min_periods=0).mean()\n",
    "df['10ma']=df['Adj Close'].rolling(window=10,min_periods=0).mean()\n",
    "df['20ma']=df['Adj Close'].rolling(window=20,min_periods=0).mean()\n",
    "df['50ma']=df['Adj Close'].rolling(window=50,min_periods=0).mean()"
   ]
  },
  {
   "cell_type": "code",
   "execution_count": null,
   "metadata": {
    "collapsed": false
   },
   "outputs": [],
   "source": [
    "print df['10ma'].head()"
   ]
  },
  {
   "cell_type": "code",
   "execution_count": null,
   "metadata": {
    "collapsed": true
   },
   "outputs": [],
   "source": []
  }
 ],
 "metadata": {
  "kernelspec": {
   "display_name": "Python 2",
   "language": "python",
   "name": "python2"
  },
  "language_info": {
   "codemirror_mode": {
    "name": "ipython",
    "version": 2
   },
   "file_extension": ".py",
   "mimetype": "text/x-python",
   "name": "python",
   "nbconvert_exporter": "python",
   "pygments_lexer": "ipython2",
   "version": "2.7.12"
  }
 },
 "nbformat": 4,
 "nbformat_minor": 2
}
