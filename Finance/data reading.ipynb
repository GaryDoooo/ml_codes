{
 "cells": [
  {
   "cell_type": "code",
   "execution_count": 5,
   "metadata": {
    "collapsed": true
   },
   "outputs": [],
   "source": [
    "import datetime as dt\n",
    "import matplotlib.pyplot as plt\n",
    "from matplotlib import style\n",
    "import pandas as pd\n",
    "import pandas_datareader.data as web"
   ]
  },
  {
   "cell_type": "code",
   "execution_count": 4,
   "metadata": {
    "collapsed": true
   },
   "outputs": [],
   "source": [
    "style.use('ggplot')\n",
    "start = dt.datetime(2011,1,1)\n",
    "end = dt.datetime(2015,1,1)\n",
    "df=web.DataReader('TQQQ','yahoo',start,end)"
   ]
  },
  {
   "cell_type": "code",
   "execution_count": 5,
   "metadata": {},
   "outputs": [
    {
     "data": {
      "text/html": [
       "<div>\n",
       "<table border=\"1\" class=\"dataframe\">\n",
       "  <thead>\n",
       "    <tr style=\"text-align: right;\">\n",
       "      <th></th>\n",
       "      <th>Open</th>\n",
       "      <th>High</th>\n",
       "      <th>Low</th>\n",
       "      <th>Close</th>\n",
       "      <th>Adj Close</th>\n",
       "      <th>Volume</th>\n",
       "    </tr>\n",
       "    <tr>\n",
       "      <th>Date</th>\n",
       "      <th></th>\n",
       "      <th></th>\n",
       "      <th></th>\n",
       "      <th></th>\n",
       "      <th></th>\n",
       "      <th></th>\n",
       "    </tr>\n",
       "  </thead>\n",
       "  <tbody>\n",
       "    <tr>\n",
       "      <th>2011-01-03</th>\n",
       "      <td>9.488125</td>\n",
       "      <td>9.850625</td>\n",
       "      <td>9.486875</td>\n",
       "      <td>9.660000</td>\n",
       "      <td>9.655790</td>\n",
       "      <td>5563200</td>\n",
       "    </tr>\n",
       "    <tr>\n",
       "      <th>2011-01-04</th>\n",
       "      <td>9.781250</td>\n",
       "      <td>9.783750</td>\n",
       "      <td>9.460625</td>\n",
       "      <td>9.645000</td>\n",
       "      <td>9.640799</td>\n",
       "      <td>5480000</td>\n",
       "    </tr>\n",
       "    <tr>\n",
       "      <th>2011-01-05</th>\n",
       "      <td>9.549375</td>\n",
       "      <td>9.888750</td>\n",
       "      <td>9.536875</td>\n",
       "      <td>9.884375</td>\n",
       "      <td>9.880068</td>\n",
       "      <td>5120000</td>\n",
       "    </tr>\n",
       "    <tr>\n",
       "      <th>2011-01-06</th>\n",
       "      <td>9.919375</td>\n",
       "      <td>9.996875</td>\n",
       "      <td>9.858125</td>\n",
       "      <td>9.973750</td>\n",
       "      <td>9.969404</td>\n",
       "      <td>4355200</td>\n",
       "    </tr>\n",
       "    <tr>\n",
       "      <th>2011-01-07</th>\n",
       "      <td>10.024375</td>\n",
       "      <td>10.041250</td>\n",
       "      <td>9.661875</td>\n",
       "      <td>9.950625</td>\n",
       "      <td>9.946290</td>\n",
       "      <td>6350400</td>\n",
       "    </tr>\n",
       "  </tbody>\n",
       "</table>\n",
       "</div>"
      ],
      "text/plain": [
       "                 Open       High       Low     Close  Adj Close   Volume\n",
       "Date                                                                    \n",
       "2011-01-03   9.488125   9.850625  9.486875  9.660000   9.655790  5563200\n",
       "2011-01-04   9.781250   9.783750  9.460625  9.645000   9.640799  5480000\n",
       "2011-01-05   9.549375   9.888750  9.536875  9.884375   9.880068  5120000\n",
       "2011-01-06   9.919375   9.996875  9.858125  9.973750   9.969404  4355200\n",
       "2011-01-07  10.024375  10.041250  9.661875  9.950625   9.946290  6350400"
      ]
     },
     "execution_count": 5,
     "metadata": {},
     "output_type": "execute_result"
    }
   ],
   "source": [
    "df.head()"
   ]
  },
  {
   "cell_type": "code",
   "execution_count": 6,
   "metadata": {
    "collapsed": true
   },
   "outputs": [],
   "source": [
    "df.to_csv('tqqq.csv')"
   ]
  },
  {
   "cell_type": "code",
   "execution_count": 8,
   "metadata": {},
   "outputs": [
    {
     "data": {
      "text/html": [
       "<div>\n",
       "<table border=\"1\" class=\"dataframe\">\n",
       "  <thead>\n",
       "    <tr style=\"text-align: right;\">\n",
       "      <th></th>\n",
       "      <th>Open</th>\n",
       "      <th>High</th>\n",
       "      <th>Low</th>\n",
       "      <th>Close</th>\n",
       "      <th>Adj Close</th>\n",
       "      <th>Volume</th>\n",
       "    </tr>\n",
       "    <tr>\n",
       "      <th>Date</th>\n",
       "      <th></th>\n",
       "      <th></th>\n",
       "      <th></th>\n",
       "      <th></th>\n",
       "      <th></th>\n",
       "      <th></th>\n",
       "    </tr>\n",
       "  </thead>\n",
       "  <tbody>\n",
       "    <tr>\n",
       "      <th>2011-01-03</th>\n",
       "      <td>9.488125</td>\n",
       "      <td>9.850625</td>\n",
       "      <td>9.486875</td>\n",
       "      <td>9.660000</td>\n",
       "      <td>9.655790</td>\n",
       "      <td>5563200</td>\n",
       "    </tr>\n",
       "    <tr>\n",
       "      <th>2011-01-04</th>\n",
       "      <td>9.781250</td>\n",
       "      <td>9.783750</td>\n",
       "      <td>9.460625</td>\n",
       "      <td>9.645000</td>\n",
       "      <td>9.640799</td>\n",
       "      <td>5480000</td>\n",
       "    </tr>\n",
       "    <tr>\n",
       "      <th>2011-01-05</th>\n",
       "      <td>9.549375</td>\n",
       "      <td>9.888750</td>\n",
       "      <td>9.536875</td>\n",
       "      <td>9.884375</td>\n",
       "      <td>9.880068</td>\n",
       "      <td>5120000</td>\n",
       "    </tr>\n",
       "    <tr>\n",
       "      <th>2011-01-06</th>\n",
       "      <td>9.919375</td>\n",
       "      <td>9.996875</td>\n",
       "      <td>9.858125</td>\n",
       "      <td>9.973750</td>\n",
       "      <td>9.969404</td>\n",
       "      <td>4355200</td>\n",
       "    </tr>\n",
       "    <tr>\n",
       "      <th>2011-01-07</th>\n",
       "      <td>10.024375</td>\n",
       "      <td>10.041250</td>\n",
       "      <td>9.661875</td>\n",
       "      <td>9.950625</td>\n",
       "      <td>9.946290</td>\n",
       "      <td>6350400</td>\n",
       "    </tr>\n",
       "  </tbody>\n",
       "</table>\n",
       "</div>"
      ],
      "text/plain": [
       "                 Open       High       Low     Close  Adj Close   Volume\n",
       "Date                                                                    \n",
       "2011-01-03   9.488125   9.850625  9.486875  9.660000   9.655790  5563200\n",
       "2011-01-04   9.781250   9.783750  9.460625  9.645000   9.640799  5480000\n",
       "2011-01-05   9.549375   9.888750  9.536875  9.884375   9.880068  5120000\n",
       "2011-01-06   9.919375   9.996875  9.858125  9.973750   9.969404  4355200\n",
       "2011-01-07  10.024375  10.041250  9.661875  9.950625   9.946290  6350400"
      ]
     },
     "execution_count": 8,
     "metadata": {},
     "output_type": "execute_result"
    }
   ],
   "source": [
    "df=pd.read_csv('tqqq.csv',parse_dates=True, index_col=0)\n",
    "df.head()"
   ]
  },
  {
   "cell_type": "code",
   "execution_count": 11,
   "metadata": {},
   "outputs": [],
   "source": [
    "df['100ma']=df['Adj Close'].rolling(window=100,min_periods=0).mean()"
   ]
  },
  {
   "cell_type": "code",
   "execution_count": 25,
   "metadata": {},
   "outputs": [
    {
     "name": "stdout",
     "output_type": "stream",
     "text": [
      "                 Open       High       Low     Close  Adj Close   Volume  \\\n",
      "Date                                                                       \n",
      "2011-01-03   9.488125   9.850625  9.486875  9.660000   9.655790  5563200   \n",
      "2011-01-04   9.781250   9.783750  9.460625  9.645000   9.640799  5480000   \n",
      "2011-01-05   9.549375   9.888750  9.536875  9.884375   9.880068  5120000   \n",
      "2011-01-06   9.919375   9.996875  9.858125  9.973750   9.969404  4355200   \n",
      "2011-01-07  10.024375  10.041250  9.661875  9.950625   9.946290  6350400   \n",
      "\n",
      "               100ma  \n",
      "Date                  \n",
      "2011-01-03  9.655790  \n",
      "2011-01-04  9.648295  \n",
      "2011-01-05  9.725552  \n",
      "2011-01-06  9.786515  \n",
      "2011-01-07  9.818470  \n"
     ]
    }
   ],
   "source": [
    "print df.head()"
   ]
  },
  {
   "cell_type": "code",
   "execution_count": 15,
   "metadata": {},
   "outputs": [
    {
     "data": {
      "image/png": "[encoded data removed]",
      "text/plain": [
       "<matplotlib.figure.Figure at 0x7f3d5bdffad0>"
      ]
     },
     "metadata": {},
     "output_type": "display_data"
    }
   ],
   "source": [
    "ax1 = plt.subplot2grid((6,1),(0,0),rowspan=5,colspan=1)\n",
    "ax2 = plt.subplot2grid((6,1),(5,0),rowspan=5,colspan=1)\n",
    "\n",
    "ax1.plot(df.index, df['Adj Close'])\n",
    "ax1.plot(df.index, df['100ma'])\n",
    "ax2.bar(df.index, df['Volume'])\n",
    "\n",
    "plt.show()"
   ]
  },
  {
   "cell_type": "code",
   "execution_count": 30,
   "metadata": {
    "scrolled": true
   },
   "outputs": [
    {
     "name": "stdout",
     "output_type": "stream",
     "text": [
      "                 open       high        low      close\n",
      "Date                                                  \n",
      "2011-01-03   9.655790  10.309257   9.640799  10.309257\n",
      "2011-01-13  10.341742  10.650356   9.832588   9.832588\n",
      "2011-01-23  10.238661  10.634739   9.832588  10.532284\n",
      "2011-02-02  10.484805  11.316317  10.484805  11.316317\n",
      "2011-02-12  11.387536  11.568083  11.358174  11.492491\n",
      "                 High       Open        Low  Adj Close\n",
      "Date                                                  \n",
      "2011-01-03  10.320000   9.488125   9.460625  10.309257\n",
      "2011-01-13  10.709375  10.350625   9.830000   9.832588\n",
      "2011-01-23  10.728125   9.891875   9.656250  10.532284\n",
      "2011-02-02  11.328125  10.481250  10.179375  11.316317\n",
      "2011-02-12  11.664375  11.318750  11.201250  11.492491\n"
     ]
    },
    {
     "data": {
      "text/html": [
       "<div>\n",
       "<table border=\"1\" class=\"dataframe\">\n",
       "  <thead>\n",
       "    <tr style=\"text-align: right;\">\n",
       "      <th></th>\n",
       "      <th>Open</th>\n",
       "      <th>High</th>\n",
       "      <th>Low</th>\n",
       "      <th>Close</th>\n",
       "      <th>Adj Close</th>\n",
       "      <th>Volume</th>\n",
       "      <th>100ma</th>\n",
       "    </tr>\n",
       "    <tr>\n",
       "      <th>Date</th>\n",
       "      <th></th>\n",
       "      <th></th>\n",
       "      <th></th>\n",
       "      <th></th>\n",
       "      <th></th>\n",
       "      <th></th>\n",
       "      <th></th>\n",
       "    </tr>\n",
       "  </thead>\n",
       "  <tbody>\n",
       "    <tr>\n",
       "      <th>2011-01-03</th>\n",
       "      <td>9.488125</td>\n",
       "      <td>9.850625</td>\n",
       "      <td>9.486875</td>\n",
       "      <td>9.660000</td>\n",
       "      <td>9.655790</td>\n",
       "      <td>5563200</td>\n",
       "      <td>9.655790</td>\n",
       "    </tr>\n",
       "    <tr>\n",
       "      <th>2011-01-04</th>\n",
       "      <td>9.781250</td>\n",
       "      <td>9.783750</td>\n",
       "      <td>9.460625</td>\n",
       "      <td>9.645000</td>\n",
       "      <td>9.640799</td>\n",
       "      <td>5480000</td>\n",
       "      <td>9.648295</td>\n",
       "    </tr>\n",
       "    <tr>\n",
       "      <th>2011-01-05</th>\n",
       "      <td>9.549375</td>\n",
       "      <td>9.888750</td>\n",
       "      <td>9.536875</td>\n",
       "      <td>9.884375</td>\n",
       "      <td>9.880068</td>\n",
       "      <td>5120000</td>\n",
       "      <td>9.725552</td>\n",
       "    </tr>\n",
       "    <tr>\n",
       "      <th>2011-01-06</th>\n",
       "      <td>9.919375</td>\n",
       "      <td>9.996875</td>\n",
       "      <td>9.858125</td>\n",
       "      <td>9.973750</td>\n",
       "      <td>9.969404</td>\n",
       "      <td>4355200</td>\n",
       "      <td>9.786515</td>\n",
       "    </tr>\n",
       "    <tr>\n",
       "      <th>2011-01-07</th>\n",
       "      <td>10.024375</td>\n",
       "      <td>10.041250</td>\n",
       "      <td>9.661875</td>\n",
       "      <td>9.950625</td>\n",
       "      <td>9.946290</td>\n",
       "      <td>6350400</td>\n",
       "      <td>9.818470</td>\n",
       "    </tr>\n",
       "    <tr>\n",
       "      <th>2011-01-10</th>\n",
       "      <td>9.875000</td>\n",
       "      <td>10.113125</td>\n",
       "      <td>9.809375</td>\n",
       "      <td>10.062500</td>\n",
       "      <td>10.058115</td>\n",
       "      <td>3585600</td>\n",
       "      <td>9.858411</td>\n",
       "    </tr>\n",
       "    <tr>\n",
       "      <th>2011-01-11</th>\n",
       "      <td>10.185000</td>\n",
       "      <td>10.206875</td>\n",
       "      <td>10.005625</td>\n",
       "      <td>10.108750</td>\n",
       "      <td>10.104345</td>\n",
       "      <td>4580800</td>\n",
       "      <td>9.893544</td>\n",
       "    </tr>\n",
       "    <tr>\n",
       "      <th>2011-01-12</th>\n",
       "      <td>10.248750</td>\n",
       "      <td>10.320000</td>\n",
       "      <td>10.130625</td>\n",
       "      <td>10.313750</td>\n",
       "      <td>10.309257</td>\n",
       "      <td>5587200</td>\n",
       "      <td>9.945508</td>\n",
       "    </tr>\n",
       "    <tr>\n",
       "      <th>2011-01-13</th>\n",
       "      <td>10.350625</td>\n",
       "      <td>10.409375</td>\n",
       "      <td>10.246875</td>\n",
       "      <td>10.346250</td>\n",
       "      <td>10.341742</td>\n",
       "      <td>5476800</td>\n",
       "      <td>9.989534</td>\n",
       "    </tr>\n",
       "    <tr>\n",
       "      <th>2011-01-14</th>\n",
       "      <td>10.341250</td>\n",
       "      <td>10.573750</td>\n",
       "      <td>10.273750</td>\n",
       "      <td>10.570625</td>\n",
       "      <td>10.566019</td>\n",
       "      <td>2553600</td>\n",
       "      <td>10.047183</td>\n",
       "    </tr>\n",
       "  </tbody>\n",
       "</table>\n",
       "</div>"
      ],
      "text/plain": [
       "                 Open       High        Low      Close  Adj Close   Volume  \\\n",
       "Date                                                                         \n",
       "2011-01-03   9.488125   9.850625   9.486875   9.660000   9.655790  5563200   \n",
       "2011-01-04   9.781250   9.783750   9.460625   9.645000   9.640799  5480000   \n",
       "2011-01-05   9.549375   9.888750   9.536875   9.884375   9.880068  5120000   \n",
       "2011-01-06   9.919375   9.996875   9.858125   9.973750   9.969404  4355200   \n",
       "2011-01-07  10.024375  10.041250   9.661875   9.950625   9.946290  6350400   \n",
       "2011-01-10   9.875000  10.113125   9.809375  10.062500  10.058115  3585600   \n",
       "2011-01-11  10.185000  10.206875  10.005625  10.108750  10.104345  4580800   \n",
       "2011-01-12  10.248750  10.320000  10.130625  10.313750  10.309257  5587200   \n",
       "2011-01-13  10.350625  10.409375  10.246875  10.346250  10.341742  5476800   \n",
       "2011-01-14  10.341250  10.573750  10.273750  10.570625  10.566019  2553600   \n",
       "\n",
       "                100ma  \n",
       "Date                   \n",
       "2011-01-03   9.655790  \n",
       "2011-01-04   9.648295  \n",
       "2011-01-05   9.725552  \n",
       "2011-01-06   9.786515  \n",
       "2011-01-07   9.818470  \n",
       "2011-01-10   9.858411  \n",
       "2011-01-11   9.893544  \n",
       "2011-01-12   9.945508  \n",
       "2011-01-13   9.989534  \n",
       "2011-01-14  10.047183  "
      ]
     },
     "execution_count": 30,
     "metadata": {},
     "output_type": "execute_result"
    }
   ],
   "source": [
    "from matplotlib.finance import candlestick_ohlc\n",
    "import matplotlib.dates as mdates\n",
    "\n",
    "df_ohlc=df['Adj Close'].resample('10D').ohlc()\n",
    "df_volume=df['Volume'].resample('10D').sum()\n",
    "\n",
    "df_ohlc2=df.resample('10D').agg({'Open':'first',\n",
    "                                'High': 'max',\n",
    "                                'Low': 'min',\n",
    "                                'Adj Close': 'last'})\n",
    "print df_ohlc.head()\n",
    "print df_ohlc2.head()\n",
    "df.head(10)"
   ]
  },
  {
   "cell_type": "code",
   "execution_count": 31,
   "metadata": {},
   "outputs": [
    {
     "name": "stdout",
     "output_type": "stream",
     "text": [
      "        Date       High       Open        Low  Adj Close\n",
      "0 2011-01-03  10.320000   9.488125   9.460625  10.309257\n",
      "1 2011-01-13  10.709375  10.350625   9.830000   9.832588\n",
      "2 2011-01-23  10.728125   9.891875   9.656250  10.532284\n",
      "3 2011-02-02  11.328125  10.481250  10.179375  11.316317\n",
      "4 2011-02-12  11.664375  11.318750  11.201250  11.492491\n"
     ]
    }
   ],
   "source": [
    "df_ohlc2.reset_index(inplace=True)\n",
    "print df_ohlc2.head()"
   ]
  },
  {
   "cell_type": "code",
   "execution_count": 32,
   "metadata": {},
   "outputs": [],
   "source": [
    "\n",
    "\n",
    "df_ohlc2['Date']=df_ohlc2['Date'].map(mdates.date2num)"
   ]
  },
  {
   "cell_type": "code",
   "execution_count": 43,
   "metadata": {},
   "outputs": [
    {
     "data": {
      "image/png": "[encoded data removed]",
      "text/plain": [
       "<matplotlib.figure.Figure at 0x7f3d5bd4c990>"
      ]
     },
     "metadata": {},
     "output_type": "display_data"
    }
   ],
   "source": [
    "plt.figure(num=None, figsize=(16, 9), dpi=80, facecolor='w', edgecolor='k')\n",
    "ax1 = plt.subplot2grid((6,1),(0,0),rowspan=5,colspan=1)\n",
    "ax2 = plt.subplot2grid((6,1),(5,0),rowspan=5,colspan=1,sharex=ax1)\n",
    "ax1.xaxis_date()\n",
    "\n",
    "candlestick_ohlc(ax1,df_ohlc2.values,width=2, colorup='#77d879')\n",
    "# I don't know why the candle stick's color won't change\n",
    "\n",
    "ax2.fill_between(df_volume.index.map(mdates.date2num),df_volume.values,0)\n",
    "\n",
    "plt.show()"
   ]
  },
  {
   "cell_type": "code",
   "execution_count": 2,
   "metadata": {
    "scrolled": true
   },
   "outputs": [
    {
     "name": "stdout",
     "output_type": "stream",
     "text": [
      "[['MMM'], ['ACE'], ['ABT'], ['ANF'], ['ACN'], ['ADBE'], ['AMD'], ['AES'], ['AET'], ['AFL'], ['A'], ['GAS'], ['APD'], ['ARG'], ['AKAM'], ['AA'], ['ALXN'], ['ATI'], ['AGN'], ['ALL'], ['ANR'], ['ALTR'], ['MO'], ['AMZN'], ['AEE'], ['AEP'], ['AXP'], ['AIG'], ['AMT'], ['AMP'], ['ABC'], ['AMGN'], ['APH'], ['APC'], ['ADI'], ['AON'], ['APA'], ['AIV'], ['APOL'], ['AAPL'], ['AMAT'], ['ADM'], ['AIZ'], ['T'], ['ADSK'], ['ADP'], ['AN'], ['AZO'], ['AVB'], ['AVY'], ['AVP'], ['BHI'], ['BLL'], ['BAC'], ['BK'], ['BCR'], ['BAX'], ['BBT'], ['BEAM'], ['BDX'], ['BBBY'], ['BMS'], ['BRK.B'], ['BBY'], ['BIG'], ['BIIB'], ['BLK'], ['HRB'], ['BMC'], ['BA'], ['BWA'], ['BXP'], ['BSX'], ['BMY'], ['BRCM'], ['BF.B'], ['CHRW'], ['CA'], ['CVC'], ['COG'], ['CAM'], ['CPB'], ['COF'], ['CAH'], ['CFN'], ['KMX'], ['CCL'], ['CAT'], ['CBG'], ['CBS'], ['CELG'], ['CNP'], ['CTL'], ['CERN'], ['CF'], ['SCHW'], ['CHK'], ['CVX'], ['CMG'], ['CB'], ['CI'], ['CINF'], ['CTAS'], ['CSCO'], ['C'], ['CTXS'], ['CLF'], ['CLX'], ['CME'], ['CMS'], ['COH'], ['KO'], ['CCE'], ['CTSH'], ['CL'], ['CMCSA'], ['CMA'], ['CSC'], ['CAG'], ['COP'], ['CNX'], ['ED'], ['STZ'], ['CBE'], ['GLW'], ['COST'], ['CVH'], ['COV'], ['CCI'], ['CSX'], ['CMI'], ['CVS'], ['DHI'], ['DHR'], ['DRI'], ['DVA'], ['DF'], ['DE'], ['DELL'], ['DNR'], ['XRAY'], ['DVN'], ['DV'], ['DO'], ['DTV'], ['DFS'], ['DISCA'], ['DLTR'], ['D'], ['RRD'], ['DOV'], ['DOW'], ['DPS'], ['DTE'], ['DD'], ['DUK'], ['DNB'], ['ETFC'], ['EMN'], ['ETN'], ['EBAY'], ['ECL'], ['EIX'], ['EW'], ['EA'], ['EMC'], ['EMR'], ['ESV'], ['ETR'], ['EOG'], ['EQT'], ['EFX'], ['EQR'], ['EL'], ['EXC'], ['EXPE'], ['EXPD'], ['ESRX'], ['XOM'], ['FFIV'], ['FDO'], ['FAST'], ['FII'], ['FDX'], ['FIS'], ['FITB'], ['FHN'], ['FSLR'], ['FE'], ['FISV'], ['FLIR'], ['FLS'], ['FLR'], ['FMC'], ['FTI'], ['F'], ['FRX'], ['FOSL'], ['BEN'], ['FCX'], ['FTR'], ['GME'], ['GCI'], ['GPS'], ['GD'], ['GE'], ['GIS'], ['GPC'], ['GNW'], ['GILD'], ['GS'], ['GT'], ['GOOG'], ['GWW'], ['HAL'], ['HOG'], ['HAR'], ['HRS'], ['HIG'], ['HAS'], ['HCP'], ['HCN'], ['HNZ'], ['HP'], ['HES'], ['HPQ'], ['HD'], ['HON'], ['HRL'], ['HSP'], ['HST'], ['HCBK'], ['HUM'], ['HBAN'], ['ITW'], ['IR'], ['TEG'], ['INTC'], ['ICE'], ['IBM'], ['IFF'], ['IGT'], ['IP'], ['IPG'], ['INTU'], ['ISRG'], ['IVZ'], ['IRM'], ['JBL'], ['JEC'], ['JDSU'], ['JNJ'], ['JCI'], ['JOY'], ['JPM'], ['JNPR'], ['K'], ['KEY'], ['KMB'], ['KIM'], ['KMI'], ['KLAC'], ['KSS'], ['KFT'], ['KR'], ['LLL'], ['LH'], ['LRCX'], ['LM'], ['LEG'], ['LEN'], ['LUK'], ['LXK'], ['LIFE'], ['LLY'], ['LTD'], ['LNC'], ['LLTC'], ['LMT'], ['L'], ['LO'], ['LOW'], ['LSI'], ['MTB'], ['M'], ['MRO'], ['MPC'], ['MAR'], ['MMC'], ['MAS'], ['MA'], ['MAT'], ['MKC'], ['MCD'], ['MHP'], ['MCK'], ['MJN'], ['MWV'], ['MDT'], ['MRK'], ['MET'], ['PCS'], ['MCHP'], ['MU'], ['MSFT'], ['MOLX'], ['TAP'], ['MON'], ['MNST'], ['MCO'], ['MS'], ['MOS'], ['MSI'], ['MUR'], ['MYL'], ['NBR'], ['NDAQ'], ['NOV'], ['NTAP'], ['NFLX'], ['NWL'], ['NFX'], ['NEM'], ['NWSA'], ['NEE'], ['NKE'], ['NI'], ['NE'], ['NBL'], ['JWN'], ['NSC'], ['NTRS'], ['NOC'], ['NU'], ['NRG'], ['NUE'], ['NVDA'], ['NYX'], ['ORLY'], ['OXY'], ['OMC'], ['OKE'], ['ORCL'], ['OI'], ['PCAR'], ['PLL'], ['PH'], ['PDCO'], ['PAYX'], ['BTU'], ['JCP'], ['PBCT'], ['POM'], ['PEP'], ['PKI'], ['PRGO'], ['PFE'], ['PCG'], ['PM'], ['PSX'], ['PNW'], ['PXD'], ['PBI'], ['PCL'], ['PNC'], ['RL'], ['PPG'], ['PPL'], ['PX'], ['PCP'], ['PCLN'], ['PFG'], ['PG'], ['PGR'], ['PLD'], ['PRU'], ['PEG'], ['PSA'], ['PHM'], ['QEP'], ['PWR'], ['QCOM'], ['DGX'], ['RRC'], ['RTN'], ['RHT'], ['RF'], ['RSG'], ['RAI'], ['RHI'], ['ROK'], ['COL'], ['ROP'], ['ROST'], ['RDC'], ['R'], ['SWY'], ['SAI'], ['CRM'], ['SNDK'], ['SCG'], ['SLB'], ['SNI'], ['STX'], ['SEE'], ['SHLD'], ['SRE'], ['SHW'], ['SIAL'], ['SPG'], ['SLM'], ['SJM'], ['SNA'], ['SO'], ['LUV'], ['SWN'], ['SE'], ['S'], ['STJ'], ['SWK'], ['SPLS'], ['SBUX'], ['HOT'], ['STT'], ['SRCL'], ['SYK'], ['SUN'], ['STI'], ['SYMC'], ['SYY'], ['TROW'], ['TGT'], ['TEL'], ['TE'], ['THC'], ['TDC'], ['TER'], ['TSO'], ['TXN'], ['TXT'], ['HSY'], ['TRV'], ['TMO'], ['TIF'], ['TWX'], ['TWC'], ['TIE'], ['TJX'], ['TMK'], ['TSS'], ['TRIP'], ['TSN'], ['TYC'], ['USB'], ['UNP'], ['UNH'], ['UPS'], ['X'], ['UTX'], ['UNM'], ['URBN'], ['VFC'], ['VLO'], ['VAR'], ['VTR'], ['VRSN'], ['VZ'], ['VIAB'], ['V'], ['VNO'], ['VMC'], ['WMT'], ['WAG'], ['DIS'], ['WPO'], ['WM'], ['WAT'], ['WPI'], ['WLP'], ['WFC'], ['WDC'], ['WU'], ['WY'], ['WHR'], ['WFM'], ['WMB'], ['WIN'], ['WEC'], ['WPX'], ['WYN'], ['WYNN'], ['XEL'], ['XRX'], ['XLNX'], ['XL'], ['XYL'], ['YHOO'], ['YUM'], ['ZMH'], ['ZION']]\n"
     ]
    }
   ],
   "source": [
    "from gdu_modules import readcsv_strings_to_list as rt\n",
    "\n",
    "tickers=rt(\"sp500list.txt\")\n",
    "\n",
    "print tickers"
   ]
  },
  {
   "cell_type": "code",
   "execution_count": 23,
   "metadata": {},
   "outputs": [
    {
     "ename": "RemoteDataError",
     "evalue": "No data fetched using 'YahooDailyReader'",
     "output_type": "error",
     "traceback": [
      "\u001b[0;31m\u001b[0m",
      "\u001b[0;31mRemoteDataError\u001b[0mTraceback (most recent call last)",
      "\u001b[0;32m<ipython-input-23-9017d4e3e4ba>\u001b[0m in \u001b[0;36m<module>\u001b[0;34m()\u001b[0m\n\u001b[1;32m      2\u001b[0m \u001b[0mstart\u001b[0m \u001b[0;34m=\u001b[0m \u001b[0mdt\u001b[0m\u001b[0;34m.\u001b[0m\u001b[0mdatetime\u001b[0m\u001b[0;34m(\u001b[0m\u001b[0;36m2011\u001b[0m\u001b[0;34m,\u001b[0m\u001b[0;36m1\u001b[0m\u001b[0;34m,\u001b[0m\u001b[0;36m1\u001b[0m\u001b[0;34m)\u001b[0m\u001b[0;34m\u001b[0m\u001b[0m\n\u001b[1;32m      3\u001b[0m \u001b[0mend\u001b[0m \u001b[0;34m=\u001b[0m \u001b[0mdt\u001b[0m\u001b[0;34m.\u001b[0m\u001b[0mdatetime\u001b[0m\u001b[0;34m(\u001b[0m\u001b[0;36m2015\u001b[0m\u001b[0;34m,\u001b[0m\u001b[0;36m1\u001b[0m\u001b[0;34m,\u001b[0m\u001b[0;36m1\u001b[0m\u001b[0;34m)\u001b[0m\u001b[0;34m\u001b[0m\u001b[0m\n\u001b[0;32m----> 4\u001b[0;31m \u001b[0mdf\u001b[0m \u001b[0;34m=\u001b[0m \u001b[0mweb\u001b[0m\u001b[0;34m.\u001b[0m\u001b[0mDataReader\u001b[0m\u001b[0;34m(\u001b[0m\u001b[0mtickers\u001b[0m\u001b[0;34m[\u001b[0m\u001b[0;36m1\u001b[0m\u001b[0;34m]\u001b[0m\u001b[0;34m,\u001b[0m\u001b[0;34m'yahoo'\u001b[0m\u001b[0;34m,\u001b[0m\u001b[0mstart\u001b[0m\u001b[0;34m,\u001b[0m\u001b[0mend\u001b[0m\u001b[0;34m)\u001b[0m\u001b[0;34m\u001b[0m\u001b[0m\n\u001b[0m",
      "\u001b[0;32m/usr/local/lib/python2.7/dist-packages/pandas_datareader/data.pyc\u001b[0m in \u001b[0;36mDataReader\u001b[0;34m(name, data_source, start, end, retry_count, pause, session, access_key)\u001b[0m\n\u001b[1;32m    119\u001b[0m                                 \u001b[0madjust_price\u001b[0m\u001b[0;34m=\u001b[0m\u001b[0mFalse\u001b[0m\u001b[0;34m,\u001b[0m \u001b[0mchunksize\u001b[0m\u001b[0;34m=\u001b[0m\u001b[0;36m25\u001b[0m\u001b[0;34m,\u001b[0m\u001b[0;34m\u001b[0m\u001b[0m\n\u001b[1;32m    120\u001b[0m                                 \u001b[0mretry_count\u001b[0m\u001b[0;34m=\u001b[0m\u001b[0mretry_count\u001b[0m\u001b[0;34m,\u001b[0m \u001b[0mpause\u001b[0m\u001b[0;34m=\u001b[0m\u001b[0mpause\u001b[0m\u001b[0;34m,\u001b[0m\u001b[0;34m\u001b[0m\u001b[0m\n\u001b[0;32m--> 121\u001b[0;31m                                 session=session).read()\n\u001b[0m\u001b[1;32m    122\u001b[0m \u001b[0;34m\u001b[0m\u001b[0m\n\u001b[1;32m    123\u001b[0m     \u001b[0;32melif\u001b[0m \u001b[0mdata_source\u001b[0m \u001b[0;34m==\u001b[0m \u001b[0;34m\"yahoo-actions\"\u001b[0m\u001b[0;34m:\u001b[0m\u001b[0;34m\u001b[0m\u001b[0m\n",
      "\u001b[0;32m/usr/local/lib/python2.7/dist-packages/pandas_datareader/yahoo/daily.pyc\u001b[0m in \u001b[0;36mread\u001b[0;34m(self)\u001b[0m\n\u001b[1;32m    113\u001b[0m         \u001b[0;34m\"\"\" read one data from specified URL \"\"\"\u001b[0m\u001b[0;34m\u001b[0m\u001b[0m\n\u001b[1;32m    114\u001b[0m         \u001b[0;32mtry\u001b[0m\u001b[0;34m:\u001b[0m\u001b[0;34m\u001b[0m\u001b[0m\n\u001b[0;32m--> 115\u001b[0;31m             \u001b[0mdf\u001b[0m \u001b[0;34m=\u001b[0m \u001b[0msuper\u001b[0m\u001b[0;34m(\u001b[0m\u001b[0mYahooDailyReader\u001b[0m\u001b[0;34m,\u001b[0m \u001b[0mself\u001b[0m\u001b[0;34m)\u001b[0m\u001b[0;34m.\u001b[0m\u001b[0mread\u001b[0m\u001b[0;34m(\u001b[0m\u001b[0;34m)\u001b[0m\u001b[0;34m\u001b[0m\u001b[0m\n\u001b[0m\u001b[1;32m    116\u001b[0m             \u001b[0;32mif\u001b[0m \u001b[0mself\u001b[0m\u001b[0;34m.\u001b[0m\u001b[0mret_index\u001b[0m\u001b[0;34m:\u001b[0m\u001b[0;34m\u001b[0m\u001b[0m\n\u001b[1;32m    117\u001b[0m                 \u001b[0mdf\u001b[0m\u001b[0;34m[\u001b[0m\u001b[0;34m'Ret_Index'\u001b[0m\u001b[0;34m]\u001b[0m \u001b[0;34m=\u001b[0m \u001b[0m_calc_return_index\u001b[0m\u001b[0;34m(\u001b[0m\u001b[0mdf\u001b[0m\u001b[0;34m[\u001b[0m\u001b[0;34m'Adj Close'\u001b[0m\u001b[0;34m]\u001b[0m\u001b[0;34m)\u001b[0m\u001b[0;34m\u001b[0m\u001b[0m\n",
      "\u001b[0;32m/usr/local/lib/python2.7/dist-packages/pandas_datareader/base.pyc\u001b[0m in \u001b[0;36mread\u001b[0;34m(self)\u001b[0m\n\u001b[1;32m    184\u001b[0m             \u001b[0mdf\u001b[0m \u001b[0;34m=\u001b[0m \u001b[0mself\u001b[0m\u001b[0;34m.\u001b[0m\u001b[0m_dl_mult_symbols\u001b[0m\u001b[0;34m(\u001b[0m\u001b[0mself\u001b[0m\u001b[0;34m.\u001b[0m\u001b[0msymbols\u001b[0m\u001b[0;34m.\u001b[0m\u001b[0mindex\u001b[0m\u001b[0;34m)\u001b[0m\u001b[0;34m\u001b[0m\u001b[0m\n\u001b[1;32m    185\u001b[0m         \u001b[0;32melse\u001b[0m\u001b[0;34m:\u001b[0m\u001b[0;34m\u001b[0m\u001b[0m\n\u001b[0;32m--> 186\u001b[0;31m             \u001b[0mdf\u001b[0m \u001b[0;34m=\u001b[0m \u001b[0mself\u001b[0m\u001b[0;34m.\u001b[0m\u001b[0m_dl_mult_symbols\u001b[0m\u001b[0;34m(\u001b[0m\u001b[0mself\u001b[0m\u001b[0;34m.\u001b[0m\u001b[0msymbols\u001b[0m\u001b[0;34m)\u001b[0m\u001b[0;34m\u001b[0m\u001b[0m\n\u001b[0m\u001b[1;32m    187\u001b[0m         \u001b[0;32mreturn\u001b[0m \u001b[0mdf\u001b[0m\u001b[0;34m\u001b[0m\u001b[0m\n\u001b[1;32m    188\u001b[0m \u001b[0;34m\u001b[0m\u001b[0m\n",
      "\u001b[0;32m/usr/local/lib/python2.7/dist-packages/pandas_datareader/yahoo/daily.pyc\u001b[0m in \u001b[0;36m_dl_mult_symbols\u001b[0;34m(self, symbols)\u001b[0m\n\u001b[1;32m    139\u001b[0m         \u001b[0;32mif\u001b[0m \u001b[0mlen\u001b[0m\u001b[0;34m(\u001b[0m\u001b[0mpassed\u001b[0m\u001b[0;34m)\u001b[0m \u001b[0;34m==\u001b[0m \u001b[0;36m0\u001b[0m\u001b[0;34m:\u001b[0m\u001b[0;34m\u001b[0m\u001b[0m\n\u001b[1;32m    140\u001b[0m             \u001b[0mmsg\u001b[0m \u001b[0;34m=\u001b[0m \u001b[0;34m\"No data fetched using {0!r}\"\u001b[0m\u001b[0;34m\u001b[0m\u001b[0m\n\u001b[0;32m--> 141\u001b[0;31m             \u001b[0;32mraise\u001b[0m \u001b[0mRemoteDataError\u001b[0m\u001b[0;34m(\u001b[0m\u001b[0mmsg\u001b[0m\u001b[0;34m.\u001b[0m\u001b[0mformat\u001b[0m\u001b[0;34m(\u001b[0m\u001b[0mself\u001b[0m\u001b[0;34m.\u001b[0m\u001b[0m__class__\u001b[0m\u001b[0;34m.\u001b[0m\u001b[0m__name__\u001b[0m\u001b[0;34m)\u001b[0m\u001b[0;34m)\u001b[0m\u001b[0;34m\u001b[0m\u001b[0m\n\u001b[0m\u001b[1;32m    142\u001b[0m         \u001b[0;32mtry\u001b[0m\u001b[0;34m:\u001b[0m\u001b[0;34m\u001b[0m\u001b[0m\n\u001b[1;32m    143\u001b[0m             \u001b[0;32mif\u001b[0m \u001b[0mlen\u001b[0m\u001b[0;34m(\u001b[0m\u001b[0mstocks\u001b[0m\u001b[0;34m)\u001b[0m \u001b[0;34m>\u001b[0m \u001b[0;36m0\u001b[0m \u001b[0;32mand\u001b[0m \u001b[0mlen\u001b[0m\u001b[0;34m(\u001b[0m\u001b[0mfailed\u001b[0m\u001b[0;34m)\u001b[0m \u001b[0;34m>\u001b[0m \u001b[0;36m0\u001b[0m \u001b[0;32mand\u001b[0m \u001b[0mlen\u001b[0m\u001b[0;34m(\u001b[0m\u001b[0mpassed\u001b[0m\u001b[0;34m)\u001b[0m \u001b[0;34m>\u001b[0m \u001b[0;36m0\u001b[0m\u001b[0;34m:\u001b[0m\u001b[0;34m\u001b[0m\u001b[0m\n",
      "\u001b[0;31mRemoteDataError\u001b[0m: No data fetched using 'YahooDailyReader'"
     ]
    }
   ],
   "source": [
    "style.use('ggplot')\n",
    "start = dt.datetime(2011,1,1)\n",
    "end = dt.datetime(2015,1,1)\n",
    "df = web.DataReader(tickers[1],'yahoo',start,end)"
   ]
  },
  {
   "cell_type": "code",
   "execution_count": 24,
   "metadata": {},
   "outputs": [
    {
     "name": "stdout",
     "output_type": "stream",
     "text": [
      "['ACE']\n"
     ]
    }
   ],
   "source": [
    "print tickers[1]"
   ]
  },
  {
   "cell_type": "code",
   "execution_count": 60,
   "metadata": {},
   "outputs": [
    {
     "ename": "IndexError",
     "evalue": "list index out of range",
     "output_type": "error",
     "traceback": [
      "\u001b[0;31m\u001b[0m",
      "\u001b[0;31mIndexError\u001b[0mTraceback (most recent call last)",
      "\u001b[0;32m<ipython-input-60-b6a934feab86>\u001b[0m in \u001b[0;36m<module>\u001b[0;34m()\u001b[0m\n\u001b[0;32m----> 1\u001b[0;31m \u001b[0ma\u001b[0m\u001b[0;34m[\u001b[0m\u001b[0;36m5\u001b[0m\u001b[0;34m]\u001b[0m\u001b[0;34m\u001b[0m\u001b[0m\n\u001b[0m",
      "\u001b[0;31mIndexError\u001b[0m: list index out of range"
     ]
    }
   ],
   "source": [
    "a[5]"
   ]
  },
  {
   "cell_type": "code",
   "execution_count": null,
   "metadata": {
    "collapsed": true
   },
   "outputs": [],
   "source": []
  }
 ],
 "metadata": {
  "kernelspec": {
   "display_name": "Python 3",
   "language": "python",
   "name": "python3"
  },
  "language_info": {
   "codemirror_mode": {
    "name": "ipython",
    "version": 3
   },
   "file_extension": ".py",
   "mimetype": "text/x-python",
   "name": "python",
   "nbconvert_exporter": "python",
   "pygments_lexer": "ipython3",
   "version": "3.6.7"
  }
 },
 "nbformat": 4,
 "nbformat_minor": 2
}
