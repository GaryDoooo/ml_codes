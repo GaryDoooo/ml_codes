{
 "cells": [
  {
   "cell_type": "code",
   "execution_count": 1,
   "id": "57627109",
   "metadata": {},
   "outputs": [],
   "source": [
    "import numpy as np\n"
   ]
  },
  {
   "cell_type": "code",
   "execution_count": 8,
   "id": "2a41ec3b",
   "metadata": {},
   "outputs": [
    {
     "data": {
      "text/plain": [
       "array([[0., 0.],\n",
       "       [0., 0.],\n",
       "       [0., 0.]])"
      ]
     },
     "execution_count": 8,
     "metadata": {},
     "output_type": "execute_result"
    }
   ],
   "source": [
    "\n",
    "data=[[119,36],[45,55],[32,16]]\n",
    "a=np.array(data)\n",
    "np.sum(a,axis=0)\n",
    "np.zeros(a.shape)\n"
   ]
  },
  {
   "cell_type": "code",
   "execution_count": 17,
   "id": "5b03b24a",
   "metadata": {},
   "outputs": [],
   "source": [
    "#### Pearson Chi square\n",
    "# Expected frequency = (Row total * Column total) / Grand total\n",
    "# Calculate the chi-square statistic using the formula:\n",
    "# χ² = Σ [(O - E)² / E]\n",
    "# Where O is the observed frequency and E is the expected frequency for each cell.\n",
    "# Determine the degrees of freedom (df). For a contingency table, df = (rows - 1) * (columns - 1).\n",
    "\n",
    "import numpy as np\n",
    "from scipy.stats import chi2\n",
    "\n",
    "def chi_square(data,print_out=True):\n",
    "    a=np.array(data) # a stores the observed values\n",
    "    col_sum=np.sum(a,axis=0)\n",
    "    row_sum=np.sum(a,axis=1)\n",
    "    ttl_sum=np.sum(col_sum)\n",
    "    \n",
    "    chi_sq=0\n",
    "    for y in range(a.shape[0]):\n",
    "        for x in range(a.shape[1]):\n",
    "            expected =row_sum[y]*col_sum[x]/ttl_sum\n",
    "            chi_sq+=(a[y][x]-expected)**2/expected\n",
    "    \n",
    "    df=(a.shape[0]-1)*(a.shape[1]-1)\n",
    "    \n",
    "    p=1-chi2.cdf(chi_sq,df)\n",
    "    \n",
    "    if print_out:\n",
    "        print(\"Chi_sq = %.2f\"%chi_sq)\n",
    "        print(\"df = %d\"%df)\n",
    "        print(\"Pearson P = %.2f\"%p)\n",
    "        \n",
    "    return {\"p\":p,\"chi_sq\":chi_sq,\"df\":df}"
   ]
  },
  {
   "cell_type": "code",
   "execution_count": 18,
   "id": "516a7af1",
   "metadata": {},
   "outputs": [
    {
     "name": "stdout",
     "output_type": "stream",
     "text": [
      "Chi_sq = 2.39\n",
      "df = 2\n",
      "Pearson P = 0.30\n"
     ]
    },
    {
     "data": {
      "text/plain": [
       "{'p': 0.3029966133373402, 'chi_sq': 2.3880673012794396, 'df': 2}"
      ]
     },
     "execution_count": 18,
     "metadata": {},
     "output_type": "execute_result"
    }
   ],
   "source": [
    "data=[[17,63,58],[25,61,79]]\n",
    "chi_square(data)"
   ]
  },
  {
   "cell_type": "code",
   "execution_count": 13,
   "id": "83ab911a",
   "metadata": {},
   "outputs": [
    {
     "data": {
      "text/plain": [
       "Power_divergenceResult(statistic=array([67.41836735, 21.3271028 ]), pvalue=array([2.29238491e-15, 2.33818284e-05]))"
      ]
     },
     "execution_count": 13,
     "metadata": {},
     "output_type": "execute_result"
    }
   ],
   "source": [
    "from scipy.stats import chisquare\n",
    "chisquare(data)"
   ]
  },
  {
   "cell_type": "code",
   "execution_count": null,
   "id": "5655ed19",
   "metadata": {},
   "outputs": [],
   "source": []
  }
 ],
 "metadata": {
  "kernelspec": {
   "display_name": "Python 3 (ipykernel)",
   "language": "python",
   "name": "python3"
  },
  "language_info": {
   "codemirror_mode": {
    "name": "ipython",
    "version": 3
   },
   "file_extension": ".py",
   "mimetype": "text/x-python",
   "name": "python",
   "nbconvert_exporter": "python",
   "pygments_lexer": "ipython3",
   "version": "3.12.3"
  }
 },
 "nbformat": 4,
 "nbformat_minor": 5
}
