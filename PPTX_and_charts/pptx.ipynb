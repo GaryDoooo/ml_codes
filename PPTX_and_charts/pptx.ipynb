{
 "cells": [
  {
   "cell_type": "code",
   "execution_count": 1,
   "id": "97474b01",
   "metadata": {},
   "outputs": [],
   "source": [
    "from pptx import Presentation\n",
    "prs=Presentation()"
   ]
  },
  {
   "cell_type": "code",
   "execution_count": 2,
   "id": "c60f9359",
   "metadata": {},
   "outputs": [],
   "source": [
    "lyt=prs.slide_layouts[0] # choosing a slide layout\n",
    "slide=prs.slides.add_slide(lyt) # adding a slide\n",
    "title=slide.shapes.title # assigning a title\n",
    "subtitle=slide.placeholders[1] # placeholder for subtitle\n",
    "title.text=\"Hey,This is a Slide! How exciting!\" # title\n",
    "subtitle.text=\"Really?\" # subtitle\n"
   ]
  },
  {
   "cell_type": "code",
   "execution_count": 3,
   "id": "a8fad250",
   "metadata": {},
   "outputs": [],
   "source": [
    "lyt=prs.slide_layouts[1] # choosing a slide layout\n",
    "slide=prs.slides.add_slide(lyt) # adding a slide\n",
    "title=slide.shapes.title # assigning a title\n",
    "subtitle=slide.placeholders[1] # placeholder for subtitle\n",
    "title.text=\"Hey,This is a Slide! How exciting!\" # title\n",
    "subtitle.text=\"Really?\" # subtitle"
   ]
  },
  {
   "cell_type": "code",
   "execution_count": 4,
   "id": "b330609a",
   "metadata": {},
   "outputs": [],
   "source": [
    "lyt=prs.slide_layouts[2] # choosing a slide layout\n",
    "slide=prs.slides.add_slide(lyt) # adding a slide\n",
    "title=slide.shapes.title # assigning a title\n",
    "subtitle=slide.placeholders[1] # placeholder for subtitle\n",
    "title.text=\"Hey,This is a Slide! How exciting!\" # title\n",
    "subtitle.text=\"Really?\" # subtitle"
   ]
  },
  {
   "cell_type": "code",
   "execution_count": 5,
   "id": "af61b2fe",
   "metadata": {},
   "outputs": [],
   "source": []
  },
  {
   "cell_type": "code",
   "execution_count": 24,
   "id": "fbfbf601",
   "metadata": {},
   "outputs": [
    {
     "data": {
      "image/png": "[encoded data removed]",
      "text/plain": [
       "<Figure size 432x432 with 6 Axes>"
      ]
     },
     "metadata": {
      "needs_background": "light"
     },
     "output_type": "display_data"
    }
   ],
   "source": [
    "import matplotlib.pyplot as plt\n",
    "import numpy as np\n",
    "\n",
    "# fake data\n",
    "np.random.seed(19680801)\n",
    "data = np.random.lognormal(size=(37, 4), mean=1.5, sigma=1.75)\n",
    "labels = list('ABCD')\n",
    "fs = 10  # fontsize\n",
    "\n",
    "fig, axs = plt.subplots(nrows=2, ncols=3, figsize=(6, 6), sharey=True)\n",
    "axs[0, 0].boxplot(data, labels=labels)\n",
    "axs[0, 0].set_title('Default', fontsize=fs)\n",
    "\n",
    "axs[0, 1].boxplot(data, labels=labels, showmeans=True)\n",
    "axs[0, 1].set_title('showmeans=True', fontsize=fs)\n",
    "\n",
    "axs[0, 2].boxplot(data, labels=labels, showmeans=True, meanline=True)\n",
    "axs[0, 2].set_title('showmeans=True,\\nmeanline=True', fontsize=fs)\n",
    "\n",
    "axs[1, 0].boxplot(data, labels=labels, showbox=False, showcaps=False)\n",
    "tufte_title = 'Tufte Style \\n(showbox=False,\\nshowcaps=False)'\n",
    "axs[1, 0].set_title(tufte_title, fontsize=fs)\n",
    "\n",
    "axs[1, 1].boxplot(data, labels=labels, notch=True, bootstrap=10000)\n",
    "axs[1, 1].set_title('notch=True,\\nbootstrap=10000', fontsize=fs)\n",
    "\n",
    "axs[1, 2].boxplot(data, labels=labels, showfliers=False)\n",
    "axs[1, 2].set_title('showfliers=False', fontsize=fs)\n",
    "\n",
    "for ax in axs.flat:\n",
    "    ax.set_yscale('log')\n",
    "    ax.set_yticklabels([])\n",
    "\n",
    "fig.subplots_adjust(hspace=0.4)\n",
    "plt.savefig(\"test.png\",dpi=200)\n",
    "plt.show()"
   ]
  },
  {
   "cell_type": "code",
   "execution_count": 7,
   "id": "52eea72d",
   "metadata": {},
   "outputs": [
    {
     "data": {
      "text/plain": [
       "<Figure size 432x288 with 0 Axes>"
      ]
     },
     "metadata": {},
     "output_type": "display_data"
    }
   ],
   "source": [
    "lyt=prs.slide_layouts[1] # choosing a slide layout\n",
    "slide=prs.slides.add_slide(lyt) # adding a slide\n",
    "title=slide.shapes.title # assigning a title\n",
    "title.text=\"Boxplot Test\" # title\n",
    "\n",
    "import io\n",
    "\n",
    "image_stream = io.BytesIO()\n",
    "plt.savefig(image_stream)\n"
   ]
  },
  {
   "cell_type": "code",
   "execution_count": 25,
   "id": "e93998e6",
   "metadata": {},
   "outputs": [],
   "source": [
    "pic = slide.shapes.add_picture(\"test.png\", 10, 100)"
   ]
  },
  {
   "cell_type": "code",
   "execution_count": 26,
   "id": "42fccb8d",
   "metadata": {},
   "outputs": [],
   "source": [
    "prs.save(\"slide1.pptx\") # saving file"
   ]
  },
  {
   "cell_type": "code",
   "execution_count": 17,
   "id": "ce0f47e3",
   "metadata": {},
   "outputs": [],
   "source": [
    "text_box=slide.shapes.add_textbox(1,1,20,20)\n",
    "tb=text_box.text_frame\n",
    "tb.text='Do you know how the Orcs first came into being? They were elves once,\\n\\\n",
    "taken by the dark powers, tortured and mutilated. A ruined and terrible form of life.\\n\\\n",
    "Now... perfected. My fighting Uruk-Hai. Whom do you serve?'"
   ]
  },
  {
   "cell_type": "code",
   "execution_count": 29,
   "id": "6ce9e027",
   "metadata": {},
   "outputs": [],
   "source": [
    "prs.save(\"slide1.pptx\") # saving file"
   ]
  },
  {
   "cell_type": "code",
   "execution_count": 19,
   "id": "e3ae5150",
   "metadata": {},
   "outputs": [
    {
     "data": {
      "text/plain": [
       "<Figure size 432x288 with 0 Axes>"
      ]
     },
     "metadata": {},
     "output_type": "display_data"
    }
   ],
   "source": [
    "plt.savefig(\"test.png\")"
   ]
  },
  {
   "cell_type": "code",
   "execution_count": 27,
   "id": "70d25e1b",
   "metadata": {},
   "outputs": [],
   "source": [
    "lyt=prs.slide_layouts[1] # choosing a slide layout\n",
    "slide=prs.slides.add_slide(lyt) # adding a slide\n",
    "title=slide.shapes.title # assigning a title\n",
    "title.text=\"Boxplot Test 2\" # title"
   ]
  },
  {
   "cell_type": "code",
   "execution_count": 28,
   "id": "c744cd9b",
   "metadata": {},
   "outputs": [
    {
     "data": {
      "text/plain": [
       "<pptx.shapes.picture.Picture at 0x7f5cb1f6fe80>"
      ]
     },
     "execution_count": 28,
     "metadata": {},
     "output_type": "execute_result"
    }
   ],
   "source": [
    "slide.shapes.add_picture(\"test.png\", 100, 100)"
   ]
  },
  {
   "cell_type": "code",
   "execution_count": null,
   "id": "658008f6",
   "metadata": {},
   "outputs": [],
   "source": []
  }
 ],
 "metadata": {
  "kernelspec": {
   "display_name": "Python 3 (ipykernel)",
   "language": "python",
   "name": "python3"
  },
  "language_info": {
   "codemirror_mode": {
    "name": "ipython",
    "version": 3
   },
   "file_extension": ".py",
   "mimetype": "text/x-python",
   "name": "python",
   "nbconvert_exporter": "python",
   "pygments_lexer": "ipython3",
   "version": "3.12.3"
  }
 },
 "nbformat": 4,
 "nbformat_minor": 5
}
