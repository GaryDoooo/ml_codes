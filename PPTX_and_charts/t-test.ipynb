{
 "cells": [
  {
   "cell_type": "code",
   "execution_count": 3,
   "id": "2808d590",
   "metadata": {},
   "outputs": [],
   "source": [
    "from scipy.stats import t as t_test\n",
    "import statistics as stat"
   ]
  },
  {
   "cell_type": "code",
   "execution_count": 20,
   "id": "e91a1e29",
   "metadata": {},
   "outputs": [],
   "source": [
    "def t_test_1sample(data_list,u0,print_out=True):\n",
    "    # Test if the data has the same mean of u0\n",
    "    mean=stat.mean(data_list)\n",
    "    stdev=stat.stdev(data_list)\n",
    "    t=(mean-u0)/stdev*(len(data_list)**.5)\n",
    "#     print(t)\n",
    "    abs_t=t if t>0 else -t\n",
    "    df=len(data_list)-1\n",
    "    p=(1-t_test.cdf(abs_t,df))*2\n",
    "    # Here P is two tailed test, for one tailed test 1/2\n",
    "    if print_out:\n",
    "        print(\"mean = %.2f\"%mean)\n",
    "        print(\"stdev = %.2f\"%stdev)\n",
    "        print(\"t = %.2f\"%t)\n",
    "        print(\"df = %.2f\"%df)\n",
    "        print(\"Two-tailed test p=%.2f\"%p)\n",
    "    return {\"t\":t,\"p\":p,\"df\":df,\"mean\":mean,\"stdev\":stdev}\n",
    "    "
   ]
  },
  {
   "cell_type": "code",
   "execution_count": 21,
   "id": "23a5c069",
   "metadata": {},
   "outputs": [
    {
     "name": "stdout",
     "output_type": "stream",
     "text": [
      "mean = 5.50\n",
      "stdev = 3.03\n",
      "t = 2.61\n",
      "df = 9.00\n",
      "Two-tailed test p=0.03\n"
     ]
    },
    {
     "data": {
      "text/plain": [
       "{'t': 2.611164839335468,\n",
       " 'p': 0.028216803759726572,\n",
       " 'df': 9,\n",
       " 'mean': 5.5,\n",
       " 'stdev': 3.0276503540974917}"
      ]
     },
     "execution_count": 21,
     "metadata": {},
     "output_type": "execute_result"
    }
   ],
   "source": [
    "t_test_1sample([1,2,3,4,5,6,7,8,9,10],3)"
   ]
  },
  {
   "cell_type": "code",
   "execution_count": 9,
   "id": "bfd962f3",
   "metadata": {},
   "outputs": [
    {
     "name": "stdout",
     "output_type": "stream",
     "text": [
      "t = -4.86\n",
      "Two tails p=0.00\n"
     ]
    },
    {
     "data": {
      "text/plain": [
       "{'t': -4.8616386142837085, 'p': 3.7207722420884437e-06}"
      ]
     },
     "execution_count": 9,
     "metadata": {},
     "output_type": "execute_result"
    }
   ],
   "source": [
    "numbers = [37, 42, 39, 35, 35, 35, 39, 41, 43, 42, 41, 39, 44, 43, 42, 42, 38, 41, 41, 42, 38, 42, 42, 42, 43, 39, 41, 42, 42, 32, 38, 38, 42, 47, 40, 38, 39, 36, 39, 42, 37, 33, 45, 40, 44, 38, 38, 42, 41, 39, 38, 34, 35, 37, 41, 34, 32, 34, 35, 41, 42, 40, 42, 43, 45, 39, 39, 39, 33, 36, 36, 34, 37, 36, 39, 37, 41, 36, 38, 38, 38, 42, 38, 37, 39, 38, 41, 39, 42, 37, 39, 39, 35, 36, 37, 37, 40, 42, 32, 37, 35, 36, 39, 39, 36, 36, 40, 35, 34, 34, 35, 35, 35, 37, 37, 37]\n",
    "t_test_1sample(numbers,40)"
   ]
  },
  {
   "cell_type": "code",
   "execution_count": 30,
   "id": "eae3664b",
   "metadata": {},
   "outputs": [],
   "source": [
    "# Assumptions:\n",
    "#   Pooled t-test assumes equal population variances between the two groups.\n",
    "#   Unpooled t-test (Welch's t-test) does not assume equal population variances.\n",
    "# Degrees of freedom (df) calculation:\n",
    "#   Pooled t-test: df = n1 + n2 - 2\n",
    "#   Unpooled t-test: Uses a more complex formula (Welch–Satterthwaite equation) \n",
    "#   that typically results in non-integer df.\n",
    "#        df = (s1^2/n1 + s2^2/n2)^2 / [(s1^2/n1)^2/(n1-1) + (s2^2/n2)^2/(n2-1)]\n",
    "# Variance estimation:\n",
    "#   Pooled t-test uses a weighted average of the two sample variances (pooled variance).\n",
    "#   Unpooled t-test uses separate variance estimates for each group.\n",
    "# Applicability:\n",
    "#   Pooled t-test is more appropriate when variances are truly equal or sample sizes are equal.\n",
    "#   Unpooled t-test is more robust and generally recommended when unsure about variance equality.\n",
    "\n",
    "\n",
    "def t_test_2samples(l1,l2,print_out=True):\n",
    "    u1=stat.mean(l1)\n",
    "    u2=stat.mean(l2)\n",
    "    s1=stat.stdev(l1)\n",
    "    s2=stat.stdev(l2)\n",
    "    n1=len(l1)\n",
    "    n2=len(l2)\n",
    "    # t = (x̄₁ - x̄₂) / √((s₁²/n₁) + (s₂²/n₂))\n",
    "    # df = (s1^2/n1 + s2^2/n2)^2 / [(s1^2/n1)^2/(n1-1) + (s2^2/n2)^2/(n2-1)]\n",
    "    t=(u1-u2)/(s1*s1/n1+s2*s2/n2)**.5\n",
    "    df=(s1*s1/n1+s2*s2/n2)**2/((s1*s1/n1)**2/(n1-1)+(s2*s2/n2)**2/(n2-1))\n",
    "    t=t if t>0 else -t\n",
    "    p=(1-t_test.cdf(t,df))*2\n",
    "    # Here P is two tailed test, for one tailed test 1/2\n",
    "    if print_out:\n",
    "        print(\"u1 = %.2f\\ts1 = %.2f\\tn1 = %d\"%(u1,s1,n1))\n",
    "        print(\"u2 = %.2f\\ts2 = %.2f\\tn2 = %d\"%(u2,s2,n2))\n",
    "        print(\"t = %.2f\"%t)\n",
    "        print(\"df = %.2f\"%df)\n",
    "        print(\"Two-tailed unpooled test p=%.2f\"%p)\n",
    "    return {\"t\":t,\"p\":p,\"df\":df,\"u1\":u1,\"u2\":u2,\"s1\":s1,\"s2\":s2,\"n1\":n1,\"n2\":n2}"
   ]
  },
  {
   "cell_type": "code",
   "execution_count": 31,
   "id": "2c07a707",
   "metadata": {},
   "outputs": [
    {
     "name": "stdout",
     "output_type": "stream",
     "text": [
      "u1 = 100.94\ts1 = 23.44\tn1 = 18\n",
      "u2 = 108.32\ts2 = 21.10\tn2 = 22\n",
      "t = 1.04\n",
      "df = 34.68\n",
      "Two-tailed unpooled test p=0.31\n"
     ]
    },
    {
     "data": {
      "text/plain": [
       "{'t': 1.0350868507284576,\n",
       " 'p': 0.30779289334506643,\n",
       " 'df': 34.678156799282156,\n",
       " 'u1': 100.94444444444444,\n",
       " 'u2': 108.31818181818181,\n",
       " 's1': 23.435699821933863,\n",
       " 's2': 21.09928088062846,\n",
       " 'n1': 18,\n",
       " 'n2': 22}"
      ]
     },
     "execution_count": 31,
     "metadata": {},
     "output_type": "execute_result"
    }
   ],
   "source": [
    "females = [95, 123, 74, 145, 64, 112, 107, 67, 81, 91, 142, 84, 85, 92, 112, 112, 115, 116]\n",
    "\n",
    "males = [84, 128, 79, 98, 105, 95, 79, 93, 99, 119, 92, 112, 99, 113, 128, 111, 105, 104, 106, 128, 134, 172]\n",
    "t_test_2samples(females,males)"
   ]
  },
  {
   "cell_type": "code",
   "execution_count": null,
   "id": "94de1519",
   "metadata": {},
   "outputs": [],
   "source": []
  }
 ],
 "metadata": {
  "kernelspec": {
   "display_name": "Python 3 (ipykernel)",
   "language": "python",
   "name": "python3"
  },
  "language_info": {
   "codemirror_mode": {
    "name": "ipython",
    "version": 3
   },
   "file_extension": ".py",
   "mimetype": "text/x-python",
   "name": "python",
   "nbconvert_exporter": "python",
   "pygments_lexer": "ipython3",
   "version": "3.12.3"
  }
 },
 "nbformat": 4,
 "nbformat_minor": 5
}
