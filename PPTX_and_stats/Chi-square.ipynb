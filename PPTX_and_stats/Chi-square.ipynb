{
 "cells": [
  {
   "cell_type": "code",
   "execution_count": 1,
   "id": "6523ea48",
   "metadata": {},
   "outputs": [],
   "source": [
    "import numpy as np\n"
   ]
  },
  {
   "cell_type": "code",
   "execution_count": 8,
   "id": "b2c96baa",
   "metadata": {},
   "outputs": [
    {
     "data": {
      "text/plain": [
       "array([[0., 0.],\n",
       "       [0., 0.],\n",
       "       [0., 0.]])"
      ]
     },
     "execution_count": 8,
     "metadata": {},
     "output_type": "execute_result"
    }
   ],
   "source": [
    "\n",
    "data=[[119,36],[45,55],[32,16]]\n",
    "a=np.array(data)\n",
    "np.sum(a,axis=0)\n",
    "np.zeros(a.shape)\n"
   ]
  },
  {
   "cell_type": "code",
   "execution_count": 63,
   "id": "ab72217f",
   "metadata": {},
   "outputs": [],
   "source": [
    "#### Pearson Chi square\n",
    "# Expected frequency = (Row total * Column total) / Grand total\n",
    "# Calculate the chi-square statistic using the formula:\n",
    "# χ² = Σ [(O - E)² / E]\n",
    "# Where O is the observed frequency and E is the expected frequency for each cell.\n",
    "# Determine the degrees of freedom (df). For a contingency table, df = (rows - 1) * (columns - 1).\n",
    "\n",
    "import numpy as np\n",
    "from scipy.stats import chi2\n",
    "\n",
    "def chi_square(data,print_out=True):\n",
    "    a=np.array(data) # a stores the observed values\n",
    "    col_sum=np.sum(a,axis=0)\n",
    "    row_sum=np.sum(a,axis=1)\n",
    "    ttl_sum=np.sum(col_sum)\n",
    "    \n",
    "    chi_sq=0\n",
    "    for y in range(a.shape[0]):\n",
    "        for x in range(a.shape[1]):\n",
    "            expected =row_sum[y]*col_sum[x]/ttl_sum\n",
    "            chi_sq+=(a[y][x]-expected)**2/expected\n",
    "    \n",
    "    df=(a.shape[0]-1)*(a.shape[1]-1)\n",
    "    \n",
    "    p=1-chi2.cdf(chi_sq,df)\n",
    "    \n",
    "    if print_out:\n",
    "        print(\"Chi_sq = %.2f\"%chi_sq)\n",
    "        print(\"df = %d\"%df)\n",
    "        print(\"Pearson P = %.2f\"%p)\n",
    "        \n",
    "    return {\"p\":p,\"chi_sq\":chi_sq,\"df\":df}"
   ]
  },
  {
   "cell_type": "code",
   "execution_count": 64,
   "id": "c503f27b",
   "metadata": {},
   "outputs": [
    {
     "name": "stdout",
     "output_type": "stream",
     "text": [
      "Chi_sq = 2.39\n",
      "df = 2\n",
      "Pearson P = 0.30\n"
     ]
    },
    {
     "data": {
      "text/plain": [
       "{'p': 0.3029966133373402, 'chi_sq': 2.3880673012794396, 'df': 2}"
      ]
     },
     "execution_count": 64,
     "metadata": {},
     "output_type": "execute_result"
    }
   ],
   "source": [
    "data=[[17,63,58],[25,61,79]]\n",
    "chi_square(data)"
   ]
  },
  {
   "cell_type": "code",
   "execution_count": 65,
   "id": "a322b67d",
   "metadata": {},
   "outputs": [
    {
     "data": {
      "text/plain": [
       "Power_divergenceResult(statistic=array([1.52380952, 0.03225806, 3.2189781 ]), pvalue=array([0.21704391, 0.85746244, 0.07278906]))"
      ]
     },
     "execution_count": 65,
     "metadata": {},
     "output_type": "execute_result"
    }
   ],
   "source": [
    "from scipy.stats import chisquare\n",
    "chisquare(data)"
   ]
  },
  {
   "cell_type": "code",
   "execution_count": 66,
   "id": "d14f69af",
   "metadata": {},
   "outputs": [],
   "source": [
    "import statistics as stat\n",
    "import numpy as np\n",
    "from scipy.stats import chi2, norm, kurtosis\n",
    "from scipy.stats import f as f_dist\n",
    "from math import log as ln\n",
    "\n",
    "def chi2_test_stdev(data_list,s0,print_out=True):\n",
    "    df=len(data_list)-1\n",
    "    S=stat.variance(data_list)*df\n",
    "    stdev=stat.stdev(data_list)\n",
    "    chi_sq=S/s0/s0\n",
    "    p=1-chi2.cdf(chi_sq,df)\n",
    "    \n",
    "    chi2_low0025=chi2.ppf(0.025,df)\n",
    "    chi2_high0975=chi2.ppf(0.975,df)\n",
    "    chi2_low005=chi2.ppf(0.05,df)\n",
    "    stdev_range_low=(chi2_low0025*s0*s0/df)**.5\n",
    "    stdev_range_high=(chi2_high0975*s0*s0/df)**.5\n",
    "    \n",
    "    std_range_from_S=((S/chi2_high0975)**.5,(S/chi2_low0025)**.5)\n",
    "    \n",
    "    std_from_S_high95=(S/chi2_low005)**.5\n",
    "    \n",
    "    if print_out:\n",
    "        print(\"Population stdev: %.2f\\nSampled stdev: %.2f\"%(s0,stdev))\n",
    "        print(\"df = %d\"%df)\n",
    "        print(\"chi square = %.2f\"%chi_sq)\n",
    "        print(\"Prob of variation is bigger than the sample. p = %.2f\"%p)\n",
    "        print(\"Lower %%2.5 Chi square = %.2f  Top %%2.5 Chi square = %.2f\"%(\n",
    "                chi2_low0025,chi2_high0975))\n",
    "        print(\"%%95 confidence range of stdev: (%.2f, %.2f), when sampling %d times from a population with stdev of %.2f.\"%(\n",
    "                stdev_range_low,stdev_range_high,df+1,s0))\n",
    "        print(\"%%95 confidence range of the population stdev: (%.2f, %.2f), where the samples came from.\"%\n",
    "             std_range_from_S)\n",
    "        print(\"%%95 confidence the population stdev lower than %.2f, where the samples came from.\"\n",
    "             %std_from_S_high95)\n",
    "    \n",
    "    return {\"p\":p,\"chi_sq\":chi_sq,\"stdev\":stdev,\"df\":df,\"95_chi2_range\":(chi2_low0025,\n",
    "           chi2_high0975),\"95_range_from_P\":(stdev_range_low,stdev_range_high),\"n\":df+1,\n",
    "           \"95_range_from_S\":std_range_from_S, \"std_from_S_high95\":std_from_S_high95}\n",
    "\n",
    "\n",
    "def several_tests_stdev_2sided(l1,l2,print_out=True):\n",
    "    var1=stat.variance(l1)\n",
    "    var2=stat.variance(l2)\n",
    "    u1=stat.mean(l1)\n",
    "    u2=stat.mean(l2)\n",
    "    s1=stat.stdev(l1)\n",
    "    s2=stat.stdev(l2)\n",
    "    n1=len(l1)\n",
    "    n2=len(l2)\n",
    "    k1=kurtosis(l1,fisher=True,bias=False) # This replicates Minitab result\n",
    "    k2=kurtosis(l2,fisher=True,bias=False)\n",
    "    res={\"u1\":u1,\"u2\":u2,\"s1\":s1,\"s2\":s2,\"n1\":n1,\"n2\":n2,\"k1\":k1,\"k2\":k2}\n",
    "#     print(k1,k2)\n",
    "    \n",
    "    f=var1/var2\n",
    "    dfn,dfd=n1-1,n2-1\n",
    "    p=(1-f_dist.cdf(f,dfn,dfd))*2\n",
    "    if p>1:\n",
    "        f=var2/var1\n",
    "        dfn,dfd=n2-1,n1-1\n",
    "        p=(1-f_dist.cdf(f,dfn,dfd))*2\n",
    "    res[\"F\"]={\"f\":f,\"p\":p,\"dfn\":dfn,\"dfd\":dfd}\n",
    "    \n",
    "    kp=((n1-1)*k1+(n2-1)*k2)/(n1+n2-2)\n",
    "    SE=(kp/2/(n1-1) + kp/2/(n2-1))**.5\n",
    "    z=(ln(var1)-ln(var2))/(2/n1+2/n2)**.5\n",
    "    p2 = 2*(1-norm.cdf(abs(z)))\n",
    "    df=n1-1\n",
    "    res[\"Bonett\"]={\"z\":z,\"p\":p2,\"df\":df}\n",
    "    \n",
    "    if print_out:\n",
    "        print(\"u1 = %.2f\\ts1 = %.2f\\tn1 = %d\"%(u1,s1,n1))\n",
    "        print(\"u2 = %.2f\\ts2 = %.2f\\tn2 = %d\"%(u2,s2,n2))\n",
    "        print(\"\\nTwo-sided F test: (Matches both, but senstive to normality.)\")\n",
    "        print(\"f ratio = %.2f\\tdfn = %d\\tdfd = %d\"%(f,dfn,dfd))\n",
    "        print(\"Two-sided test p=%.2f\"%res[\"F\"][\"p\"])\n",
    "        print(\"\\nBonett's test (doesn't match Minitab)\")\n",
    "        print(\"z = %.2f\\tp=%.2f\"%(z,res[\"Bonett\"][\"p\"]))\n",
    "        \n",
    "    return res\n",
    "            \n",
    "    \n",
    "#####################\n",
    "#\n",
    "single_pop_var_test = chi2_test_stdev\n",
    "\n",
    "# 从一个population取样，测试这个population\n",
    "# 的波动等于某一波动的可能性\n",
    "###########################\n",
    "#\n",
    "#\n"
   ]
  },
  {
   "cell_type": "code",
   "execution_count": 68,
   "id": "1afa644b",
   "metadata": {},
   "outputs": [
    {
     "name": "stdout",
     "output_type": "stream",
     "text": [
      "Population stdev: 1.00\n",
      "Sampled stdev: 2.83\n",
      "df = 5\n",
      "chi square = 40.00\n",
      "Prob of variation is bigger than the sample. p = 0.00\n",
      "Lower %2.5 Chi square = 0.83  Top %2.5 Chi square = 12.83\n",
      "%95 confidence range of stdev: (0.41, 1.60), when sampling 6 times from a population with stdev of 1.00.\n",
      "%95 confidence range of the population stdev: (1.77, 6.94), where the samples came from.\n",
      "%95 confidence the population stdev lower than 5.91, where the samples came from.\n"
     ]
    },
    {
     "data": {
      "text/plain": [
       "{'p': 1.4933679004514033e-07,\n",
       " 'chi_sq': 40.0,\n",
       " 'stdev': 2.8284271247461903,\n",
       " 'df': 5,\n",
       " '95_chi2_range': (0.8312116134866625, 12.832501994030027),\n",
       " '95_range_from_P': (0.40772824613623776, 1.6020300867355786),\n",
       " 'n': 6,\n",
       " '95_range_from_S': (1.7655268450729373, 6.937039931741945),\n",
       " 'std_from_S_high95': 5.909312478819359}"
      ]
     },
     "execution_count": 68,
     "metadata": {},
     "output_type": "execute_result"
    }
   ],
   "source": [
    "single_pop_var_test([6,8,5,12,4,7],1)"
   ]
  },
  {
   "cell_type": "code",
   "execution_count": 60,
   "id": "e702e6a9",
   "metadata": {},
   "outputs": [],
   "source": [
    "# Key differences and considerations:\n",
    "#         Robustness: \n",
    "#             The Brown-Forsythe and O'Brien tests are generally considered the most robust, \n",
    "#         followed by Levene's test, with the F-test being the least robust to violations of normality.\n",
    "#         \n",
    "#         Power: \n",
    "#             Under normal distributions, the F-test is most powerful, followed by Levene's test, \n",
    "#         then Brown-Forsythe. However, for non-normal distributions, the robust tests often outperform the F-test.\n",
    "        \n",
    "#         Underlying distribution: \n",
    "#             If the data is known to follow a specific distribution, this can guide\n",
    "#         the choice of test. For example, the Brown-Forsythe test performs well for skewed distributions, \n",
    "#         while Levene's test with squared deviations is better for symmetric, moderate-tailed distributions.\n",
    "\n",
    "#         Sample size: \n",
    "#             For small samples, the O'Brien and Ramsey conditional tests have shown good Type I \n",
    "#         error control across different distribution shapes\n",
    "\n",
    "\n",
    "def multi_pop_var_test(data, print_out=True):\n",
    "    # data in a list of lists\n",
    "    \n",
    "    def one_way_anova(data):\n",
    "        ns=[len(l) for l in data]\n",
    "        k,N=len(data),sum(ns)\n",
    "        means=[stat.mean(l) for l in data]\n",
    "        mean=np.concatenate(data).mean()\n",
    "        SSB=sum([n*(x-mean)**2 for n,x in zip(ns,means)])\n",
    "        SSW=sum([sum([(v-stat.mean(l))**2 for v in l]) for l in data])\n",
    "        F= (SSB/(k-1))/(SSW/(N-k))\n",
    "        p=1-f_dist.cdf(F,k-1,N-k)\n",
    "        return {\"F\":F,\"p\":p}\n",
    "    \n",
    "    def OBrien(data):\n",
    "#      uij = [nj(nj - 1.5)(xij - Mj)^2 - 0.5SSj] / [(nj - 1)(nj - 2)]\n",
    "#         Where:\n",
    "#         uij is the transformed score\n",
    "#         nj is the number of observations in group j\n",
    "#         xij is the original score\n",
    "#         Mj is the mean of group j\n",
    "#         SSj is the sum of squared deviations from the mean for group j\n",
    "#     Do one way ANOVA to uij\n",
    "        Zij=[[((len(l)-1.5)*len(l)*(v-stat.mean(l))**2-\n",
    "             stat.variance(l)*(len(l)-1)/2)/(len(l)-1)/(len(l)-2)\n",
    "        for v in l] for l in data]\n",
    "        return one_way_anova(Zij)\n",
    "    \n",
    "    def Levene(data):\n",
    "#    Calculate the absolute deviation from the group mean for each data point:\n",
    "#   Zij=|X_ij - X̄_i|, where X_ij is the jth observation in the ith group, \n",
    "# and X̄_i is the mean of the ith group.\n",
    "        Zij=[[abs(v-stat.mean(l)) for v in l] for l in data]\n",
    "        return one_way_anova(Zij)\n",
    "    \n",
    "    def Brown_Forsythe(data):\n",
    "#   Zij=|X_ij - median of the group |\n",
    "        Zij=[[abs(v-stat.median(l)) for v in l] for l in data]\n",
    "        return one_way_anova(Zij)\n",
    "    \n",
    "    res={\"OBrien\":OBrien(data)}\n",
    "    res[\"Levene\"]=Levene(data)\n",
    "    res[\"Brown_Forsythe\"]=Brown_Forsythe(data)\n",
    "    \n",
    "    if print_out:\n",
    "        print(\"O'Brien[.5]       p = %.3f\"%res[\"OBrien\"][\"p\"])\n",
    "        print(\"Levene            p = %.3f\"%res[\"Levene\"][\"p\"])\n",
    "        print(\"Brown-Forsythe    p = %.3f\"%res[\"Brown_Forsythe\"][\"p\"])\n",
    "    \n",
    "    return res\n",
    "\n",
    "############## \n",
    "# 从两个population取样，测试这两个population的\n",
    "# 波动一致的可能性\n",
    "#######################\n",
    "\n",
    "def two_pop_var_test(l1,l2,print_out=True):\n",
    "    res=multi_pop_var_test([l1,l2],print_out=print_out)\n",
    "    res2=several_tests_stdev_2sided(l1,l2,print_out=False)\n",
    "    if print_out:\n",
    "        print(\"2 Sided F test    p = %.3f\"%res2[\"F\"][\"p\"])\n",
    "    res[\"F\"]=res2[\"F\"]\n",
    "    \n",
    "    return res\n",
    "    "
   ]
  },
  {
   "cell_type": "code",
   "execution_count": 61,
   "id": "955bda97",
   "metadata": {},
   "outputs": [
    {
     "name": "stdout",
     "output_type": "stream",
     "text": [
      "O'Brien[.5]       p = 0.183\n",
      "Levene            p = 0.070\n",
      "Brown-Forsythe    p = 0.122\n"
     ]
    },
    {
     "data": {
      "text/plain": [
       "{'OBrien': {'F': 1.8004084379279677, 'p': 0.18321371309574186},\n",
       " 'Levene': {'F': 2.912713411934891, 'p': 0.07035135639975054},\n",
       " 'Brown_Forsythe': {'F': 2.2631127916162725, 'p': 0.12209372894437731}}"
      ]
     },
     "execution_count": 61,
     "metadata": {},
     "output_type": "execute_result"
    }
   ],
   "source": [
    "data_by_size = [[31.0, 153.0, 454.0, 333.3, 41.4, -680.4, 89.0, -119.7, 79.5, 227.4, 86.5, 20.9, 0.3, 47.7, 60.8, 118.3],\n",
    "    [939.5, 1495.4, 252.8, 471.3, 176.0, -424.3, 412.7],\n",
    "    [859.8, 1102.2, 747.0, 829.0, 1082.0, 412.0, 681.1, -639.3, 3758.0] ]\n",
    "\n",
    "multi_pop_var_test(data_by_size)"
   ]
  },
  {
   "cell_type": "code",
   "execution_count": 62,
   "id": "8436adf4",
   "metadata": {},
   "outputs": [
    {
     "name": "stdout",
     "output_type": "stream",
     "text": [
      "O'Brien[.5]       p = 0.689\n",
      "Levene            p = 0.341\n",
      "Brown-Forsythe    p = 0.304\n",
      "2 Sided F test    p = 0.641\n"
     ]
    },
    {
     "data": {
      "text/plain": [
       "{'OBrien': {'F': 0.16223944354545908, 'p': 0.6893602011212521},\n",
       " 'Levene': {'F': 0.9302037240268874, 'p': 0.3409080010281452},\n",
       " 'Brown_Forsythe': {'F': 1.0850529201248762, 'p': 0.3041521269368428},\n",
       " 'F': {'f': 1.2337311950447138, 'p': 0.6406340501617611, 'dfn': 17, 'dfd': 21}}"
      ]
     },
     "execution_count": 62,
     "metadata": {},
     "output_type": "execute_result"
    }
   ],
   "source": [
    "females = [95, 123, 74, 145, 64, 112, 107, 67, 81, 91, 142, 84, 85, 92, 112, 112, 115, 116]\n",
    "males = [84, 128, 79, 98, 105, 95, 79, 93, 99, 119, 92, 112, 99, 113, 128, 111, 105, 104, 106, 128, 134, 172]\n",
    "\n",
    "two_pop_var_test(females,males)"
   ]
  },
  {
   "cell_type": "code",
   "execution_count": 29,
   "id": "61ba04af",
   "metadata": {},
   "outputs": [
    {
     "name": "stdout",
     "output_type": "stream",
     "text": [
      "-0.5498036625244467 2.711568453391635\n",
      "u1 = 100.94\ts1 = 23.44\tn1 = 18\n",
      "u2 = 108.32\ts2 = 21.10\tn2 = 22\n",
      "\n",
      "Two-sided F test: (Matches both, but senstive to normality.)\n",
      "f ratio = 1.23\tdfn = 17\tdfd = 21\n",
      "Two-sided test p=0.64\n",
      "\n",
      "Bonett's test (doesn't match Minitab)\n",
      "z = 0.47\tp=0.64\n"
     ]
    },
    {
     "data": {
      "text/plain": [
       "{'u1': 100.94444444444444,\n",
       " 'u2': 108.31818181818181,\n",
       " 's1': 23.435699821933863,\n",
       " 's2': 21.09928088062846,\n",
       " 'n1': 18,\n",
       " 'n2': 22,\n",
       " 'k1': -0.5498036625244467,\n",
       " 'k2': 2.711568453391635,\n",
       " 'F': {'f': 1.2337311950447138, 'p': 0.6406340501617611, 'dfn': 17, 'dfd': 21},\n",
       " 'Bonett': {'z': 0.4673163283591512, 'p': 0.6402735759213947, 'df': 17}}"
      ]
     },
     "execution_count": 29,
     "metadata": {},
     "output_type": "execute_result"
    }
   ],
   "source": [
    "females = [95, 123, 74, 145, 64, 112, 107, 67, 81, 91, 142, 84, 85, 92, 112, 112, 115, 116]\n",
    "males = [84, 128, 79, 98, 105, 95, 79, 93, 99, 119, 92, 112, 99, 113, 128, 111, 105, 104, 106, 128, 134, 172]\n",
    "\n",
    "two_pop_var_test(females,males)"
   ]
  },
  {
   "cell_type": "code",
   "execution_count": 21,
   "id": "46c269d1",
   "metadata": {},
   "outputs": [
    {
     "name": "stdout",
     "output_type": "stream",
     "text": [
      "u1 = 108.32\ts1 = 21.10\tn1 = 22\n",
      "u2 = 100.94\ts2 = 23.44\tn2 = 18\n",
      "f ratio = 1.23\n",
      "dfn = 17\n",
      "dfd = 21\n",
      "Two-sided test p=0.64\n"
     ]
    },
    {
     "data": {
      "text/plain": [
       "{'f': 1.2337311950447138,\n",
       " 'p': 0.6406340501617611,\n",
       " 'dfn': 17,\n",
       " 'dfd': 21,\n",
       " 'u1': 108.31818181818181,\n",
       " 'u2': 100.94444444444444,\n",
       " 's1': 21.09928088062846,\n",
       " 's2': 23.435699821933863,\n",
       " 'n1': 22,\n",
       " 'n2': 18}"
      ]
     },
     "execution_count": 21,
     "metadata": {},
     "output_type": "execute_result"
    }
   ],
   "source": [
    "females = [95, 123, 74, 145, 64, 112, 107, 67, 81, 91, 142, 84, 85, 92, 112, 112, 115, 116]\n",
    "males = [84, 128, 79, 98, 105, 95, 79, 93, 99, 119, 92, 112, 99, 113, 128, 111, 105, 104, 106, 128, 134, 172]\n",
    "\n",
    "two_pop_var_test(males,females)"
   ]
  },
  {
   "cell_type": "code",
   "execution_count": 22,
   "id": "125ebdb5",
   "metadata": {},
   "outputs": [
    {
     "name": "stdout",
     "output_type": "stream",
     "text": [
      "u1 = 60.89\ts1 = 3.61\tn1 = 18\n",
      "u2 = 63.91\ts2 = 4.31\tn2 = 22\n",
      "f ratio = 1.42\n",
      "dfn = 21\n",
      "dfd = 17\n",
      "Two-sided test p=0.46\n"
     ]
    },
    {
     "data": {
      "text/plain": [
       "{'f': 1.4228977435390262,\n",
       " 'p': 0.46440979564922324,\n",
       " 'dfn': 21,\n",
       " 'dfd': 17,\n",
       " 'u1': 60.888888888888886,\n",
       " 'u2': 63.90909090909091,\n",
       " 's1': 3.6118903131167936,\n",
       " 's2': 4.308453384077698,\n",
       " 'n1': 18,\n",
       " 'n2': 22}"
      ]
     },
     "execution_count": 22,
     "metadata": {},
     "output_type": "execute_result"
    }
   ],
   "source": [
    "males = [60, 61, 51, 65, 63, 58, 59, 63, 64, 65, 64, 68, 64, 69, 67, 65, 66, 62, 66, 68, 68, 70]\n",
    "females = [59, 61, 55, 66, 52, 60, 61, 56, 61, 62, 65, 63, 62, 62, 64, 65, 60, 62]\n",
    "\n",
    "two_pop_var_test(females,males)"
   ]
  },
  {
   "cell_type": "code",
   "execution_count": 23,
   "id": "06bed97c",
   "metadata": {},
   "outputs": [
    {
     "name": "stdout",
     "output_type": "stream",
     "text": [
      "u1 = 63.91\ts1 = 4.31\tn1 = 22\n",
      "u2 = 60.89\ts2 = 3.61\tn2 = 18\n",
      "f ratio = 1.42\n",
      "dfn = 21\n",
      "dfd = 17\n",
      "Two-sided test p=0.46\n"
     ]
    },
    {
     "data": {
      "text/plain": [
       "{'f': 1.4228977435390262,\n",
       " 'p': 0.46440979564922324,\n",
       " 'dfn': 21,\n",
       " 'dfd': 17,\n",
       " 'u1': 63.90909090909091,\n",
       " 'u2': 60.888888888888886,\n",
       " 's1': 4.308453384077698,\n",
       " 's2': 3.6118903131167936,\n",
       " 'n1': 22,\n",
       " 'n2': 18}"
      ]
     },
     "execution_count": 23,
     "metadata": {},
     "output_type": "execute_result"
    }
   ],
   "source": [
    "males = [60, 61, 51, 65, 63, 58, 59, 63, 64, 65, 64, 68, 64, 69, 67, 65, 66, 62, 66, 68, 68, 70]\n",
    "females = [59, 61, 55, 66, 52, 60, 61, 56, 61, 62, 65, 63, 62, 62, 64, 65, 60, 62]\n",
    "\n",
    "two_pop_var_test(males,females)"
   ]
  },
  {
   "cell_type": "code",
   "execution_count": 24,
   "id": "440573e8",
   "metadata": {},
   "outputs": [
    {
     "name": "stdout",
     "output_type": "stream",
     "text": [
      "Population stdev: 3.33\n",
      "Sampled stdev: 3.03\n",
      "df = 9\n",
      "chi square = 7.43\n",
      "Prob of variation is bigger than the sample. p = 0.59\n",
      "Lower %2.5 Chi square = 2.70  Top %2.5 Chi square = 19.02\n",
      "%95 confidence range of stdev: (1.83, 4.85), when sampling 10 times from a population with stdev of 3.33.\n",
      "%95 confidence range of the population stdev: (2.08, 5.53), where the samples came from.\n",
      "%95 confidence the population stdev lower than 4.98, where the samples came from.\n"
     ]
    },
    {
     "data": {
      "text/plain": [
       "{'p': 0.5929453295385454,\n",
       " 'chi_sq': 7.425148502227531,\n",
       " 'stdev': 3.0276503540974917,\n",
       " 'df': 9,\n",
       " '95_chi2_range': (2.7003894999803584, 19.02276779864163),\n",
       " '95_range_from_P': (1.8258552849434826, 4.846073546823209),\n",
       " 'n': 10,\n",
       " '95_range_from_S': (2.0825245072743304, 5.527309315549374),\n",
       " 'std_from_S_high95': 4.981083018674999}"
      ]
     },
     "execution_count": 24,
     "metadata": {},
     "output_type": "execute_result"
    }
   ],
   "source": [
    "weights = [82, 89, 81, 90, 84, 83, 88, 80, 85, 90]\n",
    "single_pop_var_test([1,2,3,4,5,6,7,8,9,10],3.3333)"
   ]
  },
  {
   "cell_type": "code",
   "execution_count": null,
   "id": "90ed990a",
   "metadata": {},
   "outputs": [],
   "source": []
  },
  {
   "cell_type": "code",
   "execution_count": 117,
   "id": "c914f445",
   "metadata": {},
   "outputs": [
    {
     "name": "stdout",
     "output_type": "stream",
     "text": [
      "Population stdev: 4.00\n",
      "Sampled stdev: 3.79\n",
      "df = 9\n",
      "chi square = 8.10\n",
      "Prob of variation is bigger than the sample. p = 0.52\n",
      "Lower %2.5 Chi square = 2.70  Top %2.5 Chi square = 19.02\n",
      "%95 confidence range of stdev: (2.19, 5.82), when sampling 10 times from a population with stdev of 4.00.\n",
      "%95 confidence range of the population stdev: (2.61, 6.93), where the samples came from.\n"
     ]
    },
    {
     "data": {
      "text/plain": [
       "{'p': 0.5241009367303544,\n",
       " 'chi_sq': 8.1,\n",
       " 'stdev': 3.794733192202055,\n",
       " 'df': 9,\n",
       " '95_chi2_range': (2.7003894999803584, 19.02276779864163),\n",
       " '95_range_from_P': (2.1910482524147032, 5.815346409651947),\n",
       " 'n': 10,\n",
       " '95_range_from_S': (2.6101510898155924, 6.927703555629079)}"
      ]
     },
     "execution_count": 117,
     "metadata": {},
     "output_type": "execute_result"
    }
   ],
   "source": [
    "chi2_test_stdev(weights,4)"
   ]
  },
  {
   "cell_type": "code",
   "execution_count": 118,
   "id": "190687ba",
   "metadata": {},
   "outputs": [
    {
     "name": "stdout",
     "output_type": "stream",
     "text": [
      "Population stdev: 2.00\n",
      "Sampled stdev: 3.79\n",
      "df = 9\n",
      "chi square = 32.40\n",
      "Prob of variation is bigger than the sample. p = 0.00\n",
      "Lower %2.5 Chi square = 2.70  Top %2.5 Chi square = 19.02\n",
      "%95 confidence range of stdev: (1.10, 2.91), when sampling 10 times from a population with stdev of 2.00.\n",
      "%95 confidence range of the population stdev: (2.61, 6.93), where the samples came from.\n"
     ]
    },
    {
     "data": {
      "text/plain": [
       "{'p': 0.00016978124392141858,\n",
       " 'chi_sq': 32.4,\n",
       " 'stdev': 3.794733192202055,\n",
       " 'df': 9,\n",
       " '95_chi2_range': (2.7003894999803584, 19.02276779864163),\n",
       " '95_range_from_P': (1.0955241262073516, 2.9076732048259735),\n",
       " 'n': 10,\n",
       " '95_range_from_S': (2.6101510898155924, 6.927703555629079)}"
      ]
     },
     "execution_count": 118,
     "metadata": {},
     "output_type": "execute_result"
    }
   ],
   "source": [
    "chi2_test_stdev(weights,2)"
   ]
  },
  {
   "cell_type": "code",
   "execution_count": 99,
   "id": "4c5ea644",
   "metadata": {},
   "outputs": [
    {
     "name": "stdout",
     "output_type": "stream",
     "text": [
      "Population stdev: 3.79\n",
      "Sampled stdev: 3.79\n",
      "df = 9\n",
      "chi square = 9.00\n",
      "Prob of variation is bigger than the sample. p = 0.44\n",
      "Lower %2.5 Chi square = 2.70  Top %2.5 Chi square = 19.02\n",
      "%95 confidence range of stdev: (2.08, 5.52), when sampling 10 times from a population with stdev of 3.79\n"
     ]
    },
    {
     "data": {
      "text/plain": [
       "{'p': 0.43727418891386693,\n",
       " 'chi_sq': 9.0,\n",
       " 'stdev': 3.794733192202055,\n",
       " 'df': 9,\n",
       " '95_chi2_range': (2.7003894999803584, 19.02276779864163),\n",
       " '95_std_range': (2.0786108822885954, 5.516922011214823),\n",
       " 'n': 10}"
      ]
     },
     "execution_count": 99,
     "metadata": {},
     "output_type": "execute_result"
    }
   ],
   "source": [
    "chi2_test_stdev(weights,3.794733192202055)"
   ]
  },
  {
   "cell_type": "code",
   "execution_count": 100,
   "id": "ecd5261b",
   "metadata": {},
   "outputs": [
    {
     "name": "stdout",
     "output_type": "stream",
     "text": [
      "Population stdev: 9.00\n",
      "Sampled stdev: 3.79\n",
      "df = 9\n",
      "chi square = 1.60\n",
      "Prob of variation is bigger than the sample. p = 1.00\n",
      "Lower %2.5 Chi square = 2.70  Top %2.5 Chi square = 19.02\n",
      "%95 confidence range of stdev: (4.93, 13.08), when sampling 10 times from a population with stdev of 9.00\n"
     ]
    },
    {
     "data": {
      "text/plain": [
       "{'p': 0.9963346891041484,\n",
       " 'chi_sq': 1.5999999999999999,\n",
       " 'stdev': 3.794733192202055,\n",
       " 'df': 9,\n",
       " '95_chi2_range': (2.7003894999803584, 19.02276779864163),\n",
       " '95_std_range': (4.929858567933082, 13.08452942171688),\n",
       " 'n': 10}"
      ]
     },
     "execution_count": 100,
     "metadata": {},
     "output_type": "execute_result"
    }
   ],
   "source": [
    "chi2_test_stdev(weights,9)"
   ]
  },
  {
   "cell_type": "code",
   "execution_count": 40,
   "id": "b68e04d8",
   "metadata": {},
   "outputs": [
    {
     "data": {
      "text/plain": [
       "[<matplotlib.lines.Line2D at 0x7fdafddc9970>]"
      ]
     },
     "execution_count": 40,
     "metadata": {},
     "output_type": "execute_result"
    },
    {
     "data": {
      "image/png": "[encoded data removed]",
      "text/plain": [
       "<Figure size 640x480 with 1 Axes>"
      ]
     },
     "metadata": {},
     "output_type": "display_data"
    }
   ],
   "source": [
    "\n",
    "import matplotlib.pyplot as plt\n",
    "\n",
    "fig, ax = plt.subplots(1, 1)\n",
    "\n",
    "df = 9\n",
    "\n",
    "x = np.linspace(chi2.ppf(0.01, df),\n",
    "\n",
    "                chi2.ppf(0.99, df), 100)\n",
    "\n",
    "ax.plot(x, chi2.cdf(x, df),\n",
    "\n",
    "       'r-', lw=5, alpha=0.6, label='t pdf')"
   ]
  },
  {
   "cell_type": "code",
   "execution_count": 41,
   "id": "babac810",
   "metadata": {},
   "outputs": [
    {
     "data": {
      "text/plain": [
       "[<matplotlib.lines.Line2D at 0x7fdafdb604d0>]"
      ]
     },
     "execution_count": 41,
     "metadata": {},
     "output_type": "execute_result"
    },
    {
     "data": {
      "image/png": "[encoded data removed]",
      "text/plain": [
       "<Figure size 640x480 with 1 Axes>"
      ]
     },
     "metadata": {},
     "output_type": "display_data"
    }
   ],
   "source": [
    "# Chi square dist has the average equal to df\n",
    "# but not the max point of pdf is df, since it is not symetric\n",
    "# the mean point is on the right side of the max point\n",
    "\n",
    "fig, ax = plt.subplots(1, 1)\n",
    "\n",
    "df = 9\n",
    "\n",
    "x = np.linspace(chi2.ppf(0.01, df),\n",
    "\n",
    "                chi2.ppf(0.99, df), 100)\n",
    "\n",
    "ax.plot(x, chi2.pdf(x, df),\n",
    "\n",
    "       'r-', lw=5, alpha=0.6, label='t pdf')"
   ]
  },
  {
   "cell_type": "code",
   "execution_count": null,
   "id": "4eecb056",
   "metadata": {},
   "outputs": [],
   "source": []
  }
 ],
 "metadata": {
  "kernelspec": {
   "display_name": "Python 3 (ipykernel)",
   "language": "python",
   "name": "python3"
  },
  "language_info": {
   "codemirror_mode": {
    "name": "ipython",
    "version": 3
   },
   "file_extension": ".py",
   "mimetype": "text/x-python",
   "name": "python",
   "nbconvert_exporter": "python",
   "pygments_lexer": "ipython3",
   "version": "3.12.3"
  }
 },
 "nbformat": 4,
 "nbformat_minor": 5
}
