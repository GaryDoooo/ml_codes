{
 "cells": [
  {
   "cell_type": "code",
   "execution_count": 1,
   "id": "9009d5bd",
   "metadata": {},
   "outputs": [],
   "source": [
    "from pptx import Presentation\n",
    "from pptx.enum.shapes import MSO_SHAPE\n",
    "from pptx.dml.color import RGBColor\n",
    "from pptx.util import Inches, Pt"
   ]
  },
  {
   "cell_type": "code",
   "execution_count": 2,
   "id": "1e9be65c",
   "metadata": {},
   "outputs": [],
   "source": [
    "prs = Presentation()\n",
    "prs.slide_width = Inches(16)\n",
    "prs.slide_height = Inches(9)"
   ]
  },
  {
   "cell_type": "code",
   "execution_count": 33,
   "id": "5cb0218b",
   "metadata": {},
   "outputs": [],
   "source": [
    "slide = prs.slides.add_slide(prs.slide_layouts[5])"
   ]
  },
  {
   "cell_type": "code",
   "execution_count": 34,
   "id": "ccf53a32",
   "metadata": {},
   "outputs": [],
   "source": [
    "title=slide.shapes.title # assigning a title\n",
    "title.text=\"Hey,This is a Slide! How exciting!\" # title"
   ]
  },
  {
   "cell_type": "code",
   "execution_count": 29,
   "id": "d3402242",
   "metadata": {},
   "outputs": [],
   "source": [
    "pic = slide.shapes.add_picture(\"test.png\", Inches(1.5),Inches(1.8))"
   ]
  },
  {
   "cell_type": "code",
   "execution_count": null,
   "id": "68da8cf6",
   "metadata": {},
   "outputs": [],
   "source": []
  },
  {
   "cell_type": "code",
   "execution_count": 30,
   "id": "384791df",
   "metadata": {},
   "outputs": [],
   "source": [
    "text_box=slide.shapes.add_textbox(Inches(8), Inches(2.5), width=Inches(5), height=Inches(5))\n",
    "tb=text_box.text_frame\n",
    "tb.text='Do you know how the Orcs first came into being? They were elves once,\\n\\\n",
    "taken by the dark powers, tortured and mutilated. A ruined and terrible form of life.\\n\\\n",
    "Now... perfected. My fighting Uruk-Hai. Whom do you serve?'"
   ]
  },
  {
   "cell_type": "code",
   "execution_count": 36,
   "id": "e5278371",
   "metadata": {},
   "outputs": [],
   "source": [
    "prs.save(\"slide1.pptx\") # saving file"
   ]
  },
  {
   "cell_type": "code",
   "execution_count": 32,
   "id": "8696e127",
   "metadata": {},
   "outputs": [
    {
     "data": {
      "image/png": "[encoded data removed]",
      "text/plain": [
       "<Figure size 432x288 with 1 Axes>"
      ]
     },
     "metadata": {
      "needs_background": "light"
     },
     "output_type": "display_data"
    }
   ],
   "source": [
    "import matplotlib.pyplot as plt\n",
    "\n",
    "fig, ax = plt.subplots()\n",
    "\n",
    "fruits = ['apple', 'blueberry', 'cherry', 'orange']\n",
    "counts = [40, 100, 30, 55]\n",
    "bar_labels = ['red', 'blue', '_red', 'orange']\n",
    "bar_colors = ['tab:red', 'tab:blue', 'tab:red', 'tab:orange']\n",
    "\n",
    "ax.bar(fruits, counts, label=bar_labels, color=bar_colors)\n",
    "\n",
    "ax.set_ylabel('fruit supply')\n",
    "ax.set_title('Fruit supply by kind and color')\n",
    "ax.legend(title='Fruit color')\n",
    "\n",
    "import io\n",
    "\n",
    "image_stream = io.BytesIO()\n",
    "plt.savefig(image_stream,dpi=200)"
   ]
  },
  {
   "cell_type": "code",
   "execution_count": 35,
   "id": "f773fad0",
   "metadata": {},
   "outputs": [],
   "source": [
    "pic = slide.shapes.add_picture(image_stream, Inches(1.5),Inches(1.8))"
   ]
  },
  {
   "cell_type": "code",
   "execution_count": 39,
   "id": "37a00ffe",
   "metadata": {},
   "outputs": [],
   "source": [
    "data=((\"red\",1,2),(\"rsd\",2,3),(\"eds\",1.2,1.4),(\"dre\",1.4,2),(\"der\",2,1.9),(\"wes\",1.2,1.3))"
   ]
  },
  {
   "cell_type": "code",
   "execution_count": 76,
   "id": "e369f89e",
   "metadata": {},
   "outputs": [],
   "source": [
    "import matplotlib.pyplot as plt\n",
    "# import seaborn as sns\n",
    "\n",
    "def boxplot(data,labels,xlabel=\"\",ylabel=\"\",title=\"\"\n",
    "           ,USL=-10000,LSL=-9999):\n",
    "    all_data = [[_[i] for _ in data] for i in range(1,len(labels)+1)]\n",
    "    \n",
    "    fig, ax = plt.subplots(nrows=1, ncols=1)\n",
    "    # rectangular box plot\n",
    "    ax.boxplot(all_data,\n",
    "                         vert=True,  # vertical box alignment\n",
    "                         patch_artist=False,  # fill with color\n",
    "                         showmeans=True, \n",
    "                         showfliers=False,\n",
    "                         labels=labels)  # will be used to label x-ticks\n",
    "    if (USL>-10000 or LSL>-9999):\n",
    "        reference=[]\n",
    "        if USL>-10000:\n",
    "            reference.append(USL)\n",
    "        if LSL>-9999:\n",
    "            reference.append(LSL)\n",
    "        left, right = plt.xlim()\n",
    "        plt.hlines(reference, xmin=left, xmax=right, color='grey', linestyles='--')\n",
    "            \n",
    "    \n",
    "    ax.set_title(title)\n",
    "    ax.set_xlabel(xlabel)\n",
    "    ax.set_ylabel(ylabel)\n",
    "\n",
    "    plt.show()\n"
   ]
  },
  {
   "cell_type": "code",
   "execution_count": 78,
   "id": "da47de6b",
   "metadata": {},
   "outputs": [
    {
     "data": {
      "image/png": "[encoded data removed]",
      "text/plain": [
       "<Figure size 432x288 with 1 Axes>"
      ]
     },
     "metadata": {},
     "output_type": "display_data"
    }
   ],
   "source": [
    "boxplot(data,[\"1\",\"2\"],USL=2.5,LSL=1)"
   ]
  },
  {
   "cell_type": "code",
   "execution_count": 105,
   "id": "c422008c",
   "metadata": {},
   "outputs": [],
   "source": [
    "import numpy as np\n",
    "\n",
    "def boxplot_scatter(data,labels,xlabel=\"\",ylabel=\"\",title=\"\"\n",
    "           ,USL=-10000,LSL=-9999):\n",
    "    all_data = [[_[i] for _ in data] for i in range(1,len(labels)+1)]\n",
    "    \n",
    "    fig, ax = plt.subplots(nrows=1, ncols=1)\n",
    "    # rectangular box plot\n",
    "    ax.boxplot(all_data,\n",
    "                         vert=True,  # vertical box alignment\n",
    "                         patch_artist=False,  # fill with color\n",
    "                         showmeans=True, \n",
    "                         showfliers=False,\n",
    "                         labels=labels)  # will be used to label x-ticks\n",
    "    if (USL>-10000 or LSL>-9999):\n",
    "        reference=[]\n",
    "        if USL>-10000:\n",
    "            reference.append(USL)\n",
    "            title=title+\"\\nUSL=%.2f\"%(USL)\n",
    "        if LSL>-9999:\n",
    "            reference.append(LSL)\n",
    "            if USL>-10000:\n",
    "                title=title+\" \"\n",
    "            else:\n",
    "                title=title+\"\\n\"\n",
    "            title=title+\"LSL=%.2f\"%(LSL)\n",
    "        left, right = plt.xlim()\n",
    "        plt.hlines(reference, xmin=left, xmax=right, color='grey', linestyles='--')\n",
    "            \n",
    "    \n",
    "    ax.set_title(title)\n",
    "    ax.set_xlabel(xlabel)\n",
    "    ax.set_ylabel(ylabel)\n",
    "    \n",
    "    for i,y in enumerate(all_data):\n",
    "        x=np.random.normal(i+1,0.04,len(y))\n",
    "        ax.scatter(x,y,color=\"grey\",alpha=0.75)\n",
    "\n",
    "    plt.show()\n"
   ]
  },
  {
   "cell_type": "code",
   "execution_count": 109,
   "id": "5eb5c500",
   "metadata": {},
   "outputs": [
    {
     "data": {
      "image/png": "[encoded data removed]",
      "text/plain": [
       "<Figure size 432x288 with 1 Axes>"
      ]
     },
     "metadata": {},
     "output_type": "display_data"
    }
   ],
   "source": [
    "boxplot_scatter(data,[\"1\",\"2\"],LSL=1,title=\"Title\",ylabel=\"Y Label\")"
   ]
  },
  {
   "cell_type": "code",
   "execution_count": 112,
   "id": "03cfb0b1",
   "metadata": {},
   "outputs": [],
   "source": [
    "def table(data,labels):\n",
    "    all_data = [[_[i] for _ in data] for i in range(1,len(labels)+1)]\n",
    "    \n",
    "    fig, ax = plt.subplots(nrows=1, ncols=1)\n",
    "    # rectangular box plot\n",
    "    ax.table(all_data,\n",
    "             colLabels=[_[0] for _ in data],\n",
    "             rowLabels=labels\n",
    "            )\n",
    "\n",
    "    plt.show()\n"
   ]
  },
  {
   "cell_type": "code",
   "execution_count": 113,
   "id": "831b00be",
   "metadata": {},
   "outputs": [
    {
     "data": {
      "image/png": "[encoded data removed]",
      "text/plain": [
       "<Figure size 432x288 with 1 Axes>"
      ]
     },
     "metadata": {},
     "output_type": "display_data"
    }
   ],
   "source": [
    "table(data,[\"ssss\",\"dsfs\"])"
   ]
  },
  {
   "cell_type": "code",
   "execution_count": 114,
   "id": "66bcc511",
   "metadata": {},
   "outputs": [],
   "source": [
    "def linear_fit(data,labels,title=\"\"):\n",
    "    all_data = [[_[i] for _ in data] for i in range(1,len(labels)+1)]\n",
    "    \n",
    "    fig, ax = plt.subplots(nrows=1, ncols=1)\n",
    "   \n",
    "    ax.set_title(title)\n",
    "    ax.set_xlabel(xlabel)\n",
    "    ax.set_ylabel(ylabel)\n",
    "\n",
    "    plt.show()"
   ]
  },
  {
   "cell_type": "code",
   "execution_count": 115,
   "id": "579bfd49",
   "metadata": {},
   "outputs": [],
   "source": [
    "tips = sns.load_dataset(\"tips\")"
   ]
  },
  {
   "cell_type": "code",
   "execution_count": 117,
   "id": "bc2ffb45",
   "metadata": {},
   "outputs": [
    {
     "data": {
      "text/plain": [
       "pandas.core.frame.DataFrame"
      ]
     },
     "execution_count": 117,
     "metadata": {},
     "output_type": "execute_result"
    }
   ],
   "source": [
    "type(tips)"
   ]
  },
  {
   "cell_type": "code",
   "execution_count": null,
   "id": "2ae55410",
   "metadata": {},
   "outputs": [],
   "source": []
  }
 ],
 "metadata": {
  "kernelspec": {
   "display_name": "Python 3 (ipykernel)",
   "language": "python",
   "name": "python3"
  },
  "language_info": {
   "codemirror_mode": {
    "name": "ipython",
    "version": 3
   },
   "file_extension": ".py",
   "mimetype": "text/x-python",
   "name": "python",
   "nbconvert_exporter": "python",
   "pygments_lexer": "ipython3",
   "version": "3.12.3"
  }
 },
 "nbformat": 4,
 "nbformat_minor": 5
}
