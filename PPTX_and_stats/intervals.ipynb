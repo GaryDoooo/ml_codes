{
 "cells": [
  {
   "cell_type": "code",
   "execution_count": 1,
   "id": "ee97aaac",
   "metadata": {},
   "outputs": [
    {
     "name": "stdout",
     "output_type": "stream",
     "text": [
      "Two-sided tolerance interval: (-4.1816, 16.0816)\n",
      "One-sided upper tolerance interval: x ≤ 13.8438\n",
      "One-sided lower tolerance interval: x ≥ 13.8438\n"
     ]
    }
   ],
   "source": [
    "import numpy as np\n",
    "from scipy import stats\n",
    "\n",
    "def tolerance_interval(data, alpha, P, side='two'):\n",
    "    n = len(data)\n",
    "    mean = np.mean(data)\n",
    "    std = np.std(data, ddof=1)\n",
    "    \n",
    "    # Calculate degrees of freedom\n",
    "    df = n - 1\n",
    "    \n",
    "    # Calculate z-score for the desired proportion\n",
    "    if side == 'two':\n",
    "        z = stats.norm.ppf((1 + P) / 2)\n",
    "    else:  # one-sided\n",
    "        z = stats.norm.ppf(P)\n",
    "    \n",
    "    # Calculate chi-square values\n",
    "    chi2_lower = stats.chi2.ppf(alpha / 2, df)\n",
    "    chi2_upper = stats.chi2.ppf(1 - alpha / 2, df)\n",
    "    \n",
    "    # Calculate k factor\n",
    "    k = z * np.sqrt((n * (1 + 1/n)) / chi2_lower)\n",
    "    \n",
    "    if side == 'two':\n",
    "        lower_bound = mean - k * std\n",
    "        upper_bound = mean + k * std\n",
    "        return lower_bound, upper_bound\n",
    "    else:  # one-sided\n",
    "        if P > 0.5:  # upper bound\n",
    "            return mean + k * std\n",
    "        else:  # lower bound\n",
    "            return mean - k * std\n",
    "\n",
    "# Example usage\n",
    "data = [1.2, 2.3, 3.4, 4.5, 5.6, 6.7, 7.8, 8.9, 9.0, 10.1]\n",
    "alpha = 0.05  # 95% confidence level\n",
    "P = 0.90  # 90% of the population\n",
    "\n",
    "# Calculate two-sided tolerance interval\n",
    "lower, upper = tolerance_interval(data, alpha, P, side='two')\n",
    "print(f\"Two-sided tolerance interval: ({lower:.4f}, {upper:.4f})\")\n",
    "\n",
    "# Calculate one-sided upper tolerance interval\n",
    "upper_bound = tolerance_interval(data, alpha, P, side='one')\n",
    "print(f\"One-sided upper tolerance interval: x ≤ {upper_bound:.4f}\")\n",
    "\n",
    "# Calculate one-sided lower tolerance interval\n",
    "lower_bound = tolerance_interval(data, alpha, 1-P, side='one')\n",
    "print(f\"One-sided lower tolerance interval: x ≥ {lower_bound:.4f}\")\n"
   ]
  },
  {
   "cell_type": "code",
   "execution_count": 3,
   "id": "c2eda38b",
   "metadata": {},
   "outputs": [
    {
     "name": "stdout",
     "output_type": "stream",
     "text": [
      "The integral of f(x) from 0 to infinity is: 0.00224858470717719\n",
      "Estimated error: 1.2857581473918835e-10\n"
     ]
    }
   ],
   "source": [
    "import numpy as np\n",
    "from scipy import integrate\n",
    "from scipy.stats import chi2,ncx2,norm\n",
    "\n",
    "n=10\n",
    "P=.9\n",
    "k=1\n",
    "\n",
    "def f(x):\n",
    "#     return np.exp(-x)  # Example function: e^(-x)\n",
    "    dn=(n-1)*ncx2.ppf(P,1,x*x/n)\n",
    "    return 2*(1-chi2.cdf(dn/k/k,n-1))*norm.pdf(x)\n",
    "\n",
    "# Integrate f(x) from 0 to infinity\n",
    "result, error = integrate.quad(f, 0, np.inf)\n",
    "\n",
    "print(f\"The integral of f(x) from 0 to infinity is: {result}\")\n",
    "print(f\"Estimated error: {error}\")\n"
   ]
  },
  {
   "cell_type": "code",
   "execution_count": 30,
   "id": "c7c447d5",
   "metadata": {},
   "outputs": [
    {
     "data": {
      "text/plain": [
       "2.8562545776367188"
      ]
     },
     "execution_count": 30,
     "metadata": {},
     "output_type": "execute_result"
    }
   ],
   "source": [
    "from matplotlib import pyplot as plt\n",
    "n=10\n",
    "P=.90\n",
    "def equation(k):\n",
    "    def f(x):\n",
    "        dn=(n-1)*ncx2.ppf(P,1,x*x/n)\n",
    "        return 2*(1-chi2.cdf(dn/k/k,n-1))*norm.pdf(x)\n",
    "# return ((2*n/np.pi)**.5)*(1-chi2.cdf(dn/k/k,n-1))*np.exp(-0.5*n*x*x)\n",
    "    result, error = integrate.quad(f, 0, np.inf)\n",
    "    return result\n",
    "\n",
    "def solve(alpha=0.05):\n",
    "    l,r=0,10000\n",
    "    thd=0.0001\n",
    "    while abs(r-l)>thd:\n",
    "        m=(l+r)/2\n",
    "        res=equation(m)-1+alpha\n",
    "        if res>0:\n",
    "            r=m\n",
    "        else:\n",
    "            l=m\n",
    "    return l\n",
    "\n",
    "solve()\n",
    "            \n",
    "    "
   ]
  },
  {
   "cell_type": "code",
   "execution_count": 12,
   "id": "79d43022",
   "metadata": {},
   "outputs": [
    {
     "name": "stderr",
     "output_type": "stream",
     "text": [
      "/tmp/ipykernel_76/247989770.py:8: RuntimeWarning: divide by zero encountered in scalar divide\n",
      "  return 2*(1-chi2.cdf(dn/k/k,n-1))*norm.pdf(x)\n"
     ]
    },
    {
     "data": {
      "text/plain": [
       "[<matplotlib.lines.Line2D at 0x7f1bf808cb60>]"
      ]
     },
     "execution_count": 12,
     "metadata": {},
     "output_type": "execute_result"
    },
    {
     "data": {
      "image/png": "[encoded data removed]",
      "text/plain": [
       "<Figure size 640x480 with 1 Axes>"
      ]
     },
     "metadata": {},
     "output_type": "display_data"
    }
   ],
   "source": [
    "x=np.linspace(0,10,100)\n",
    "y=[equation(i) for i in x]\n",
    "plt.plot(x,y)"
   ]
  },
  {
   "cell_type": "code",
   "execution_count": 31,
   "id": "c8950367",
   "metadata": {},
   "outputs": [
    {
     "name": "stdout",
     "output_type": "stream",
     "text": [
      "14.667288970947265 -2.7672889709472654\n"
     ]
    }
   ],
   "source": [
    "k=2.8562545776367188\n",
    "# k=3.3933669328689575\n",
    "# k=2.7198344469070435\n",
    "u=5.95\n",
    "s=3.052\n",
    "print(u+k*s,u-k*s)"
   ]
  },
  {
   "cell_type": "code",
   "execution_count": 21,
   "id": "93c03199",
   "metadata": {},
   "outputs": [
    {
     "data": {
      "text/plain": [
       "7.38905609893065"
      ]
     },
     "execution_count": 21,
     "metadata": {},
     "output_type": "execute_result"
    }
   ],
   "source": [
    "np.exp(2)"
   ]
  },
  {
   "cell_type": "code",
   "execution_count": 37,
   "id": "b92a65b1",
   "metadata": {},
   "outputs": [
    {
     "name": "stdout",
     "output_type": "stream",
     "text": [
      "13.13636168234229 -1.2363616823422907\n"
     ]
    }
   ],
   "source": [
    "from scipy.stats import nct\n",
    "n=10\n",
    "P=.9\n",
    "alpha=.05\n",
    "delta=norm.ppf(P)*(n**.5)\n",
    "k=nct.ppf(1-alpha,n-1,delta)/(n**.5)\n",
    "u=5.95\n",
    "s=3.052\n",
    "print(u+k*s,u-k*s)"
   ]
  },
  {
   "cell_type": "code",
   "execution_count": 2,
   "id": "1301689c",
   "metadata": {},
   "outputs": [
    {
     "name": "stdout",
     "output_type": "stream",
     "text": [
      "Order-insensitive hash: 6049592359779828051\n"
     ]
    }
   ],
   "source": [
    "def order_insensitive_hash(numbers):\n",
    "    return hash((len(numbers), sum(numbers), sum(n**2 for n in numbers)))\n",
    "\n",
    "numbers = [3, 1, 4, 1, 5, 19]\n",
    "hash_value = order_insensitive_hash(numbers)\n",
    "print(f\"Order-insensitive hash: {hash_value}\")"
   ]
  },
  {
   "cell_type": "code",
   "execution_count": 3,
   "id": "41d49df5",
   "metadata": {},
   "outputs": [
    {
     "name": "stdout",
     "output_type": "stream",
     "text": [
      "XOR Hash: 11\n"
     ]
    }
   ],
   "source": [
    "def hash_xor(numbers):\n",
    "    h = 0\n",
    "    for num in numbers:\n",
    "        h ^= hash(num)\n",
    "    return h\n",
    "\n",
    "numbers = [3, 1, 4, 1, 5, 9]\n",
    "print(f\"XOR Hash: {hash_xor(numbers)}\")\n"
   ]
  },
  {
   "cell_type": "code",
   "execution_count": 4,
   "id": "7a1b9f90",
   "metadata": {},
   "outputs": [
    {
     "name": "stdout",
     "output_type": "stream",
     "text": [
      "Combined Hash: -8359928141275670570\n"
     ]
    }
   ],
   "source": [
    "def hash_combined(numbers):\n",
    "    length = len(numbers)\n",
    "    sum_nums = sum(numbers)\n",
    "    sum_squares = sum(n**2 for n in numbers)\n",
    "    xor_hash = hash_xor(numbers)\n",
    "    return hash((length, sum_nums, sum_squares, xor_hash))\n",
    "\n",
    "numbers = [3, 1, 4, 1, 5, 9]\n",
    "print(f\"Combined Hash: {hash_combined(numbers)}\")"
   ]
  },
  {
   "cell_type": "code",
   "execution_count": null,
   "id": "5b82ed8e",
   "metadata": {},
   "outputs": [],
   "source": []
  }
 ],
 "metadata": {
  "kernelspec": {
   "display_name": "Python 3 (ipykernel)",
   "language": "python",
   "name": "python3"
  },
  "language_info": {
   "codemirror_mode": {
    "name": "ipython",
    "version": 3
   },
   "file_extension": ".py",
   "mimetype": "text/x-python",
   "name": "python",
   "nbconvert_exporter": "python",
   "pygments_lexer": "ipython3",
   "version": "3.12.3"
  }
 },
 "nbformat": 4,
 "nbformat_minor": 5
}
