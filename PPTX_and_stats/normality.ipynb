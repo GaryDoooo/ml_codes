{
 "cells": [
  {
   "cell_type": "code",
   "execution_count": 6,
   "id": "9d607f43",
   "metadata": {},
   "outputs": [
    {
     "data": {
      "image/png": "[encoded data removed]",
      "text/plain": [
       "<Figure size 640x480 with 1 Axes>"
      ]
     },
     "metadata": {},
     "output_type": "display_data"
    },
    {
     "name": "stdout",
     "output_type": "stream",
     "text": [
      "(array([-2.46203784, -2.12570747, -1.93122778, -1.79044653, -1.67819304,\n",
      "       -1.58381122, -1.50174123, -1.42869743, -1.36256869, -1.30191411,\n",
      "       -1.24570419, -1.19317644, -1.14374949, -1.09696931, -1.05247413,\n",
      "       -1.00997067, -0.96921765, -0.93001393, -0.89218993, -0.85560121,\n",
      "       -0.82012357, -0.78564937, -0.75208458, -0.71934648, -0.68736185,\n",
      "       -0.65606548, -0.62539893, -0.59530962, -0.56574992, -0.53667655,\n",
      "       -0.50804994, -0.47983378, -0.45199463, -0.42450149, -0.39732558,\n",
      "       -0.37044003, -0.34381966, -0.31744076, -0.29128096, -0.26531902,\n",
      "       -0.23953472, -0.21390872, -0.18842244, -0.16305799, -0.13779803,\n",
      "       -0.1126257 , -0.08752455, -0.06247843, -0.03747145, -0.01248789,\n",
      "        0.01248789,  0.03747145,  0.06247843,  0.08752455,  0.1126257 ,\n",
      "        0.13779803,  0.16305799,  0.18842244,  0.21390872,  0.23953472,\n",
      "        0.26531902,  0.29128096,  0.31744076,  0.34381966,  0.37044003,\n",
      "        0.39732558,  0.42450149,  0.45199463,  0.47983378,  0.50804994,\n",
      "        0.53667655,  0.56574992,  0.59530962,  0.62539893,  0.65606548,\n",
      "        0.68736185,  0.71934648,  0.75208458,  0.78564937,  0.82012357,\n",
      "        0.85560121,  0.89218993,  0.93001393,  0.96921765,  1.00997067,\n",
      "        1.05247413,  1.09696931,  1.14374949,  1.19317644,  1.24570419,\n",
      "        1.30191411,  1.36256869,  1.42869743,  1.50174123,  1.58381122,\n",
      "        1.67819304,  1.79044653,  1.93122778,  2.12570747,  2.46203784]), array([-2.55298982, -1.98079647, -1.7262826 , -1.70627019, -1.63019835,\n",
      "       -1.61389785, -1.53624369, -1.45436567, -1.42001794, -1.25279536,\n",
      "       -1.23482582, -1.18063218, -1.16514984, -1.07075262, -1.04855297,\n",
      "       -0.97727788, -0.90729836, -0.89546656, -0.88778575, -0.87079715,\n",
      "       -0.85409574, -0.81314628, -0.74216502, -0.68481009, -0.67246045,\n",
      "       -0.63432209, -0.57884966, -0.51080514, -0.50965218, -0.4380743 ,\n",
      "       -0.40317695, -0.40178094, -0.38732682, -0.36274117, -0.35955316,\n",
      "       -0.34791215, -0.31155253, -0.30230275, -0.21274028, -0.20515826,\n",
      "       -0.18718385, -0.17992484, -0.15135721, -0.10321885, -0.02818223,\n",
      "        0.01050002,  0.04575852,  0.0519454 ,  0.05616534,  0.06651722,\n",
      "        0.12167502,  0.12691209,  0.12898291,  0.14404357,  0.15494743,\n",
      "        0.15634897,  0.17742614,  0.20827498,  0.3024719 ,  0.3130677 ,\n",
      "        0.33367433,  0.3563664 ,  0.37816252,  0.3869025 ,  0.40015721,\n",
      "        0.40198936,  0.40234164,  0.4105985 ,  0.42833187,  0.44386323,\n",
      "        0.46278226,  0.46566244,  0.6536186 ,  0.70657317,  0.72909056,\n",
      "        0.76103773,  0.77749036,  0.8644362 ,  0.90082649,  0.95008842,\n",
      "        0.97663904,  0.97873798,  1.05445173,  1.13940068,  1.17877957,\n",
      "        1.20237985,  1.22244507,  1.23029068,  1.45427351,  1.46935877,\n",
      "        1.48825219,  1.49407907,  1.53277921,  1.76405235,  1.78587049,\n",
      "        1.86755799,  1.89588918,  1.9507754 ,  2.2408932 ,  2.26975462])) (1.025948959817894, 0.059808015534484775, 0.9975363633367853)\n"
     ]
    }
   ],
   "source": [
    "import numpy as np\n",
    "import matplotlib.pyplot as plt\n",
    "import scipy.stats as stats\n",
    "\n",
    "# Generate example data\n",
    "np.random.seed(0)\n",
    "data = np.random.normal(loc=0, scale=1, size=100)\n",
    "\n",
    "# Create Q-Q plot\n",
    "a,b=stats.probplot(data, dist=\"norm\", plot=plt)\n",
    "\n",
    "plt.title('Normal Q-Q plot')\n",
    "plt.xlabel('Theoretical quantiles')\n",
    "plt.ylabel('Ordered Values')\n",
    "plt.show()\n",
    "\n",
    "print(a,b)"
   ]
  },
  {
   "cell_type": "code",
   "execution_count": 2,
   "id": "25662f20",
   "metadata": {},
   "outputs": [
    {
     "name": "stdout",
     "output_type": "stream",
     "text": [
      "100th percentile: 10.0\n",
      "99.5th percentile: 9.955\n",
      "97.5th percentile: 9.775\n",
      "90th percentile: 9.1\n",
      "75th percentile: 7.75\n",
      "50th percentile: 5.5\n",
      "25th percentile: 3.25\n",
      "10th percentile: 1.9\n",
      "2.5th percentile: 1.225\n",
      "0.5th percentile: 1.045\n",
      "0th percentile: 1.0\n"
     ]
    }
   ],
   "source": [
    "import numpy as np\n",
    "\n",
    "# Example list\n",
    "data = [1, 2, 3, 4, 5, 6, 7, 8, 9, 10]\n",
    "\n",
    "# Percentiles\n",
    "percentiles = [100, 99.5, 97.5, 90, 75, 50, 25, 10, 2.5, 0.5, 0]\n",
    "\n",
    "# Calculate quantiles\n",
    "quantiles = np.quantile(data,[i/100 for i in percentiles])\n",
    "\n",
    "# Print results\n",
    "for p, q in zip(percentiles, quantiles):\n",
    "    print(f\"{p}th percentile: {q}\")\n",
    "    \n",
    "######## NOT same to JMP!\n"
   ]
  },
  {
   "cell_type": "code",
   "execution_count": 13,
   "id": "89343814",
   "metadata": {},
   "outputs": [
    {
     "name": "stdout",
     "output_type": "stream",
     "text": [
      "25th percentile: 0.011\n",
      "50th percentile (median): 5.5\n",
      "75th percentile: 0.033\n"
     ]
    }
   ],
   "source": [
    "import statistics\n",
    "\n",
    "data = [1, 2, 3, 4, 5, 6, 7, 8, 9, 10]\n",
    "\n",
    "print(\"25th percentile:\", statistics.quantiles(data, n=1000)[0])\n",
    "print(\"50th percentile (median):\", statistics.median(data))\n",
    "print(\"75th percentile:\", statistics.quantiles(data, n=1000)[2])\n",
    "\n",
    "######## NOT same to JMP!\n"
   ]
  },
  {
   "cell_type": "code",
   "execution_count": 3,
   "id": "735e67a5",
   "metadata": {},
   "outputs": [
    {
     "data": {
      "text/plain": [
       "[10, 10, 10, 9.9, 8.25, 5.5, 2.75, 1.1, 1, 1, 1]"
      ]
     },
     "execution_count": 3,
     "metadata": {},
     "output_type": "execute_result"
    }
   ],
   "source": [
    "########## Result same to JMP  ##################\n",
    "\n",
    "def quantiles(input_data,\n",
    "              percentiles = [100, 99.5, 97.5, 90, 75, 50, \n",
    "                             25, 10, 2.5, 0.5, 0]):\n",
    "    \n",
    "    data=sorted([i for i in input_data])\n",
    "    N=len(data)\n",
    "    # x input is percentile\n",
    "    p=lambda x:(N+1)*x/100\n",
    "    \n",
    "    def value(i):\n",
    "        if i<=1:\n",
    "            return data[0]\n",
    "        if i>=N:\n",
    "            return data[-1]\n",
    "        a1=data[int(i)-1]\n",
    "        a2=data[int(i)]\n",
    "        dec=i-int(i)\n",
    "        return a1+(a2-a1)*dec\n",
    "    \n",
    "    res=[]\n",
    "    for i in percentiles:\n",
    "        res.append(value(p(i)))\n",
    "    return res\n",
    "    ########## Result same to JMP  ##################\n",
    "quantiles([1, 2, 3, 4, 5, 6, 7, 8, 9, 10])"
   ]
  },
  {
   "cell_type": "code",
   "execution_count": 4,
   "id": "9ec1ca60",
   "metadata": {},
   "outputs": [
    {
     "data": {
      "text/plain": [
       "[23.2, 23.2, 23.2, 22.62, 21.2, 20.5, 19.25, 18.65, 16.5, 16.5, 16.5]"
      ]
     },
     "execution_count": 4,
     "metadata": {},
     "output_type": "execute_result"
    }
   ],
   "source": [
    "data = [18.5, 21.2, 19.4, 16.5, 17.9, 19.0, 20.3, 21.2, 19.6, 19.8, 20.4, 20.5, \n",
    "          22.2, 21.5, 20.8, 20.3, 19.1, 20.6, 20.8, 21.6, 22.8, 22.2, 23.2, 23.0, \n",
    "          19.0, 20.5, 20.3, 19.2, 20.7, 21.0, 20.5, 19.1]\n",
    "\n",
    "quantiles(data)"
   ]
  },
  {
   "cell_type": "code",
   "execution_count": 5,
   "id": "473f4946",
   "metadata": {},
   "outputs": [
    {
     "name": "stdout",
     "output_type": "stream",
     "text": [
      "20.396875 1.451827377608991\n"
     ]
    }
   ],
   "source": [
    "from scipy.stats import norm\n",
    "\n",
    "u,s=norm.fit(data)\n",
    "\n",
    "print(u,s)"
   ]
  },
  {
   "cell_type": "code",
   "execution_count": 6,
   "id": "cda6253c",
   "metadata": {},
   "outputs": [
    {
     "name": "stdout",
     "output_type": "stream",
     "text": [
      "ShapiroResult(statistic=0.9754997491836548, pvalue=0.6623572707176208) AndersonResult(statistic=0.31178790623822294, critical_values=array([0.523, 0.596, 0.715, 0.834, 0.992]), significance_level=array([15. , 10. ,  5. ,  2.5,  1. ]), fit_result=  params: FitParams(loc=20.396875, scale=1.4750580907095632)\n",
      " success: True\n",
      " message: '`anderson` successfully fit the distribution to the data.')\n"
     ]
    }
   ],
   "source": [
    "from scipy.stats import shapiro\n",
    "from scipy.stats import anderson\n",
    "print(shapiro(data),anderson(data))\n",
    "# Shapiro P value is same to JMP, Anderson dosn't have one"
   ]
  },
  {
   "cell_type": "code",
   "execution_count": 11,
   "id": "12b93308",
   "metadata": {},
   "outputs": [
    {
     "name": "stdout",
     "output_type": "stream",
     "text": [
      "ShapiroResult(statistic=0.9754997491836548, pvalue=0.6623572707176208)\n"
     ]
    }
   ],
   "source": [
    "s=shapiro(np.array(data))\n",
    "print(s)"
   ]
  },
  {
   "cell_type": "code",
   "execution_count": 10,
   "id": "2839d235",
   "metadata": {},
   "outputs": [
    {
     "name": "stdout",
     "output_type": "stream",
     "text": [
      "(0.31178790623822294, 0.5332248653089934)\n",
      "Anderson-Darling statistic: 0.31178790623822294\n",
      "p-value: 0.5332248653089934\n"
     ]
    }
   ],
   "source": [
    "import numpy as np\n",
    "from statsmodels.stats.diagnostic import normal_ad\n",
    "\n",
    "\n",
    "# Perform Anderson-Darling test\n",
    "statistic, p_value = normal_ad(np.array(data))\n",
    "\n",
    "print(f\"Anderson-Darling statistic: {statistic}\")\n",
    "print(f\"p-value: {p_value}\")\n",
    "\n",
    "# This calculation is same to minitabe express\n"
   ]
  },
  {
   "cell_type": "code",
   "execution_count": 28,
   "id": "114905c3",
   "metadata": {},
   "outputs": [
    {
     "data": {
      "image/png": "[encoded data removed]",
      "text/plain": [
       "<Figure size 640x480 with 1 Axes>"
      ]
     },
     "metadata": {},
     "output_type": "display_data"
    }
   ],
   "source": [
    "import numpy as np\n",
    "import matplotlib.pyplot as plt\n",
    "import scipy.stats as stats\n",
    "\n",
    "\n",
    "# Create Q-Q plot\n",
    "a,b=stats.probplot(data, dist=\"norm\", plot=plt)"
   ]
  },
  {
   "cell_type": "code",
   "execution_count": 29,
   "id": "b7bb94d1",
   "metadata": {},
   "outputs": [
    {
     "data": {
      "text/plain": [
       "((array([-2.02511189, -1.62590278, -1.38593914, -1.20666642, -1.05953591,\n",
       "         -0.93235918, -0.81872017, -0.71478609, -0.6180591 , -0.52680137,\n",
       "         -0.43973827, -0.35589149, -0.27447843, -0.19484777, -0.11643566,\n",
       "         -0.03873405,  0.03873405,  0.11643566,  0.19484777,  0.27447843,\n",
       "          0.35589149,  0.43973827,  0.52680137,  0.6180591 ,  0.71478609,\n",
       "          0.81872017,  0.93235918,  1.05953591,  1.20666642,  1.38593914,\n",
       "          1.62590278,  2.02511189]),\n",
       "  array([16.5, 17.9, 18.5, 19. , 19. , 19.1, 19.1, 19.2, 19.4, 19.6, 19.8,\n",
       "         20.3, 20.3, 20.3, 20.4, 20.5, 20.5, 20.5, 20.6, 20.7, 20.8, 20.8,\n",
       "         21. , 21.2, 21.2, 21.5, 21.6, 22.2, 22.2, 22.8, 23. , 23.2])),\n",
       " (1.5082310428731083, 20.396875, 0.9856269427573182))"
      ]
     },
     "execution_count": 29,
     "metadata": {},
     "output_type": "execute_result"
    }
   ],
   "source": [
    "a,b"
   ]
  },
  {
   "cell_type": "code",
   "execution_count": null,
   "id": "02bf653d",
   "metadata": {},
   "outputs": [],
   "source": []
  }
 ],
 "metadata": {
  "kernelspec": {
   "display_name": "Python 3 (ipykernel)",
   "language": "python",
   "name": "python3"
  },
  "language_info": {
   "codemirror_mode": {
    "name": "ipython",
    "version": 3
   },
   "file_extension": ".py",
   "mimetype": "text/x-python",
   "name": "python",
   "nbconvert_exporter": "python",
   "pygments_lexer": "ipython3",
   "version": "3.12.3"
  }
 },
 "nbformat": 4,
 "nbformat_minor": 5
}
