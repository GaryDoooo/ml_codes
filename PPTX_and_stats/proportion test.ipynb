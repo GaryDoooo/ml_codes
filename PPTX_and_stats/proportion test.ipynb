{
 "cells": [
  {
   "cell_type": "code",
   "execution_count": 1,
   "id": "29df20bc",
   "metadata": {},
   "outputs": [
    {
     "name": "stdout",
     "output_type": "stream",
     "text": [
      "One sample propotion test\n",
      "Z porption test p-value 0.033 for real p equals p0.\n",
      "Binomial test p-value 0.011 for gettig less or equal events if real p equals p0.\n"
     ]
    },
    {
     "data": {
      "text/plain": [
       "{'Z p': 0.03339190637859857, 'Binomial p': 0.01103610978073807}"
      ]
     },
     "execution_count": 1,
     "metadata": {},
     "output_type": "execute_result"
    }
   ],
   "source": [
    "from proportion_test import prop_test_1sample as pt1\n",
    "\n",
    "\n",
    "pt1(9,250,.073,print_out=True)"
   ]
  },
  {
   "cell_type": "code",
   "execution_count": 5,
   "id": "65a150b0",
   "metadata": {},
   "outputs": [
    {
     "data": {
      "text/plain": [
       "0.024518764496188394"
      ]
     },
     "execution_count": 5,
     "metadata": {},
     "output_type": "execute_result"
    }
   ],
   "source": [
    "(1-0.9877406177519058)*2"
   ]
  },
  {
   "cell_type": "code",
   "execution_count": 2,
   "id": "a80cd293",
   "metadata": {},
   "outputs": [
    {
     "data": {
      "text/plain": [
       "0.05909233525768833"
      ]
     },
     "execution_count": 2,
     "metadata": {},
     "output_type": "execute_result"
    }
   ],
   "source": [
    "from scipy.stats import norm\n",
    "9/250+norm.ppf(.975)*(9/250*(1-9/250)/250)**.5"
   ]
  },
  {
   "cell_type": "code",
   "execution_count": null,
   "id": "534b9f1a",
   "metadata": {},
   "outputs": [],
   "source": []
  }
 ],
 "metadata": {
  "kernelspec": {
   "display_name": "Python 3 (ipykernel)",
   "language": "python",
   "name": "python3"
  },
  "language_info": {
   "codemirror_mode": {
    "name": "ipython",
    "version": 3
   },
   "file_extension": ".py",
   "mimetype": "text/x-python",
   "name": "python",
   "nbconvert_exporter": "python",
   "pygments_lexer": "ipython3",
   "version": "3.12.3"
  }
 },
 "nbformat": 4,
 "nbformat_minor": 5
}
