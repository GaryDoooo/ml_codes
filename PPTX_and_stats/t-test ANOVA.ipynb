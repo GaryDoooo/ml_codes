{
 "cells": [
  {
   "cell_type": "code",
   "execution_count": 3,
   "id": "2808d590",
   "metadata": {},
   "outputs": [],
   "source": [
    "from scipy.stats import t as t_test\n",
    "import statistics as stat"
   ]
  },
  {
   "cell_type": "code",
   "execution_count": 4,
   "id": "e91a1e29",
   "metadata": {},
   "outputs": [],
   "source": [
    "def t_test_1sample(data_list, u0, print_out=True):\n",
    "    # Test if the data has the same mean of u0\n",
    "    mean=stat.mean(data_list)\n",
    "    stdev=stat.stdev(data_list)\n",
    "\n",
    "    t=(mean-u0)/stdev*(len(data_list)**.5)\n",
    "\n",
    "    df=len(data_list)-1\n",
    "    p=(1-t_test.cdf(abs(t),df))*2\n",
    "    \n",
    "    t_0025=t_test.ppf(0.025,df)\n",
    "    t_0975=t_test.ppf(0.975,df)\n",
    "    \n",
    "    u0_95range=(mean-t_0975*stdev/(len(data_list)**.5),mean-t_0025*stdev/(len(data_list)**.5))\n",
    "\n",
    "    # Here P is two tailed test, for one tailed test 1/2\n",
    "    if print_out:\n",
    "        print(\"mean = %.2f\"%mean)\n",
    "        print(\"stdev = %.2f\"%stdev)\n",
    "        print(\"t = %.2f\"%t)\n",
    "        print(\"df = %.2f\"%df)\n",
    "        print(\"Two-tailed test p=%.2f\"%p)\n",
    "        print(\"%%95 range of population mean which the samples came from: (%.2f, %.2f)\"%u0_95range)\n",
    "    return {\"t\":t,\"p\":p,\"df\":df,\"mean\":mean,\"stdev\":stdev,\"u0_95range\":u0_95range}\n",
    "\n",
    "def paired_t_test(l1,l2,print_out=True):\n",
    "    diff=[i-j for i,j in zip(l1,l2)]\n",
    "    res=t_test_1sample(diff,0,print_out=False)\n",
    "    if print_out:\n",
    "        print(\"Paired difference:\")\n",
    "        print(\"   mean = %.2f\"%res[\"mean\"])\n",
    "        print(\"   stdev = %.2f\"%res[\"stdev\"])\n",
    "        print(\"   t = %.2f\"%res[\"t\"])\n",
    "        print(\"   df = %.2f\"%res[\"df\"])\n",
    "        print(\"   Two-tailed test p=%.2f\"%res[\"p\"])\n",
    "        print(\"   %%95 range of the difference's mean: (%.2f, %.2f)\"%res[\"u0_95range\"])\n",
    "    return res\n",
    "        \n",
    "    "
   ]
  },
  {
   "cell_type": "code",
   "execution_count": 5,
   "id": "226490e7",
   "metadata": {},
   "outputs": [
    {
     "name": "stdout",
     "output_type": "stream",
     "text": [
      "Paired difference:\n",
      "   mean = -0.17\n",
      "   stdev = 1.03\n",
      "   t = -0.56\n",
      "   df = 11.00\n",
      "   Two-tailed test p=0.59\n",
      "   %95 range of the difference's mean: (-0.82, 0.49)\n"
     ]
    },
    {
     "data": {
      "text/plain": [
       "{'t': -0.5606119105813879,\n",
       " 'p': 0.5862993069206741,\n",
       " 'df': 11,\n",
       " 'mean': -0.16666666666666666,\n",
       " 'stdev': 1.0298573010888745,\n",
       " 'u0_95range': (-0.8210067780520978, 0.4876734447187645)}"
      ]
     },
     "execution_count": 5,
     "metadata": {},
     "output_type": "execute_result"
    }
   ],
   "source": [
    "list1 = [1, 2, 3, 1, 2, 3, 12, 2, 2, 1, 3, 2]\n",
    "list2 = [2, 3, 2, 2, 3, 2, 12, 2, 3, 2, 1, 2]\n",
    "\n",
    "paired_t_test(list1,list2)"
   ]
  },
  {
   "cell_type": "code",
   "execution_count": 50,
   "id": "23a5c069",
   "metadata": {},
   "outputs": [
    {
     "name": "stdout",
     "output_type": "stream",
     "text": [
      "mean = 5.50\n",
      "stdev = 3.03\n",
      "t = 2.26\n",
      "df = 9.00\n",
      "Two-tailed test p=0.05\n",
      "%95 range of population mean which the samples came from: (3.33, 7.67)\n"
     ]
    },
    {
     "data": {
      "text/plain": [
       "{'t': 2.263044342955263,\n",
       " 'p': 0.049927548095949126,\n",
       " 'df': 9,\n",
       " 'mean': 5.5,\n",
       " 'stdev': 3.0276503540974917,\n",
       " 'u0_95range': (3.3341494103866087, 7.665850589613392)}"
      ]
     },
     "execution_count": 50,
     "metadata": {},
     "output_type": "execute_result"
    }
   ],
   "source": [
    "t_test_1sample([1,2,3,4,5,6,7,8,9,10],3.3333)"
   ]
  },
  {
   "cell_type": "code",
   "execution_count": 51,
   "id": "bfd962f3",
   "metadata": {},
   "outputs": [
    {
     "name": "stdout",
     "output_type": "stream",
     "text": [
      "mean = 38.59\n",
      "stdev = 3.13\n",
      "t = -4.86\n",
      "df = 115.00\n",
      "Two-tailed test p=0.00\n",
      "%95 range of population mean which the samples came from: (38.01, 39.16)\n"
     ]
    },
    {
     "data": {
      "text/plain": [
       "{'t': -4.8616386142837085,\n",
       " 'p': 3.7207722420884437e-06,\n",
       " 'df': 115,\n",
       " 'mean': 38.58620689655172,\n",
       " 'stdev': 3.1320751990451576,\n",
       " 'u0_95range': (38.01017641320989, 39.162237379893554)}"
      ]
     },
     "execution_count": 51,
     "metadata": {},
     "output_type": "execute_result"
    }
   ],
   "source": [
    "numbers = [37, 42, 39, 35, 35, 35, 39, 41, 43, 42, 41, 39, 44, 43, 42, 42, 38, 41, 41, 42, 38, 42, 42, 42, 43, 39, 41, 42, 42, 32, 38, 38, 42, 47, 40, 38, 39, 36, 39, 42, 37, 33, 45, 40, 44, 38, 38, 42, 41, 39, 38, 34, 35, 37, 41, 34, 32, 34, 35, 41, 42, 40, 42, 43, 45, 39, 39, 39, 33, 36, 36, 34, 37, 36, 39, 37, 41, 36, 38, 38, 38, 42, 38, 37, 39, 38, 41, 39, 42, 37, 39, 39, 35, 36, 37, 37, 40, 42, 32, 37, 35, 36, 39, 39, 36, 36, 40, 35, 34, 34, 35, 35, 35, 37, 37, 37]\n",
    "t_test_1sample(numbers,40)"
   ]
  },
  {
   "cell_type": "code",
   "execution_count": 31,
   "id": "eae3664b",
   "metadata": {},
   "outputs": [],
   "source": [
    "# Assumptions:\n",
    "#   Pooled t-test assumes equal population variances between the two groups.\n",
    "#   Unpooled t-test (Welch's t-test) does not assume equal population variances.\n",
    "# Degrees of freedom (df) calculation:\n",
    "#   Pooled t-test: df = n1 + n2 - 2\n",
    "#   Unpooled t-test: Uses a more complex formula (Welch–Satterthwaite equation) \n",
    "#   that typically results in non-integer df.\n",
    "#        df = (s1^2/n1 + s2^2/n2)^2 / [(s1^2/n1)^2/(n1-1) + (s2^2/n2)^2/(n2-1)]\n",
    "# Variance estimation:\n",
    "#   Pooled t-test uses a weighted average of the two sample variances (pooled variance).\n",
    "#   Unpooled t-test uses separate variance estimates for each group.\n",
    "# Applicability:\n",
    "#   Pooled t-test is more appropriate when variances are truly equal or sample sizes are equal.\n",
    "#   Unpooled t-test is more robust and generally recommended when unsure about variance equality.\n",
    "\n",
    "\n",
    "def t_test_2samples(l1,l2,print_out=True):\n",
    "    u1=stat.mean(l1)\n",
    "    u2=stat.mean(l2)\n",
    "    s1=stat.stdev(l1)\n",
    "    s2=stat.stdev(l2)\n",
    "    n1=len(l1)\n",
    "    n2=len(l2)\n",
    "    # t = (x̄₁ - x̄₂) / √((s₁²/n₁) + (s₂²/n₂))\n",
    "    # df = (s1^2/n1 + s2^2/n2)^2 / [(s1^2/n1)^2/(n1-1) + (s2^2/n2)^2/(n2-1)]\n",
    "    t=(u1-u2)/(s1*s1/n1+s2*s2/n2)**.5\n",
    "    df=(s1*s1/n1+s2*s2/n2)**2/((s1*s1/n1)**2/(n1-1)+(s2*s2/n2)**2/(n2-1))\n",
    "    p=(1-t_test.cdf(abs(t),df))*2\n",
    "    # Here P is two tailed test, for one tailed test 1/2\n",
    "    if print_out:\n",
    "        print(\"u1 = %.2f\\ts1 = %.2f\\tn1 = %d\"%(u1,s1,n1))\n",
    "        print(\"u2 = %.2f\\ts2 = %.2f\\tn2 = %d\"%(u2,s2,n2))\n",
    "        print(\"t = %.2f\"%t)\n",
    "        print(\"df = %.2f\"%df)\n",
    "        print(\"Two-tailed unpooled test p=%.2f\"%p)\n",
    "    return {\"t\":t,\"p\":p,\"df\":df,\"u1\":u1,\"u2\":u2,\"s1\":s1,\"s2\":s2,\"n1\":n1,\"n2\":n2}"
   ]
  },
  {
   "cell_type": "code",
   "execution_count": 32,
   "id": "2c07a707",
   "metadata": {},
   "outputs": [
    {
     "name": "stdout",
     "output_type": "stream",
     "text": [
      "u1 = 100.94\ts1 = 23.44\tn1 = 18\n",
      "u2 = 108.32\ts2 = 21.10\tn2 = 22\n",
      "t = -1.04\n",
      "df = 34.68\n",
      "Two-tailed unpooled test p=0.31\n"
     ]
    },
    {
     "data": {
      "text/plain": [
       "{'t': -1.0350868507284576,\n",
       " 'p': 0.30779289334506643,\n",
       " 'df': 34.678156799282156,\n",
       " 'u1': 100.94444444444444,\n",
       " 'u2': 108.31818181818181,\n",
       " 's1': 23.435699821933863,\n",
       " 's2': 21.09928088062846,\n",
       " 'n1': 18,\n",
       " 'n2': 22}"
      ]
     },
     "execution_count": 32,
     "metadata": {},
     "output_type": "execute_result"
    }
   ],
   "source": [
    "females = [95, 123, 74, 145, 64, 112, 107, 67, 81, 91, 142, 84, 85, 92, 112, 112, 115, 116]\n",
    "males = [84, 128, 79, 98, 105, 95, 79, 93, 99, 119, 92, 112, 99, 113, 128, 111, 105, 104, 106, 128, 134, 172]\n",
    "\n",
    "t_test_2samples(females,males)"
   ]
  },
  {
   "cell_type": "code",
   "execution_count": 33,
   "id": "94de1519",
   "metadata": {},
   "outputs": [
    {
     "data": {
      "text/plain": [
       "TtestResult(statistic=-1.0462661520484353, pvalue=0.3020480036222858, df=38.0)"
      ]
     },
     "execution_count": 33,
     "metadata": {},
     "output_type": "execute_result"
    }
   ],
   "source": [
    "from scipy.stats import ttest_ind\n",
    "ttest_ind(females,males)"
   ]
  },
  {
   "cell_type": "code",
   "execution_count": null,
   "id": "a8326d26",
   "metadata": {},
   "outputs": [],
   "source": []
  },
  {
   "cell_type": "raw",
   "id": "c9d08db3",
   "metadata": {},
   "source": [
    "Here's a step-by-step guide on how to calculate a one-way ANOVA by hand:\n",
    "\n",
    "1. Calculate the group means and overall mean:\n",
    "   - Find the mean for each group\n",
    "   - Calculate the overall mean across all groups\n",
    "\n",
    "2. Calculate the Sum of Squares Between Groups (SSB):\n",
    "   SSB = Σ(n_j * (X̄_j - X̄)^2)\n",
    "   Where:\n",
    "   - n_j is the sample size of each group\n",
    "   - X̄_j is the mean of each group\n",
    "   - X̄ is the overall mean\n",
    "\n",
    "3. Calculate the Sum of Squares Within Groups (SSW):\n",
    "   SSW = Σ(X_ij - X̄_j)^2\n",
    "   Where:\n",
    "   - X_ij is each individual score\n",
    "   - X̄_j is the mean of the group that score belongs to\n",
    "\n",
    "4. Calculate the Sum of Squares Total (SST):\n",
    "   SST = SSB + SSW\n",
    "\n",
    "5. Calculate the degrees of freedom:\n",
    "   - df_between = k - 1 (where k is the number of groups)\n",
    "   - df_within = N - k (where N is the total sample size)\n",
    "   - df_total = N - 1\n",
    "\n",
    "6. Calculate the Mean Square Between (MSB) and Mean Square Within (MSW):\n",
    "   MSB = SSB / df_between\n",
    "   MSW = SSW / df_within\n",
    "\n",
    "7. Calculate the F-ratio:\n",
    "   F = MSB / MSW\n",
    "\n",
    "8. Compare the calculated F-ratio to the critical F-value from an F-distribution table using the appropriate degrees of freedom and significance level to determine if the result is statistically significant[1][3].\n",
    "\n",
    "This process involves several calculations and can be time-consuming when done by hand. It's important to be careful with each step to avoid errors. Many researchers now use statistical software to perform ANOVA calculations, but understanding the manual process helps in grasping the underlying concepts of the analysis[1][2][3].\n",
    "\n",
    "Citations:\n",
    "[1] https://www.statology.org/one-way-anova-by-hand/\n",
    "[2] https://www.youtube.com/watch?v=pNMUlsjgNNM\n",
    "[3] https://www.youtube.com/watch?v=ZQEmSzrmBJc\n",
    "[4] https://www.geeksforgeeks.org/anova-formula/\n",
    "[5] https://www.palomar.edu/users/rmorrissette/Lectures/Stats/OneWayANOVA/OneWayANOVA.htm"
   ]
  },
  {
   "cell_type": "code",
   "execution_count": 34,
   "id": "7551675d",
   "metadata": {},
   "outputs": [],
   "source": [
    "import statistics as stat\n",
    "import numpy as np\n",
    "from scipy.stats import f as f_dist\n",
    "\n",
    "def one_way_anova(dict_data, print_out=True):\n",
    "    # data come in as a dict\n",
    "    # e.g. dict_data={\"A\":[2,1,3],\"B\":[3,4]}\n",
    "    groups=list(dict_data.keys())\n",
    "    k=len(groups)\n",
    "    ns=[len(dict_data[key]) for key in groups]\n",
    "    N=sum(ns)\n",
    "    means=[stat.mean(dict_data[key]) for key in groups]\n",
    "    mean=np.concatenate(list(dict_data.values())).mean()\n",
    "#    SSB = Σ(n_j * (X̄_j - X̄)^2)\n",
    "    SSB=sum([n*(x-mean)**2 for n,x in zip(ns,means)])\n",
    "#        SSW = Σ(X_ij - X̄_j)^2\n",
    "    SSW=sum([sum([(v-means[i])**2\n",
    "        for v in dict_data[groups[i]]])\n",
    "        for i in range(k)])\n",
    "    SST=SSB+SSW\n",
    "    \n",
    "    df_between = k - 1\n",
    "    df_within = N - k\n",
    "#     df_total=N-1\n",
    "\n",
    "    MSB = SSB / df_between\n",
    "    MSW = SSW / df_within\n",
    "    F = MSB / MSW\n",
    "    \n",
    "    p=1-f_dist.cdf(F,df_between,df_within)\n",
    "    \n",
    "    if print_out:\n",
    "        print(\"F = %.2f\"%F)\n",
    "        print(\"p = %.2f\"%p)\n",
    "\n",
    "    return {\"F\":F,\"p\":p}\n",
    "    "
   ]
  },
  {
   "cell_type": "code",
   "execution_count": 35,
   "id": "b90028a1",
   "metadata": {},
   "outputs": [
    {
     "name": "stdout",
     "output_type": "stream",
     "text": [
      "F = 5.14\n",
      "p = 0.01\n"
     ]
    },
    {
     "data": {
      "text/plain": [
       "{'F': 5.138920138474558, 'p': 0.012292232701970107}"
      ]
     },
     "execution_count": 35,
     "metadata": {},
     "output_type": "execute_result"
    }
   ],
   "source": [
    "data_by_size = {\n",
    "    'small': [31.0, 153.0, 454.0, 333.3, 41.4, -680.4, 89.0, -119.7, 79.5, 227.4, 86.5, 20.9, 0.3, 47.7, 60.8, 118.3],\n",
    "    'medium': [939.5, 1495.4, 252.8, 471.3, 176.0, -424.3, 412.7],\n",
    "    'big': [859.8, 1102.2, 747.0, 829.0, 1082.0, 412.0, 681.1, -639.3, 3758.0]\n",
    "}\n",
    "one_way_anova(data_by_size)"
   ]
  },
  {
   "cell_type": "code",
   "execution_count": 36,
   "id": "8ada6e70",
   "metadata": {},
   "outputs": [
    {
     "name": "stdout",
     "output_type": "stream",
     "text": [
      "F = 4.32\n",
      "p = 0.00\n"
     ]
    },
    {
     "data": {
      "text/plain": [
       "{'F': 4.322823219891916, 'p': 0.0024133712342139235}"
      ]
     },
     "execution_count": 36,
     "metadata": {},
     "output_type": "execute_result"
    }
   ],
   "source": [
    "data_by_letter = {\n",
    "    'a': [1, 2, 2, 1, 1],\n",
    "    'b': [1, 2, 1, 2, 3, 2],\n",
    "    'c': [1, 2, 3, 2, 1, 2, 1],\n",
    "    'd': [2, 2, 2, 1, 1, 1],\n",
    "    'e': [2, 2, 3, 1, 2, 1],\n",
    "    'f': [2, 1, 2, 2, 2, 1],\n",
    "    'g': [-1, -1, 1, 1, 0]\n",
    "}\n",
    "one_way_anova(data_by_letter)\n",
    "# for l in data_by_letter.values():\n",
    "#     print(l)"
   ]
  },
  {
   "cell_type": "code",
   "execution_count": 37,
   "id": "d98abb0e",
   "metadata": {},
   "outputs": [],
   "source": [
    "# The means compare each pair in JMP uses pooled t-test\n",
    "# while the pool includes all the keys, not only the two keys under testing\n",
    "# If using unpooled t-test the p-value will be bigger than this \"fully\" pooled test\n",
    "\n",
    "# The total pooled variance is (Sum of [(ni - 1) × si²]) / (N - k)\n",
    "#     Where:\n",
    "#     ni is the sample size of each group\n",
    "#     si² is the variance of each group\n",
    "#     N is the total sample size across all keys\n",
    "#     k is the number of keys\n",
    "\n",
    "# The standard error (SE) is calculated as:\n",
    "# SE = sqrt(Sp_squared * (1/n1 + 1/n2))\n",
    "\n",
    "# The t-statistic (t) is calculated as:\n",
    "# t = (X1_bar - X2_bar) / SE\n",
    "\n",
    "# in JMP, df is N-1 the total sample number not only the two keys\n",
    "\n",
    "\n",
    "def JMP_ANOVA_t_test(dict_data, print_out=True):\n",
    "    # data come in as a dict\n",
    "    # e.g. dict_data={\"A\":[2,1,3],\"B\":[3,4]}\n",
    "    \n",
    "    keys=list(dict_data.keys())\n",
    "    k=len(keys)\n",
    "    ns=[len(dict_data[key]) for key in keys]\n",
    "    N=sum(ns)\n",
    "    df=N-1\n",
    "    means=[(stat.mean(dict_data[keys[i]]),i) for i in range(k)]\n",
    "\n",
    "    pooled_variance =sum([stat.stdev(l)**2*(len(l)-1) \n",
    "                         for l in dict_data.values()])/(N-k)\n",
    "    \n",
    "    def t_test_anova(l1,l2,print_out=False):\n",
    "        u1=stat.mean(l1)\n",
    "        u2=stat.mean(l2)\n",
    "        s1=stat.stdev(l1)\n",
    "        s2=stat.stdev(l2)\n",
    "        n1=len(l1)\n",
    "        n2=len(l2)\n",
    "\n",
    "        SE=( pooled_variance * (1/n1 + 1/n2))**.5\n",
    "        t= (u1 - u2)/SE\n",
    "        t=t if t>0 else -t\n",
    "        p=(1-t_test.cdf(t,df))*2\n",
    "        if print_out:\n",
    "            print(\"SE=%.3f t=%.3f p=%.3f\"%(SE,t,p))\n",
    "        return {\"t\":t,\"p\":p,\"SE\":SE}\n",
    "\n",
    "    ps=np.ones((k,k))\n",
    "    for a in range(k):\n",
    "        for b in range(a+1,k):\n",
    "            res = t_test_anova(\n",
    "                dict_data[keys[a]],dict_data[keys[b]])\n",
    "            ps[a][b]=ps[b][a]=res[\"p\"]\n",
    "            if print_out:\n",
    "                print(\"t-test means\",keys[a],keys[b],\"\\tp = %.2f\"%ps[a][b])\n",
    "                \n",
    "    means.sort(key=lambda x:x[0])\n",
    "    means=means[::-1]\n",
    "    groups=[]\n",
    "    start=0\n",
    "    while start<k:\n",
    "        cmp=start_i=means[start][1]\n",
    "        new_grp=[start_i]\n",
    "        one_step=new_start=start+1\n",
    "        # First add the mean right below the starting point\n",
    "        if one_step<k:\n",
    "            one_step_i=means[one_step][1]\n",
    "            if ps[one_step_i][cmp]>0.05:\n",
    "                new_grp.append(one_step_i)\n",
    "                cmp=one_step_i\n",
    "                # Switch the comparing point to the newly added group\n",
    "                # start to added the means above the starting point with \n",
    "                # the new cmp point\n",
    "                for p in range(start-1,-1,-1):\n",
    "                    pi=means[p][1]\n",
    "                    if ps[pi][cmp]>0.05:\n",
    "                        new_grp.append(pi)\n",
    "                    else:\n",
    "                        break\n",
    "                if cmp==new_grp[-1]: # add no new points\n",
    "                    cmp=start_i      # go back start point to compare downwards\n",
    "                else:\n",
    "                    cmp=new_grp[-1]  # new the highest point to compare downwards\n",
    "\n",
    "                for nxt in range(start+2,k):\n",
    "                    nxt_i=means[nxt][1]\n",
    "                    if ps[nxt_i][cmp]>0.05:\n",
    "                        new_grp.append(nxt_i)\n",
    "                        new_start=nxt\n",
    "                    else:\n",
    "                        break\n",
    "        if len(new_grp)>1 or len(groups)==0:\n",
    "            groups.append(new_grp)\n",
    "        else:\n",
    "            if not start_i in groups[-1]:\n",
    "                groups.append(new_grp)\n",
    "        start=new_start\n",
    "        \n",
    "    if print_out:\n",
    "        print(\"\")\n",
    "        for i in range(k):\n",
    "            key_i=means[i][1]\n",
    "            for grp in groups:\n",
    "                if key_i in grp:\n",
    "                    print(\"X\",end=\" \")\n",
    "                else:\n",
    "                    print(\" \",end=\" \")\n",
    "            print(\" \",keys[key_i],\"\\tmean = %.2f\"%means[i][0])\n",
    "                \n",
    "    return {\"p\":ps,\"keys\":keys,\"groups\":groups}"
   ]
  },
  {
   "cell_type": "code",
   "execution_count": 38,
   "id": "1d9c0cc1",
   "metadata": {},
   "outputs": [
    {
     "name": "stdout",
     "output_type": "stream",
     "text": [
      "t-test means small medium \tp = 0.20\n",
      "t-test means small big \tp = 0.00\n",
      "t-test means medium big \tp = 0.16\n",
      "\n",
      "X     big \tmean = 981.31\n",
      "X X   medium \tmean = 474.77\n",
      "  X   small \tmean = 58.94\n"
     ]
    },
    {
     "data": {
      "text/plain": [
       "{'p': array([[1.        , 0.19526782, 0.00321937],\n",
       "        [0.19526782, 1.        , 0.15710672],\n",
       "        [0.00321937, 0.15710672, 1.        ]]),\n",
       " 'keys': ['small', 'medium', 'big'],\n",
       " 'groups': [[2, 1], [1, 0]]}"
      ]
     },
     "execution_count": 38,
     "metadata": {},
     "output_type": "execute_result"
    }
   ],
   "source": [
    "JMP_ANOVA_t_test(data_by_size)"
   ]
  },
  {
   "cell_type": "code",
   "execution_count": 39,
   "id": "ff799b88",
   "metadata": {},
   "outputs": [
    {
     "name": "stdout",
     "output_type": "stream",
     "text": [
      "t-test means a b \tp = 0.32\n",
      "t-test means a c \tp = 0.45\n",
      "t-test means a d \tp = 0.82\n",
      "t-test means a e \tp = 0.32\n",
      "t-test means a f \tp = 0.54\n",
      "t-test means a g \tp = 0.00\n",
      "t-test means b c \tp = 0.76\n",
      "t-test means b d \tp = 0.42\n",
      "t-test means b e \tp = 1.00\n",
      "t-test means b f \tp = 0.69\n",
      "t-test means b g \tp = 0.00\n",
      "t-test means c d \tp = 0.59\n",
      "t-test means c e \tp = 0.76\n",
      "t-test means c f \tp = 0.90\n",
      "t-test means c g \tp = 0.00\n",
      "t-test means d e \tp = 0.42\n",
      "t-test means d f \tp = 0.69\n",
      "t-test means d g \tp = 0.00\n",
      "t-test means e f \tp = 0.69\n",
      "t-test means e g \tp = 0.00\n",
      "t-test means f g \tp = 0.00\n",
      "\n",
      "X     e \tmean = 1.83\n",
      "X     b \tmean = 1.83\n",
      "X     c \tmean = 1.71\n",
      "X     f \tmean = 1.67\n",
      "X     d \tmean = 1.50\n",
      "X     a \tmean = 1.40\n",
      "  X   g \tmean = 0.00\n"
     ]
    },
    {
     "data": {
      "text/plain": [
       "{'p': array([[1.00000000e+00, 3.19398207e-01, 4.53949474e-01, 8.17202959e-01,\n",
       "         3.19398207e-01, 5.38476012e-01, 3.36140115e-03],\n",
       "        [3.19398207e-01, 1.00000000e+00, 7.64613419e-01, 4.20789347e-01,\n",
       "         1.00000000e+00, 6.86386727e-01, 1.18471663e-04],\n",
       "        [4.53949474e-01, 7.64613419e-01, 1.00000000e+00, 5.90377267e-01,\n",
       "         7.64613419e-01, 9.04619224e-01, 1.82232446e-04],\n",
       "        [8.17202959e-01, 4.20789347e-01, 5.90377267e-01, 1.00000000e+00,\n",
       "         4.20789347e-01, 6.86386727e-01, 1.19108490e-03],\n",
       "        [3.19398207e-01, 1.00000000e+00, 7.64613419e-01, 4.20789347e-01,\n",
       "         1.00000000e+00, 6.86386727e-01, 1.18471663e-04],\n",
       "        [5.38476012e-01, 6.86386727e-01, 9.04619224e-01, 6.86386727e-01,\n",
       "         6.86386727e-01, 1.00000000e+00, 3.83422684e-04],\n",
       "        [3.36140115e-03, 1.18471663e-04, 1.82232446e-04, 1.19108490e-03,\n",
       "         1.18471663e-04, 3.83422684e-04, 1.00000000e+00]]),\n",
       " 'keys': ['a', 'b', 'c', 'd', 'e', 'f', 'g'],\n",
       " 'groups': [[4, 1, 2, 5, 3, 0], [6]]}"
      ]
     },
     "execution_count": 39,
     "metadata": {},
     "output_type": "execute_result"
    }
   ],
   "source": [
    "JMP_ANOVA_t_test(data_by_letter)"
   ]
  },
  {
   "cell_type": "code",
   "execution_count": 40,
   "id": "e18155eb",
   "metadata": {},
   "outputs": [
    {
     "name": "stdout",
     "output_type": "stream",
     "text": [
      "t-test means a b \tp = 0.42\n",
      "t-test means a c \tp = 0.01\n",
      "t-test means a d \tp = 0.00\n",
      "t-test means a e \tp = 0.00\n",
      "t-test means a f \tp = 0.42\n",
      "t-test means a g \tp = 0.16\n",
      "t-test means b c \tp = 0.08\n",
      "t-test means b d \tp = 0.00\n",
      "t-test means b e \tp = 0.00\n",
      "t-test means b f \tp = 1.00\n",
      "t-test means b g \tp = 0.03\n",
      "t-test means c d \tp = 0.12\n",
      "t-test means c e \tp = 0.12\n",
      "t-test means c f \tp = 0.08\n",
      "t-test means c g \tp = 0.00\n",
      "t-test means d e \tp = 1.00\n",
      "t-test means d f \tp = 0.00\n",
      "t-test means d g \tp = 0.00\n",
      "t-test means e f \tp = 0.00\n",
      "t-test means e g \tp = 0.00\n",
      "t-test means f g \tp = 0.03\n",
      "\n",
      "X         e \tmean = 3.50\n",
      "X         d \tmean = 3.50\n",
      "X X       c \tmean = 2.71\n",
      "  X X     f \tmean = 1.83\n",
      "  X X     b \tmean = 1.83\n",
      "    X X   a \tmean = 1.40\n",
      "      X   g \tmean = 0.60\n"
     ]
    },
    {
     "data": {
      "text/plain": [
       "{'p': array([[1.00000000e+00, 4.22354771e-01, 1.49749962e-02, 3.29488316e-04,\n",
       "         3.29488316e-04, 4.22354771e-01, 1.59656657e-01],\n",
       "        [4.22354771e-01, 1.00000000e+00, 8.04159143e-02, 2.21584962e-03,\n",
       "         2.21584962e-03, 1.00000000e+00, 2.62958965e-02],\n",
       "        [1.49749962e-02, 8.04159143e-02, 1.00000000e+00, 1.17506740e-01,\n",
       "         1.17506740e-01, 8.04159143e-02, 2.02342244e-04],\n",
       "        [3.29488316e-04, 2.21584962e-03, 1.17506740e-01, 1.00000000e+00,\n",
       "         1.00000000e+00, 2.21584962e-03, 3.02918045e-06],\n",
       "        [3.29488316e-04, 2.21584962e-03, 1.17506740e-01, 1.00000000e+00,\n",
       "         1.00000000e+00, 2.21584962e-03, 3.02918045e-06],\n",
       "        [4.22354771e-01, 1.00000000e+00, 8.04159143e-02, 2.21584962e-03,\n",
       "         2.21584962e-03, 1.00000000e+00, 2.62958965e-02],\n",
       "        [1.59656657e-01, 2.62958965e-02, 2.02342244e-04, 3.02918045e-06,\n",
       "         3.02918045e-06, 2.62958965e-02, 1.00000000e+00]]),\n",
       " 'keys': ['a', 'b', 'c', 'd', 'e', 'f', 'g'],\n",
       " 'groups': [[4, 3, 2], [2, 5, 1], [1, 0, 5], [0, 6]]}"
      ]
     },
     "execution_count": 40,
     "metadata": {},
     "output_type": "execute_result"
    }
   ],
   "source": [
    "data_dict = {\n",
    "    'a': [1, 2, 2, 1, 1],\n",
    "    'b': [1, 2, 1, 2, 3, 2],\n",
    "    'c': [1, 2, 3, 2, 4, 3, 4],\n",
    "    'd': [5, 4, 3, 4, 3, 2],\n",
    "    'e': [3, 4, 3, 2, 4, 5],\n",
    "    'f': [2, 1, 2, 2, 3, 1],\n",
    "    'g': [1, 1, 0, 1, 0]\n",
    "}\n",
    "JMP_ANOVA_t_test(data_dict)"
   ]
  },
  {
   "cell_type": "code",
   "execution_count": 107,
   "id": "5aecf696",
   "metadata": {},
   "outputs": [
    {
     "name": "stdout",
     "output_type": "stream",
     "text": [
      "2\n",
      "1\n",
      "0\n"
     ]
    }
   ],
   "source": [
    "#     grouping=np.ones((k,k))\n",
    "#     for grp in range(k): # the one must in the group\n",
    "#         for DUT in range(k):\n",
    "#             if ps[DUT][grp]<=0.05:\n",
    "#                 grouping[grp][DUT]=0\n",
    "#         for DUT in range(k):\n",
    "#             if DUT==grp or grouping[grp][DUT]==0:\n",
    "#                 continue\n",
    "#             for tester in range(k):\n",
    "#                 if grouping[grp][tester]==0:\n",
    "#                     continue\n",
    "#                     # C is not in group A, skip comparing\n",
    "#                 if ps[tester][DUT]<=0.05:\n",
    "#                     grouping[grp][DUT]=0\n",
    "#                     break\n",
    "#                     # B doesn't work with C, remove B\n",
    "#     for grp1 in range(k):\n",
    "#         for grp2 in range(grp1+1,k):\n",
    "#             if list(grouping[grp1])==list(grouping[grp2]):\n",
    "#                 grouping[grp1][0]=-1\n",
    "\n",
    "a=[(2,2),(3,2),(1,3)]\n",
    "a.sort(key=lambda x:x[0])\n",
    "a\n",
    "b=[[1,2],[2,3,2]]\n",
    "b.append([3,2,1,3])\n",
    "b\n",
    "for i in range(2,-1,-1):\n",
    "    print(i)"
   ]
  },
  {
   "cell_type": "code",
   "execution_count": 15,
   "id": "d5856804",
   "metadata": {},
   "outputs": [],
   "source": [
    "from scipy.stats import norm\n",
    "\n",
    "def z_test_1sample(data_list, u0, s0, sample_mean=None, sample_n=None, print_out=True):\n",
    "    if sample_mean is None or sample_n is None:\n",
    "        mean=stat.mean(data_list)\n",
    "        n=len(data_list)\n",
    "    else:\n",
    "        n=sample_n\n",
    "        mean=sample_mean\n",
    "\n",
    "    deno = s0/(n**.5)\n",
    "    z = (mean-u0)/deno\n",
    "    p = 2*(1-norm.cdf(abs(z)))\n",
    "    \n",
    "    df=n-1\n",
    "\n",
    "    # Here P is two tailed test, for one tailed test 1/2\n",
    "    if print_out:\n",
    "        print(\"mean = %.2f\"%mean)\n",
    "        print(\"z = %.2f\"%z)\n",
    "        print(\"df = %.2f\"%df)\n",
    "        print(\"Two-tailed test p=%.2f\"%p)\n",
    "    return {\"z\":z,\"p\":p,\"df\":df,\"mean\":mean}\n",
    "    "
   ]
  },
  {
   "cell_type": "code",
   "execution_count": 16,
   "id": "206a9cb9",
   "metadata": {},
   "outputs": [
    {
     "name": "stdout",
     "output_type": "stream",
     "text": [
      "mean = 5.50\n",
      "z = 2.64\n",
      "df = 9.00\n",
      "Two-tailed test p=0.01\n"
     ]
    },
    {
     "data": {
      "text/plain": [
       "{'z': 2.6352313834736494, 'p': 0.008407994577249278, 'df': 9, 'mean': 5.5}"
      ]
     },
     "execution_count": 16,
     "metadata": {},
     "output_type": "execute_result"
    }
   ],
   "source": [
    "z_test_1sample([1,2,3,4,5,6,7,8,9,10],3,3)"
   ]
  },
  {
   "cell_type": "code",
   "execution_count": 52,
   "id": "d301646d",
   "metadata": {},
   "outputs": [
    {
     "name": "stdout",
     "output_type": "stream",
     "text": [
      "mean = 251.52\n",
      "z = -2.39\n",
      "df = 19.00\n",
      "Two-tailed test p=0.02\n"
     ]
    },
    {
     "data": {
      "text/plain": [
       "{'z': -2.3851391759997247, 'p': 0.017072661093790797, 'df': 19, 'mean': 251.52}"
      ]
     },
     "execution_count": 52,
     "metadata": {},
     "output_type": "execute_result"
    }
   ],
   "source": [
    "z_test_1sample(None,252,0.9,sample_n=20,sample_mean=251.52)"
   ]
  },
  {
   "cell_type": "code",
   "execution_count": 23,
   "id": "4272a0cf",
   "metadata": {},
   "outputs": [
    {
     "name": "stdout",
     "output_type": "stream",
     "text": [
      "mean = 85.20\n",
      "z = 2.53\n",
      "df = 9.00\n",
      "Two-tailed test p=0.01\n"
     ]
    },
    {
     "data": {
      "text/plain": [
       "{'z': 2.5298221281347057, 'p': 0.011412036386001523, 'df': 9, 'mean': 85.2}"
      ]
     },
     "execution_count": 23,
     "metadata": {},
     "output_type": "execute_result"
    }
   ],
   "source": [
    "z_test_1sample([82, 89, 81, 90, 84, 83, 88, 80, 85, 90],82,4)"
   ]
  },
  {
   "cell_type": "code",
   "execution_count": null,
   "id": "98ae4e89",
   "metadata": {},
   "outputs": [],
   "source": []
  }
 ],
 "metadata": {
  "kernelspec": {
   "display_name": "Python 3 (ipykernel)",
   "language": "python",
   "name": "python3"
  },
  "language_info": {
   "codemirror_mode": {
    "name": "ipython",
    "version": 3
   },
   "file_extension": ".py",
   "mimetype": "text/x-python",
   "name": "python",
   "nbconvert_exporter": "python",
   "pygments_lexer": "ipython3",
   "version": "3.12.3"
  }
 },
 "nbformat": 4,
 "nbformat_minor": 5
}
