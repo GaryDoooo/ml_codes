{
 "cells": [
  {
   "cell_type": "code",
   "execution_count": 11,
   "id": "c4fc18b7",
   "metadata": {},
   "outputs": [
    {
     "name": "stdout",
     "output_type": "stream",
     "text": [
      "Defaulting to user installation because normal site-packages is not writeable\n",
      "Collecting opencv-contrib-python\n",
      "  Downloading opencv_contrib_python-4.10.0.84-cp37-abi3-manylinux_2_17_x86_64.manylinux2014_x86_64.whl.metadata (20 kB)\n",
      "Requirement already satisfied: numpy>=1.21.2 in /usr/lib/python3/dist-packages (from opencv-contrib-python) (1.26.4)\n",
      "Downloading opencv_contrib_python-4.10.0.84-cp37-abi3-manylinux_2_17_x86_64.manylinux2014_x86_64.whl (68.7 MB)\n",
      "\u001b[2K   \u001b[90m━━━━━━━━━━━━━━━━━━━━━━━━━━━━━━━━━━━━━━━━\u001b[0m \u001b[32m68.7/68.7 MB\u001b[0m \u001b[31m6.8 MB/s\u001b[0m eta \u001b[36m0:00:00\u001b[0m:00:01\u001b[0m00:01\u001b[0mm\n",
      "\u001b[?25hInstalling collected packages: opencv-contrib-python\n",
      "Successfully installed opencv-contrib-python-4.10.0.84\n"
     ]
    }
   ],
   "source": [
    "!pip install opencv-contrib-python"
   ]
  },
  {
   "cell_type": "code",
   "execution_count": 4,
   "id": "d78dade3",
   "metadata": {},
   "outputs": [
    {
     "name": "stdout",
     "output_type": "stream",
     "text": [
      "1\n",
      "4 [[[   0    0]]\n",
      "\n",
      " [[   0  788]]\n",
      "\n",
      " [[1113  788]]\n",
      "\n",
      " [[1113    0]]]\n"
     ]
    }
   ],
   "source": [
    "import cv2\n",
    "import numpy as np\n",
    "\n",
    "# Load the image\n",
    "image = cv2.imread('2.png')\n",
    "\n",
    "# Convert to grayscale\n",
    "gray = cv2.cvtColor(image, cv2.COLOR_BGR2GRAY)\n",
    "\n",
    "# Apply Gaussian blur to reduce noise\n",
    "blur = cv2.GaussianBlur(gray, (5, 5), 0)\n",
    "\n",
    "# Apply thresholding to create a binary image\n",
    "_, thresh = cv2.threshold(blur, 200, 255, cv2.THRESH_BINARY_INV)\n",
    "\n",
    "# Find contours\n",
    "contours, _ = cv2.findContours(thresh, cv2.RETR_EXTERNAL, cv2.CHAIN_APPROX_SIMPLE)\n",
    "\n",
    "print(len(contours))\n",
    "# Loop through the contours to find the cross\n",
    "for contour in contours:\n",
    "    # Approximate the contour to reduce the number of points\n",
    "    epsilon = 0.01 * cv2.arcLength(contour, True)\n",
    "    approx = cv2.approxPolyDP(contour, epsilon, True)\n",
    "    \n",
    "print(len(approx),approx)\n",
    "#     # Check if the approximated contour has 12 vertices (a heuristic for a cross shape)\n",
    "#     if len(approx) == 12:\n",
    "#         # Compute the moments of the contour\n",
    "#         M = cv2.moments(contour)\n",
    "        \n",
    "#         # Calculate the centroid (center of mass)\n",
    "#         if M[\"m00\"] != 0:\n",
    "#             cX = int(M[\"m10\"] / M[\"m00\"])\n",
    "#             cY = int(M[\"m01\"] / M[\"m00\"])\n",
    "#         else:\n",
    "#             cX, cY = 0, 0\n",
    "        \n",
    "#         # Draw the contour and the centroid on the image\n",
    "#         cv2.drawContours(image, [contour], -1, (0, 255, 0), 2)\n",
    "#         cv2.circle(image, (cX, cY), 7, (255, 0, 0), -1)\n",
    "#         cv2.putText(image, \"center\", (cX - 20, cY - 20),\n",
    "#                     cv2.FONT_HERSHEY_SIMPLEX, 0.5, (255, 255, 255), 2)\n",
    "        \n",
    "#         # Break the loop after finding the cross\n",
    "#         break\n",
    "\n",
    "# # Display the result\n",
    "# cv2.imshow('Image with Cross Center', image)\n",
    "# cv2.waitKey(0)\n",
    "# cv2.destroyAllWindows()"
   ]
  },
  {
   "cell_type": "code",
   "execution_count": 14,
   "id": "b5ba8dd7",
   "metadata": {},
   "outputs": [],
   "source": [
    "import cv2"
   ]
  },
  {
   "cell_type": "code",
   "execution_count": 8,
   "id": "6d3d03d5",
   "metadata": {},
   "outputs": [
    {
     "name": "stdout",
     "output_type": "stream",
     "text": [
      "(789, 1114)\n"
     ]
    }
   ],
   "source": [
    "from PIL import Image\n",
    "import numpy as np\n",
    "\n",
    "# Open the PNG image\n",
    "image = Image.open('2.png')\n",
    "\n",
    "# Convert the image to grayscale\n",
    "grayscale_image = image.convert('L')\n",
    "\n",
    "# Convert the grayscale image to a 2D NumPy array\n",
    "array_2d = np.array(grayscale_image)\n",
    "\n",
    "# Print the shape of the 2D array\n",
    "print(array_2d.shape)\n"
   ]
  },
  {
   "cell_type": "code",
   "execution_count": 9,
   "id": "bb2b250a",
   "metadata": {},
   "outputs": [
    {
     "data": {
      "text/plain": [
       "878946"
      ]
     },
     "execution_count": 9,
     "metadata": {},
     "output_type": "execute_result"
    }
   ],
   "source": [
    "789*1114"
   ]
  },
  {
   "cell_type": "code",
   "execution_count": 13,
   "id": "0a66094a",
   "metadata": {},
   "outputs": [],
   "source": [
    "a=array_2d\n",
    "H,W=a.shape\n",
    "s=np.zeros((H+1,W+1))\n",
    "s1=np.zeros((W+1))\n",
    "for y in range(H):\n",
    "    for x in range(W):\n",
    "        s1[x+1]=s1[x]+a[y][x]\n",
    "        s[y+1][x+1]=s1[x+1]+s[y][x+1]\n",
    "\n",
    "def rec_sum(x1,y1,x2,y2):\n",
    "    return s[y2][x2]-s[y1-1][x2]-s[y2][x1-1]+s[y1-1][x1-1]\n"
   ]
  },
  {
   "cell_type": "code",
   "execution_count": 14,
   "id": "c2810f53",
   "metadata": {},
   "outputs": [],
   "source": [
    "rs=rec_sum\n",
    "##### define the cross window #######\n",
    "c_size=15-1 \n",
    "c_corner=5-1\n",
    "\n",
    "sc=np.zeros(s.shape)\n",
    "for y in range(1,H-c_size):\n",
    "    for x in range(1,W-c_size):\n",
    "        x2=x+c_size\n",
    "        y2=y+c_size\n",
    "        res=rs(x,y,x2,y2)\n",
    "        res-=rs(x,y,x+c_corner,y+c_corner)\n",
    "        res-=rs(x2-c_corner,y,x2,y+c_corner)\n",
    "        res-=rs(x,y2-c_corner,x+c_corner,y2)\n",
    "        res-=rs(x2-c_corner,y2-c_corner,x2,y2)\n",
    "        sc[y][x]=res\n"
   ]
  },
  {
   "cell_type": "code",
   "execution_count": 22,
   "id": "acf0fd1b",
   "metadata": {},
   "outputs": [
    {
     "name": "stdout",
     "output_type": "stream",
     "text": [
      "3122.0\n",
      "0.0\n"
     ]
    }
   ],
   "source": [
    "flat_sc=sc.flatten()\n",
    "print(np.quantile(sc,0.98))\n",
    "print(np.quantile(flat_sc,0.001))"
   ]
  },
  {
   "cell_type": "code",
   "execution_count": 23,
   "id": "66f38ec1",
   "metadata": {},
   "outputs": [],
   "source": [
    "thd=np.quantile(sc,0.98)\n",
    "fsc=[(sc[y][x],x,y) for y in range(1,H) for x in range(1,W)]\n",
    "fsc.sort()"
   ]
  },
  {
   "cell_type": "code",
   "execution_count": 29,
   "id": "40d065f2",
   "metadata": {},
   "outputs": [
    {
     "name": "stdout",
     "output_type": "stream",
     "text": [
      "(31858.0, 146, 346)\n"
     ]
    }
   ],
   "source": [
    "print(fsc[-1])"
   ]
  },
  {
   "cell_type": "code",
   "execution_count": 27,
   "id": "da489819",
   "metadata": {},
   "outputs": [],
   "source": [
    "vis=np.zeros(s.shape)\n",
    "idx=len(fsc)-1\n",
    "cnt=0\n",
    "dx=[-1,0,0,1]\n",
    "dy=[0,1,-1,0]\n",
    "while cnt<9:\n",
    "    while True:\n",
    "        _,x,y=fsc[idx]\n",
    "        if vis[y][x]==0:\n",
    "            break\n",
    "        idx-=1\n",
    "    stack=[(x,y)]\n",
    "    cnt+=1\n",
    "    while len(stack)>0:\n",
    "        x,y=stack.pop()\n",
    "        vis[y][x]=cnt\n",
    "        for i in range(4):\n",
    "            xx=x+dx[i]\n",
    "            yy=y+dy[i]\n",
    "            if vis[yy][xx]==0 and sc[yy][xx]>thd:\n",
    "                stack.append((xx,yy))\n",
    "\n",
    "blks=[[] for i in range(9)]\n",
    "for y in range(1,H):\n",
    "    for x in range(1,W):\n",
    "        if vis[y][x]>0:\n",
    "            blks[int(vis[y][x])-1].append((x,y))\n",
    "        "
   ]
  },
  {
   "cell_type": "code",
   "execution_count": 28,
   "id": "1a6cc62b",
   "metadata": {},
   "outputs": [
    {
     "name": "stdout",
     "output_type": "stream",
     "text": [
      "147.4503856041131 347.14498714652956\n",
      "962.489701338826 347.15911431513905\n",
      "544.489701338826 347.15911431513905\n",
      "544.443025038324 669.0889115993868\n",
      "962.5283307810107 669.0791220010209\n",
      "962.4748858447489 109.02384576357179\n",
      "544.4360672440142 109.06062149770759\n",
      "147.38343558282207 669.0930470347648\n",
      "147.42944785276075 109.09304703476482\n"
     ]
    }
   ],
   "source": [
    "from statistics import mean\n",
    "\n",
    "for blk in blks:\n",
    "    xs=[i[0] for i in blk]\n",
    "    ys=[i[1] for i in blk]\n",
    "    print(mean(xs),mean(ys))"
   ]
  },
  {
   "cell_type": "code",
   "execution_count": null,
   "id": "03a85e2c",
   "metadata": {},
   "outputs": [],
   "source": [
    "H,W=a.shape\n",
    "s=np.zeros((H+1,W+1))\n",
    "s1=np.zeros((W+1))\n",
    "for y in range(H):\n",
    "    for x in range(W):\n",
    "        s1[x+1]=s1[x]+a[y][x]\n",
    "        s[y+1][x+1]=s1[x+1]+s[y][x+1]\n",
    "\n",
    "def rec_sum(x1,y1,x2,y2):\n",
    "    return s[y2][x2]-s[y1-1][x2]-s[y2][x1-1]+s[y1-1][x1-1]\n",
    "\n",
    "rs=rec_sum\n",
    "##### define the cross window #######\n",
    "c_size=15-1 \n",
    "c_corner=5-1\n",
    "\n",
    "sc=np.zeros(s.shape)\n",
    "for y in range(1,H-c_size):\n",
    "    for x in range(1,W-c_size):\n",
    "        x2=x+c_size\n",
    "        y2=y+c_size\n",
    "        res=rs(x,y,x2,y2)\n",
    "        res-=rs(x,y,x+c_corner,y+c_corner)\n",
    "        res-=rs(x2-c_corner,y,x2,y+c_corner)\n",
    "        res-=rs(x,y2-c_corner,x+c_corner,y2)\n",
    "        res-=rs(x2-c_corner,y2-c_corner,x2,y2)\n",
    "        sc[y][x]=res\n",
    "thd=np.quantile(sc,0.98)\n",
    "fsc=[(sc[y][x],x,y) for y in range(1,H) for x in range(1,W)]\n",
    "fsc.sort()\n",
    "vis=np.zeros(s.shape)\n",
    "idx=len(fsc)-1\n",
    "cnt=0\n",
    "dx=[-1,0,0,1]\n",
    "dy=[0,1,-1,0]\n",
    "while cnt<9:\n",
    "    while True:\n",
    "        _,x,y=fsc[idx]\n",
    "        if vis[y][x]==0:\n",
    "            break\n",
    "        idx-=1\n",
    "    stack=[(x,y)]\n",
    "    cnt+=1\n",
    "    while len(stack)>0:\n",
    "        x,y=stack.pop()\n",
    "        vis[y][x]=cnt\n",
    "        for i in range(4):\n",
    "            xx=x+dx[i]\n",
    "            yy=y+dy[i]\n",
    "            if vis[yy][xx]==0 and sc[yy][xx]>thd:\n",
    "                stack.append((xx,yy))\n",
    "\n",
    "blks=[[] for i in range(9)]\n",
    "for y in range(1,H):\n",
    "    for x in range(1,W):\n",
    "        if vis[y][x]>0:\n",
    "            blks[int(vis[y][x])-1].append((x,y))\n",
    "        "
   ]
  },
  {
   "cell_type": "raw",
   "id": "48a86271",
   "metadata": {},
   "source": [
    "#include <iostream>\n",
    "#include <vector>\n",
    "#include <algorithm>\n",
    "#include <numeric>\n",
    "#include <cmath>\n",
    "\n",
    "using namespace std;\n",
    "\n",
    "// Function to calculate the prefix sum array\n",
    "void calculatePrefixSum(const vector<vector<double>>& a, vector<vector<double>>& s) {\n",
    "    int H = a.size();\n",
    "    int W = a[0].size();\n",
    "    vector<double> s1(W + 1, 0.0);\n",
    "\n",
    "    for (int y = 0; y < H; ++y) {\n",
    "        for (int x = 0; x < W; ++x) {\n",
    "            s1[x + 1] = s1[x] + a[y][x];\n",
    "            s[y + 1][x + 1] = s1[x + 1] + s[y][x + 1];\n",
    "        }\n",
    "    }\n",
    "}\n",
    "\n",
    "// Function to calculate the sum of a submatrix\n",
    "double rec_sum(const vector<vector<double>>& s, int x1, int y1, int x2, int y2) {\n",
    "    return s[y2][x2] - s[y1 - 1][x2] - s[y2][x1 - 1] + s[y1 - 1][x1 - 1];\n",
    "}\n",
    "\n",
    "int main() {\n",
    "    // Example input array\n",
    "    vector<vector<double>> a = {\n",
    "        {1, 2, 3},\n",
    "        {4, 5, 6},\n",
    "        {7, 8, 9}\n",
    "    };\n",
    "\n",
    "    int H = a.size();\n",
    "    int W = a[0].size();\n",
    "\n",
    "    vector<vector<double>> s(H + 1, vector<double>(W + 1, 0.0));\n",
    "    calculatePrefixSum(a, s);\n",
    "\n",
    "    // Define the cross window\n",
    "    int c_size = 15 - 1;\n",
    "    int c_corner = 5 - 1;\n",
    "\n",
    "    vector<vector<double>> sc(H + 1, vector<double>(W + 1, 0.0));\n",
    "\n",
    "    for (int y = 1; y < H - c_size; ++y) {\n",
    "        for (int x = 1; x < W - c_size; ++x) {\n",
    "            int x2 = x + c_size;\n",
    "            int y2 = y + c_size;\n",
    "            double res = rec_sum(s, x, y, x2, y2);\n",
    "            res -= rec_sum(s, x, y, x + c_corner, y + c_corner);\n",
    "            res -= rec_sum(s, x2 - c_corner, y, x2, y + c_corner);\n",
    "            res -= rec_sum(s, x, y2 - c_corner, x + c_corner, y2);\n",
    "            res -= rec_sum(s, x2 - c_corner, y2 - c_corner, x2, y2);\n",
    "            sc[y][x] = res;\n",
    "        }\n",
    "    }\n",
    "\n",
    "    // Calculate the threshold\n",
    "    vector<double> flat_sc;\n",
    "    for (int y = 1; y < H; ++y) {\n",
    "        for (int x = 1; x < W; ++x) {\n",
    "            flat_sc.push_back(sc[y][x]);\n",
    "        }\n",
    "    }\n",
    "    sort(flat_sc.begin(), flat_sc.end());\n",
    "    double thd = flat_sc[static_cast<int>(0.98 * flat_sc.size())];\n",
    "\n",
    "    vector<tuple<double, int, int>> fsc;\n",
    "    for (int y = 1; y < H; ++y) {\n",
    "        for (int x = 1; x < W; ++x) {\n",
    "            fsc.emplace_back(sc[y][x], x, y);\n",
    "        }\n",
    "    }\n",
    "    sort(fsc.begin(), fsc.end());\n",
    "\n",
    "    vector<vector<int>> vis(H + 1, vector<int>(W + 1, 0));\n",
    "    int idx = fsc.size() - 1;\n",
    "    int cnt = 0;\n",
    "    vector<int> dx = {-1, 0, 0, 1};\n",
    "    vector<int> dy = {0, 1, -1, 0};\n",
    "\n",
    "    while (cnt < 9) {\n",
    "        while (true) {\n",
    "            auto [_, x, y] = fsc[idx];\n",
    "            if (vis[y][x] == 0) {\n",
    "                break;\n",
    "            }\n",
    "            idx--;\n",
    "        }\n",
    "        vector<pair<int, int>> stack = {{get<1>(fsc[idx]), get<2>(fsc[idx])}};\n",
    "        cnt++;\n",
    "        while (!stack.empty()) {\n",
    "            auto [x, y] = stack.back();\n",
    "            stack.pop_back();\n",
    "            vis[y][x] = cnt;\n",
    "            for (int i = 0; i < 4; ++i) {\n",
    "                int xx = x + dx[i];\n",
    "                int yy = y + dy[i];\n",
    "                if (vis[yy][xx] == 0 && sc[yy][xx] > thd) {\n",
    "                    stack.emplace_back(xx, yy);\n",
    "                }\n",
    "            }\n",
    "        }\n",
    "    }\n",
    "\n",
    "    vector<vector<pair<int, int>>> blks(9);\n",
    "    for (int y = 1; y < H; ++y) {\n",
    "        for (int x = 1; x < W; ++x) {\n",
    "            if (vis[y][x] > 0) {\n",
    "                blks[vis[y][x] - 1].emplace_back(x, y);\n",
    "            }\n",
    "        }\n",
    "    }\n",
    "\n",
    "    // Output the blocks\n",
    "    for (int i = 0; i < 9; ++i) {\n",
    "        cout << \"Block \" << i + 1 << \":\\n\";\n",
    "        for (const auto& [x, y] : blks[i]) {\n",
    "            cout << \"(\" << x << \", \" << y << \")\\n\";\n",
    "        }\n",
    "    }\n",
    "\n",
    "    return 0;\n",
    "}\n"
   ]
  }
 ],
 "metadata": {
  "kernelspec": {
   "display_name": "Python 3 (ipykernel)",
   "language": "python",
   "name": "python3"
  },
  "language_info": {
   "codemirror_mode": {
    "name": "ipython",
    "version": 3
   },
   "file_extension": ".py",
   "mimetype": "text/x-python",
   "name": "python",
   "nbconvert_exporter": "python",
   "pygments_lexer": "ipython3",
   "version": "3.12.3"
  }
 },
 "nbformat": 4,
 "nbformat_minor": 5
}
