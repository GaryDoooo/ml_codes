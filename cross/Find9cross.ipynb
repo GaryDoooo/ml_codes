{
 "cells": [
  {
   "cell_type": "code",
   "execution_count": 11,
   "id": "25be690a",
   "metadata": {},
   "outputs": [
    {
     "name": "stdout",
     "output_type": "stream",
     "text": [
      "Defaulting to user installation because normal site-packages is not writeable\n",
      "Collecting opencv-contrib-python\n",
      "  Downloading opencv_contrib_python-4.10.0.84-cp37-abi3-manylinux_2_17_x86_64.manylinux2014_x86_64.whl.metadata (20 kB)\n",
      "Requirement already satisfied: numpy>=1.21.2 in /usr/lib/python3/dist-packages (from opencv-contrib-python) (1.26.4)\n",
      "Downloading opencv_contrib_python-4.10.0.84-cp37-abi3-manylinux_2_17_x86_64.manylinux2014_x86_64.whl (68.7 MB)\n",
      "\u001b[2K   \u001b[90m━━━━━━━━━━━━━━━━━━━━━━━━━━━━━━━━━━━━━━━━\u001b[0m \u001b[32m68.7/68.7 MB\u001b[0m \u001b[31m6.8 MB/s\u001b[0m eta \u001b[36m0:00:00\u001b[0m:00:01\u001b[0m00:01\u001b[0mm\n",
      "\u001b[?25hInstalling collected packages: opencv-contrib-python\n",
      "Successfully installed opencv-contrib-python-4.10.0.84\n"
     ]
    }
   ],
   "source": [
    "!pip install opencv-contrib-python"
   ]
  },
  {
   "cell_type": "code",
   "execution_count": 4,
   "id": "24118d44",
   "metadata": {},
   "outputs": [
    {
     "name": "stdout",
     "output_type": "stream",
     "text": [
      "1\n",
      "4 [[[   0    0]]\n",
      "\n",
      " [[   0  788]]\n",
      "\n",
      " [[1113  788]]\n",
      "\n",
      " [[1113    0]]]\n"
     ]
    }
   ],
   "source": [
    "import cv2\n",
    "import numpy as np\n",
    "\n",
    "# Load the image\n",
    "image = cv2.imread('2.png')\n",
    "\n",
    "# Convert to grayscale\n",
    "gray = cv2.cvtColor(image, cv2.COLOR_BGR2GRAY)\n",
    "\n",
    "# Apply Gaussian blur to reduce noise\n",
    "blur = cv2.GaussianBlur(gray, (5, 5), 0)\n",
    "\n",
    "# Apply thresholding to create a binary image\n",
    "_, thresh = cv2.threshold(blur, 200, 255, cv2.THRESH_BINARY_INV)\n",
    "\n",
    "# Find contours\n",
    "contours, _ = cv2.findContours(thresh, cv2.RETR_EXTERNAL, cv2.CHAIN_APPROX_SIMPLE)\n",
    "\n",
    "print(len(contours))\n",
    "# Loop through the contours to find the cross\n",
    "for contour in contours:\n",
    "    # Approximate the contour to reduce the number of points\n",
    "    epsilon = 0.01 * cv2.arcLength(contour, True)\n",
    "    approx = cv2.approxPolyDP(contour, epsilon, True)\n",
    "    \n",
    "print(len(approx),approx)\n",
    "#     # Check if the approximated contour has 12 vertices (a heuristic for a cross shape)\n",
    "#     if len(approx) == 12:\n",
    "#         # Compute the moments of the contour\n",
    "#         M = cv2.moments(contour)\n",
    "        \n",
    "#         # Calculate the centroid (center of mass)\n",
    "#         if M[\"m00\"] != 0:\n",
    "#             cX = int(M[\"m10\"] / M[\"m00\"])\n",
    "#             cY = int(M[\"m01\"] / M[\"m00\"])\n",
    "#         else:\n",
    "#             cX, cY = 0, 0\n",
    "        \n",
    "#         # Draw the contour and the centroid on the image\n",
    "#         cv2.drawContours(image, [contour], -1, (0, 255, 0), 2)\n",
    "#         cv2.circle(image, (cX, cY), 7, (255, 0, 0), -1)\n",
    "#         cv2.putText(image, \"center\", (cX - 20, cY - 20),\n",
    "#                     cv2.FONT_HERSHEY_SIMPLEX, 0.5, (255, 255, 255), 2)\n",
    "        \n",
    "#         # Break the loop after finding the cross\n",
    "#         break\n",
    "\n",
    "# # Display the result\n",
    "# cv2.imshow('Image with Cross Center', image)\n",
    "# cv2.waitKey(0)\n",
    "# cv2.destroyAllWindows()"
   ]
  },
  {
   "cell_type": "code",
   "execution_count": 14,
   "id": "6b680358",
   "metadata": {},
   "outputs": [],
   "source": [
    "import cv2"
   ]
  },
  {
   "cell_type": "code",
   "execution_count": 8,
   "id": "3301e1af",
   "metadata": {},
   "outputs": [
    {
     "name": "stdout",
     "output_type": "stream",
     "text": [
      "(789, 1114)\n"
     ]
    }
   ],
   "source": [
    "from PIL import Image\n",
    "import numpy as np\n",
    "\n",
    "# Open the PNG image\n",
    "image = Image.open('2.png')\n",
    "\n",
    "# Convert the image to grayscale\n",
    "grayscale_image = image.convert('L')\n",
    "\n",
    "# Convert the grayscale image to a 2D NumPy array\n",
    "array_2d = np.array(grayscale_image)\n",
    "\n",
    "# Print the shape of the 2D array\n",
    "print(array_2d.shape)\n"
   ]
  },
  {
   "cell_type": "code",
   "execution_count": 9,
   "id": "42c9ab1c",
   "metadata": {},
   "outputs": [
    {
     "data": {
      "text/plain": [
       "878946"
      ]
     },
     "execution_count": 9,
     "metadata": {},
     "output_type": "execute_result"
    }
   ],
   "source": [
    "789*1114"
   ]
  },
  {
   "cell_type": "code",
   "execution_count": 13,
   "id": "3f1083e3",
   "metadata": {},
   "outputs": [],
   "source": [
    "a=array_2d\n",
    "H,W=a.shape\n",
    "s=np.zeros((H+1,W+1))\n",
    "s1=np.zeros((W+1))\n",
    "for y in range(H):\n",
    "    for x in range(W):\n",
    "        s1[x+1]=s1[x]+a[y][x]\n",
    "        s[y+1][x+1]=s1[x+1]+s[y][x+1]\n",
    "\n",
    "def rec_sum(x1,y1,x2,y2):\n",
    "    return s[y2][x2]-s[y1-1][x2]-s[y2][x1-1]+s[y1-1][x1-1]\n"
   ]
  },
  {
   "cell_type": "code",
   "execution_count": 14,
   "id": "af50bacf",
   "metadata": {},
   "outputs": [],
   "source": [
    "rs=rec_sum\n",
    "##### define the cross window #######\n",
    "c_size=15-1 \n",
    "c_corner=5-1\n",
    "\n",
    "sc=np.zeros(s.shape)\n",
    "for y in range(1,H-c_size):\n",
    "    for x in range(1,W-c_size):\n",
    "        x2=x+c_size\n",
    "        y2=y+c_size\n",
    "        res=rs(x,y,x2,y2)\n",
    "        res-=rs(x,y,x+c_corner,y+c_corner)\n",
    "        res-=rs(x2-c_corner,y,x2,y+c_corner)\n",
    "        res-=rs(x,y2-c_corner,x+c_corner,y2)\n",
    "        res-=rs(x2-c_corner,y2-c_corner,x2,y2)\n",
    "        sc[y][x]=res\n"
   ]
  },
  {
   "cell_type": "code",
   "execution_count": 22,
   "id": "99231906",
   "metadata": {},
   "outputs": [
    {
     "name": "stdout",
     "output_type": "stream",
     "text": [
      "3122.0\n",
      "0.0\n"
     ]
    }
   ],
   "source": [
    "flat_sc=sc.flatten()\n",
    "print(np.quantile(sc,0.98))\n",
    "print(np.quantile(flat_sc,0.001))"
   ]
  },
  {
   "cell_type": "code",
   "execution_count": 23,
   "id": "ddaa40ce",
   "metadata": {},
   "outputs": [],
   "source": [
    "thd=np.quantile(sc,0.98)\n",
    "fsc=[(sc[y][x],x,y) for y in range(1,H) for x in range(1,W)]\n",
    "fsc.sort()"
   ]
  },
  {
   "cell_type": "code",
   "execution_count": 27,
   "id": "6410dbd5",
   "metadata": {},
   "outputs": [],
   "source": [
    "vis=np.zeros(s.shape)\n",
    "idx=len(fsc)-1\n",
    "cnt=0\n",
    "dx=[-1,0,0,1]\n",
    "dy=[0,1,-1,0]\n",
    "while cnt<9:\n",
    "    while True:\n",
    "        _,x,y=fsc[idx]\n",
    "        if vis[y][x]==0:\n",
    "            break\n",
    "        idx-=1\n",
    "    stack=[(x,y)]\n",
    "    cnt+=1\n",
    "    while len(stack)>0:\n",
    "        x,y=stack.pop()\n",
    "        vis[y][x]=cnt\n",
    "        for i in range(4):\n",
    "            xx=x+dx[i]\n",
    "            yy=y+dy[i]\n",
    "            if vis[yy][xx]==0 and sc[yy][xx]>thd:\n",
    "                stack.append((xx,yy))\n",
    "\n",
    "blks=[[] for i in range(9)]\n",
    "for y in range(1,H):\n",
    "    for x in range(1,W):\n",
    "        if vis[y][x]>0:\n",
    "            blks[int(vis[y][x])-1].append((x,y))\n",
    "        "
   ]
  },
  {
   "cell_type": "code",
   "execution_count": 28,
   "id": "0ed553ee",
   "metadata": {},
   "outputs": [
    {
     "name": "stdout",
     "output_type": "stream",
     "text": [
      "147.4503856041131 347.14498714652956\n",
      "962.489701338826 347.15911431513905\n",
      "544.489701338826 347.15911431513905\n",
      "544.443025038324 669.0889115993868\n",
      "962.5283307810107 669.0791220010209\n",
      "962.4748858447489 109.02384576357179\n",
      "544.4360672440142 109.06062149770759\n",
      "147.38343558282207 669.0930470347648\n",
      "147.42944785276075 109.09304703476482\n"
     ]
    }
   ],
   "source": [
    "from statistics import mean\n",
    "\n",
    "for blk in blks:\n",
    "    xs=[i[0] for i in blk]\n",
    "    ys=[i[1] for i in blk]\n",
    "    print(mean(xs),mean(ys))"
   ]
  },
  {
   "cell_type": "code",
   "execution_count": null,
   "id": "8af0a0db",
   "metadata": {},
   "outputs": [],
   "source": [
    "H,W=a.shape\n",
    "s=np.zeros((H+1,W+1))\n",
    "s1=np.zeros((W+1))\n",
    "for y in range(H):\n",
    "    for x in range(W):\n",
    "        s1[x+1]=s1[x]+a[y][x]\n",
    "        s[y+1][x+1]=s1[x+1]+s[y][x+1]\n",
    "\n",
    "def rec_sum(x1,y1,x2,y2):\n",
    "    return s[y2][x2]-s[y1-1][x2]-s[y2][x1-1]+s[y1-1][x1-1]\n",
    "\n",
    "rs=rec_sum\n",
    "##### define the cross window #######\n",
    "c_size=15-1 \n",
    "c_corner=5-1\n",
    "\n",
    "sc=np.zeros(s.shape)\n",
    "for y in range(1,H-c_size):\n",
    "    for x in range(1,W-c_size):\n",
    "        x2=x+c_size\n",
    "        y2=y+c_size\n",
    "        res=rs(x,y,x2,y2)\n",
    "        res-=rs(x,y,x+c_corner,y+c_corner)\n",
    "        res-=rs(x2-c_corner,y,x2,y+c_corner)\n",
    "        res-=rs(x,y2-c_corner,x+c_corner,y2)\n",
    "        res-=rs(x2-c_corner,y2-c_corner,x2,y2)\n",
    "        sc[y][x]=res\n",
    "thd=np.quantile(sc,0.98)\n",
    "fsc=[(sc[y][x],x,y) for y in range(1,H) for x in range(1,W)]\n",
    "fsc.sort()\n",
    "vis=np.zeros(s.shape)\n",
    "idx=len(fsc)-1\n",
    "cnt=0\n",
    "dx=[-1,0,0,1]\n",
    "dy=[0,1,-1,0]\n",
    "while cnt<9:\n",
    "    while True:\n",
    "        _,x,y=fsc[idx]\n",
    "        if vis[y][x]==0:\n",
    "            break\n",
    "        idx-=1\n",
    "    stack=[(x,y)]\n",
    "    cnt+=1\n",
    "    while len(stack)>0:\n",
    "        x,y=stack.pop()\n",
    "        vis[y][x]=cnt\n",
    "        for i in range(4):\n",
    "            xx=x+dx[i]\n",
    "            yy=y+dy[i]\n",
    "            if vis[yy][xx]==0 and sc[yy][xx]>thd:\n",
    "                stack.append((xx,yy))\n",
    "\n",
    "blks=[[] for i in range(9)]\n",
    "for y in range(1,H):\n",
    "    for x in range(1,W):\n",
    "        if vis[y][x]>0:\n",
    "            blks[int(vis[y][x])-1].append((x,y))\n",
    "        "
   ]
  }
 ],
 "metadata": {
  "kernelspec": {
   "display_name": "Python 3 (ipykernel)",
   "language": "python",
   "name": "python3"
  },
  "language_info": {
   "codemirror_mode": {
    "name": "ipython",
    "version": 3
   },
   "file_extension": ".py",
   "mimetype": "text/x-python",
   "name": "python",
   "nbconvert_exporter": "python",
   "pygments_lexer": "ipython3",
   "version": "3.12.3"
  }
 },
 "nbformat": 4,
 "nbformat_minor": 5
}
