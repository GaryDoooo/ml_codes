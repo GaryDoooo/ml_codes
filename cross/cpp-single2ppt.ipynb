{
 "cells": [
  {
   "cell_type": "code",
   "execution_count": 46,
   "id": "77cbc46c",
   "metadata": {},
   "outputs": [],
   "source": [
    "with open(\"cpp/res.txt\", \"r\") as file:\n",
    "    content = file.read()"
   ]
  },
  {
   "cell_type": "code",
   "execution_count": 47,
   "id": "4b85d6fc",
   "metadata": {},
   "outputs": [],
   "source": [
    "xhs=eval(content)"
   ]
  },
  {
   "cell_type": "code",
   "execution_count": 23,
   "id": "78052474",
   "metadata": {},
   "outputs": [
    {
     "name": "stdout",
     "output_type": "stream",
     "text": [
      "Defaulting to user installation because normal site-packages is not writeable\n",
      "Requirement already satisfied: statsmodels in /home/du/.local/lib/python3.12/site-packages (0.14.4)\n",
      "Requirement already satisfied: numpy<3,>=1.22.3 in /usr/lib/python3/dist-packages (from statsmodels) (1.26.4)\n",
      "Requirement already satisfied: scipy!=1.9.2,>=1.8 in /usr/lib/python3/dist-packages (from statsmodels) (1.11.4)\n",
      "Requirement already satisfied: pandas!=2.1.0,>=1.4 in /home/du/.local/lib/python3.12/site-packages (from statsmodels) (2.2.2)\n",
      "Requirement already satisfied: patsy>=0.5.6 in /home/du/.local/lib/python3.12/site-packages (from statsmodels) (0.5.6)\n",
      "Requirement already satisfied: packaging>=21.3 in /usr/lib/python3/dist-packages (from statsmodels) (24.0)\n",
      "Requirement already satisfied: python-dateutil>=2.8.2 in /usr/lib/python3/dist-packages (from pandas!=2.1.0,>=1.4->statsmodels) (2.8.2)\n",
      "Requirement already satisfied: pytz>=2020.1 in /usr/lib/python3/dist-packages (from pandas!=2.1.0,>=1.4->statsmodels) (2024.1)\n",
      "Requirement already satisfied: tzdata>=2022.7 in /home/du/.local/lib/python3.12/site-packages (from pandas!=2.1.0,>=1.4->statsmodels) (2024.1)\n",
      "Requirement already satisfied: six in /usr/lib/python3/dist-packages (from patsy>=0.5.6->statsmodels) (1.16.0)\n"
     ]
    }
   ],
   "source": [
    "!pip3 install statsmodels\n",
    "from double_line_single import double_line\n"
   ]
  },
  {
   "cell_type": "code",
   "execution_count": 48,
   "id": "5dc9a229",
   "metadata": {},
   "outputs": [],
   "source": [
    "xhs.sort(key=lambda x:x[1])"
   ]
  },
  {
   "cell_type": "code",
   "execution_count": 49,
   "id": "7f2ae7dc",
   "metadata": {},
   "outputs": [],
   "source": [
    "xh2d=[xhs[i*11:(i+1)*11] for i in range(11) ]"
   ]
  },
  {
   "cell_type": "code",
   "execution_count": 50,
   "id": "1a659e9d",
   "metadata": {},
   "outputs": [],
   "source": [
    "for i in xh2d:\n",
    "    i.sort(key=lambda x:x[0])"
   ]
  },
  {
   "cell_type": "code",
   "execution_count": 39,
   "id": "5f5ead0e",
   "metadata": {},
   "outputs": [
    {
     "name": "stdout",
     "output_type": "stream",
     "text": [
      "Defaulting to user installation because normal site-packages is not writeable\n",
      "Collecting opencv-python-headless\n",
      "  Downloading opencv_python_headless-4.10.0.84-cp37-abi3-manylinux_2_17_x86_64.manylinux2014_x86_64.whl.metadata (20 kB)\n",
      "Requirement already satisfied: numpy>=1.21.2 in /usr/lib/python3/dist-packages (from opencv-python-headless) (1.26.4)\n",
      "Downloading opencv_python_headless-4.10.0.84-cp37-abi3-manylinux_2_17_x86_64.manylinux2014_x86_64.whl (49.9 MB)\n",
      "\u001b[2K   \u001b[90m━━━━━━━━━━━━━━━━━━━━━━━━━━━━━━━━━━━━━━━━\u001b[0m \u001b[32m49.9/49.9 MB\u001b[0m \u001b[31m54.1 MB/s\u001b[0m eta \u001b[36m0:00:00\u001b[0m:00:01\u001b[0m00:01\u001b[0m\n",
      "\u001b[?25hInstalling collected packages: opencv-python-headless\n",
      "Successfully installed opencv-python-headless-4.10.0.84\n",
      "Defaulting to user installation because normal site-packages is not writeable\n",
      "Requirement already satisfied: matplotlib in /usr/lib/python3/dist-packages (3.6.3)\n"
     ]
    }
   ],
   "source": [
    "! pip3 install opencv-python-headless\n",
    "!pip3 install matplotlib \n",
    "import cv2\n",
    "import matplotlib.pyplot as plt"
   ]
  },
  {
   "cell_type": "code",
   "execution_count": 42,
   "id": "ce5cbc82",
   "metadata": {},
   "outputs": [],
   "source": [
    "file='2Y0Y3B1XSDG8Q002H_G.tiff'\n",
    "# Read the TIFF file with IMREAD_ANYDEPTH flag to handle 32-bit depth\n",
    "image = cv2.imread(file, cv2.IMREAD_ANYDEPTH)\n",
    "\n",
    "# Convert to float if necessary (OpenCV reads it as uint16 or similar)\n",
    "image = image.astype('float32')\n"
   ]
  },
  {
   "cell_type": "code",
   "execution_count": 44,
   "id": "b704f919",
   "metadata": {},
   "outputs": [
    {
     "name": "stdout",
     "output_type": "stream",
     "text": [
      "Defaulting to user installation because normal site-packages is not writeable\n",
      "Requirement already satisfied: numpy in /usr/lib/python3/dist-packages (1.26.4)\n"
     ]
    }
   ],
   "source": [
    "!pip install numpy"
   ]
  },
  {
   "cell_type": "code",
   "execution_count": 53,
   "id": "cb518b59",
   "metadata": {},
   "outputs": [],
   "source": [
    "import pyppt as ppt\n",
    "import matplotlib.pyplot as plt\n",
    "import numpy as np\n",
    "\n",
    "def cropNenhance(image):\n",
    "    # Step 2: Crop the image (20% from each edge)\n",
    "    height, width = image.shape[:2]\n",
    "    crop_height = int(height * 0.2)\n",
    "    crop_width = int(width * 0.2)\n",
    "    \n",
    "    # Cropping the image\n",
    "    cropped_image = image[crop_height:height-crop_height, crop_width:width-crop_width]\n",
    "    \n",
    "    # Step 3: Enhance the image to scale pixel values to [0, 255]\n",
    "    # Normalize the pixel values\n",
    "    min_val = np.min(cropped_image)\n",
    "    max_val = np.max(cropped_image)\n",
    "    \n",
    "    # Scale to [0, 255]\n",
    "    enhanced_image = (255 * (cropped_image - min_val) / (max_val - min_val)).astype(np.uint8)\n",
    "    return enhanced_image\n",
    "\n",
    "\n",
    "\n",
    "# # Add the figure to the PowerPoint slide\n",
    "# ppt.add_figure('Center')\n",
    "\n",
    "import matplotlib.pyplot as plt\n",
    "from pptx import Presentation\n",
    "from pptx.util import Inches\n",
    "\n",
    "# Create matplotlib figure\n",
    "# plt.plot([1, 2, 3, 4])\n",
    "\n",
    "plt.imshow(cropNenhance(image), cmap='gray')\n",
    "# Adjust the layout\n",
    "plt.tight_layout()\n",
    "plt.savefig('graph.png')\n",
    "plt.close()\n",
    "\n",
    "# Add to PowerPoint\n",
    "prs = Presentation()\n",
    "slide = prs.slides.add_slide(prs.slide_layouts[6])\n",
    "slide.shapes.add_picture('graph.png', Inches(1), Inches(1))\n",
    "prs.save('pngdd.pptx')"
   ]
  },
  {
   "cell_type": "code",
   "execution_count": 66,
   "id": "36861800",
   "metadata": {},
   "outputs": [],
   "source": [
    "import matplotlib.pyplot as plt\n",
    "import matplotlib.colors as colors\n",
    "import numpy as np\n",
    "\n",
    "# Function to determine text color based on background luminance\n",
    "def get_text_color(value, vmin, vmax, cmap):\n",
    "    norm = plt.Normalize(vmin, vmax)\n",
    "    rgba = cmap(norm(value))\n",
    "    luminance = 0.299 * rgba[0] + 0.587 * rgba[1] + 0.114 * rgba[2]\n",
    "    return 'black' if luminance > 0.5 else 'white'\n",
    "\n",
    "# Create a custom colormap\n",
    "def create_custom_ylord():\n",
    "    # Get the YlOrRd colormap\n",
    "    ylord = plt.cm.YlOrRd(np.linspace(0, 1, 256))\n",
    "    \n",
    "    # Create a new colormap with white at the beginning\n",
    "    custom_ylord = np.vstack((np.array([1, 1, 1, 1]), ylord))\n",
    "    return colors.ListedColormap(custom_ylord)\n",
    "\n",
    "fig, ax = plt.subplots(figsize=(7,7))\n",
    "ax.set_aspect('equal') \n",
    "y=x=[i for i in range(1,12)]\n",
    "# Create a modified YlOrRd colormap with white as the minimum\n",
    "cmap = plt.cm.YlOrRd.copy()\n",
    "cmap.set_under('white')\n",
    "    \n",
    "# Create the custom colormap\n",
    "cmap = create_custom_ylord()\n",
    "\n",
    "heatmap = ax.pcolormesh(x, y, res_map, shading='auto', cmap=cmap,edgecolors='grey',\n",
    "                       linewidths=0.5)\n",
    "\n",
    "# Add a colorbar\n",
    "# plt.colorbar(heatmap)\n",
    "# # Use imshow with origin='upper'\n",
    "# im = ax.imshow(res_map, origin='upper')\n",
    "\n",
    "# Add value annotations\n",
    "max_value = max(max(row) for row in res_map)\n",
    "min_value = min(min(row) for row in res_map)\n",
    "for i in range(len(y)):\n",
    "    for j in range(len(x)):\n",
    "        ax.text(x[j], y[i], f'{res_map[i][j]}', \n",
    "                ha='center', va='center', color=get_text_color(res_map[i][j],\n",
    "                                                              min_value,max_value ,cmap))\n",
    "        \n",
    "# Set labels and title\n",
    "# ax.set_xlabel('Columns')\n",
    "# ax.set_ylabel('Rows')\n",
    "# Adjust axes\n",
    "# ax.set_xlim(0,10)\n",
    "# Get the current y-axis limits\n",
    "y_min, y_max = ax.get_ylim()\n",
    "ax.set_ylim(y_max,y_min) \n",
    "ax.set_xticks(x)\n",
    "ax.set_xticklabels([f'C{i}' for i in x]) \n",
    "ax.set_yticks(y)\n",
    "ax.set_yticklabels([f'R{i}' for i in y]) \n",
    "# ax.set_title('2D Heatmap')\n",
    "# Move x-axis to the top\n",
    "ax.xaxis.tick_top()\n",
    "ax.xaxis.set_label_position('top')\n",
    "\n",
    "plt.savefig('graph2.png')\n",
    "plt.close()"
   ]
  },
  {
   "cell_type": "code",
   "execution_count": 54,
   "id": "157f2689",
   "metadata": {},
   "outputs": [],
   "source": [
    "def cropNenhance(image,left,right,top,bottom):\n",
    "    # Step 2: Crop the image (20% from each edge)\n",
    "#     height, width = image.shape[:2]\n",
    "#     crop_height = int(height * 0.2)\n",
    "#     crop_width = int(width * 0.2)\n",
    "    \n",
    "    # Cropping the image\n",
    "#     cropped_image = image[crop_height:height-crop_height, crop_width:width-crop_width]\n",
    "    cropped_image=image[top:bottom+1,left:right+1]\n",
    "    \n",
    "    # Step 3: Enhance the image to scale pixel values to [0, 255]\n",
    "    # Normalize the pixel values\n",
    "    min_val = np.min(cropped_image)\n",
    "    max_val = np.max(cropped_image)\n",
    "    \n",
    "    # Scale to [0, 255]\n",
    "    enhanced_image = (255 * (cropped_image - min_val) / (max_val - min_val)).astype(np.uint8)\n",
    "    return enhanced_image\n",
    "\n",
    "res_map=[[0]*11 for i in range(11)]\n",
    "for x in range(11):\n",
    "    for y in range(11):\n",
    "        [x0,y0]=xh2d[y][x]\n",
    "        res=double_line(cropNenhance(image,x0-80,x0+80,y0-80,y0+80))\n",
    "        res_map[y][x]=res['lvl']"
   ]
  },
  {
   "cell_type": "code",
   "execution_count": 69,
   "id": "7c47afd2",
   "metadata": {},
   "outputs": [
    {
     "name": "stdout",
     "output_type": "stream",
     "text": [
      "783 3523\n"
     ]
    }
   ],
   "source": [
    "# Create matplotlib figure\n",
    "# plt.plot([1, 2, 3, 4])\n",
    "filename='2Y0Y3B1XSDG8Q002H_G.tiff'\n",
    "height, width = image.shape[:2]\n",
    "gridleft=xh2d[0][0][0]\n",
    "gridtop=xh2d[0][0][1]\n",
    "gridright=xh2d[10][10][0]\n",
    "gridbottom=xh2d[10][10][1]\n",
    "print(gridtop, gridbottom)\n",
    "\n",
    "cropleft=int(max(gridleft-(gridright-gridleft)/10,0))\n",
    "cropright=int(min(gridright+(gridright-gridleft)/10,int(width)))\n",
    "\n",
    "croptop=int(max(gridtop-(gridbottom-gridtop)/10,0))\n",
    "cropbottom=int(min(gridbottom+(gridbottom-gridtop)/10,int(height)))\n",
    "\n",
    "plt.figure(figsize=(7, 7))\n",
    "plt.imshow(cropNenhance(image,cropleft, cropright, croptop, cropbottom), cmap='gray')\n",
    "plt.title(filename.split('/')[-1])\n",
    "# Adjust the layout\n",
    "plt.tight_layout()\n",
    "plt.savefig('graph.png')\n",
    "plt.close()\n",
    "\n",
    "# Add to PowerPoint\n",
    "prs = Presentation()\n",
    "# Set slide dimensions to 16:9 aspect ratio\n",
    "prs.slide_width = Inches(16)\n",
    "prs.slide_height = Inches(9)\n",
    "\n",
    "slide = prs.slides.add_slide(prs.slide_layouts[6])\n",
    "slide.shapes.add_picture('graph.png', Inches(0.5), Inches(1))\n",
    "\n",
    "slide.shapes.add_picture('graph2.png', Inches(8), Inches(1))\n",
    "\n",
    "prs.save('pngdd.pptx')"
   ]
  },
  {
   "cell_type": "code",
   "execution_count": null,
   "id": "0223872e",
   "metadata": {},
   "outputs": [],
   "source": []
  }
 ],
 "metadata": {
  "kernelspec": {
   "display_name": "Python 3 (ipykernel)",
   "language": "python",
   "name": "python3"
  },
  "language_info": {
   "codemirror_mode": {
    "name": "ipython",
    "version": 3
   },
   "file_extension": ".py",
   "mimetype": "text/x-python",
   "name": "python",
   "nbconvert_exporter": "python",
   "pygments_lexer": "ipython3",
   "version": "3.12.3"
  }
 },
 "nbformat": 4,
 "nbformat_minor": 5
}
