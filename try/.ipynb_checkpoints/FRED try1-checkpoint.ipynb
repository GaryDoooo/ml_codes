{
 "cells": [
  {
   "cell_type": "raw",
   "metadata": {},
   "source": [
    "FRED: https://fred.stlouisfed.org/series/T10Y3M\n",
    "\n",
    "python FRED API: \n",
    "https://mortada.net/python-api-for-fred.html"
   ]
  },
  {
   "cell_type": "code",
   "execution_count": 1,
   "metadata": {},
   "outputs": [
    {
     "name": "stdout",
     "output_type": "stream",
     "text": [
      "\u001b[33mThe directory '/home/du/.cache/pip/http' or its parent directory is not owned by the current user and the cache has been disabled. Please check the permissions and owner of that directory. If executing pip with sudo, you may want sudo's -H flag.\u001b[0m\n",
      "\u001b[33mThe directory '/home/du/.cache/pip' or its parent directory is not owned by the current user and caching wheels has been disabled. check the permissions and owner of that directory. If executing pip with sudo, you may want sudo's -H flag.\u001b[0m\n",
      "Collecting fredapi\n",
      "  Downloading https://files.pythonhosted.org/packages/3f/6b/c6652a9d71966bf071247289f80e5ee330b154aecb43d01eee61e0a4a8e2/fredapi-0.4.1.tar.gz\n",
      "Requirement already satisfied: pandas in /usr/local/lib/python3.6/dist-packages (from fredapi) (0.23.4)\n",
      "Requirement already satisfied: numpy>=1.9.0 in /usr/local/lib/python3.6/dist-packages (from pandas->fredapi) (1.15.4)\n",
      "Requirement already satisfied: python-dateutil>=2.5.0 in /usr/local/lib/python3.6/dist-packages (from pandas->fredapi) (2.7.5)\n",
      "Requirement already satisfied: pytz>=2011k in /usr/local/lib/python3.6/dist-packages (from pandas->fredapi) (2018.7)\n",
      "Requirement already satisfied: six>=1.5 in /usr/lib/python3/dist-packages (from python-dateutil>=2.5.0->pandas->fredapi) (1.11.0)\n",
      "Installing collected packages: fredapi\n",
      "  Running setup.py install for fredapi ... \u001b[?25ldone\n",
      "\u001b[?25hSuccessfully installed fredapi-0.4.1\n"
     ]
    }
   ],
   "source": [
    "!sudo pip install fredapi"
   ]
  },
  {
   "cell_type": "code",
   "execution_count": 30,
   "metadata": {},
   "outputs": [],
   "source": [
    "from fredapi import Fred\n",
    "fred = Fred()"
   ]
  },
  {
   "cell_type": "code",
   "execution_count": 4,
   "metadata": {},
   "outputs": [
    {
     "data": {
      "text/plain": [
       "2014-09-02    2002.28\n",
       "2014-09-03    2000.72\n",
       "2014-09-04    1997.65\n",
       "2014-09-05    2007.71\n",
       "dtype: float64"
      ]
     },
     "execution_count": 4,
     "metadata": {},
     "output_type": "execute_result"
    }
   ],
   "source": [
    "s = fred.get_series('SP500', observation_start='2014-09-02', observation_end='2014-09-05')\n",
    "s.tail()"
   ]
  },
  {
   "cell_type": "code",
   "execution_count": 10,
   "metadata": {},
   "outputs": [
    {
     "name": "stdout",
     "output_type": "stream",
     "text": [
      "(2608,)\n",
      "2018-12-20    2467.42\n",
      "2018-12-21    2416.62\n",
      "2018-12-24    2351.10\n",
      "2018-12-25        NaN\n",
      "2018-12-26    2467.70\n",
      "dtype: float64 2008-12-29    869.42\n",
      "2008-12-30    890.64\n",
      "2008-12-31    903.25\n",
      "2009-01-01       NaN\n",
      "2009-01-02    931.80\n",
      "dtype: float64\n"
     ]
    }
   ],
   "source": [
    "s = fred.get_series('SP500')\n",
    "print(s.shape)\n",
    "print(s.tail(),s.head())"
   ]
  },
  {
   "cell_type": "code",
   "execution_count": 11,
   "metadata": {},
   "outputs": [
    {
     "data": {
      "text/plain": [
       "2008-12-29    869.42\n",
       "2008-12-30    890.64\n",
       "2008-12-31    903.25\n",
       "2009-01-01       NaN\n",
       "2009-01-02    931.80\n",
       "2009-01-05    927.45\n",
       "2009-01-06    934.70\n",
       "2009-01-07    906.65\n",
       "2009-01-08    909.73\n",
       "2009-01-09    890.35\n",
       "2009-01-12    870.26\n",
       "2009-01-13    871.79\n",
       "2009-01-14    842.62\n",
       "2009-01-15    843.74\n",
       "2009-01-16    850.12\n",
       "2009-01-19       NaN\n",
       "2009-01-20    805.22\n",
       "2009-01-21    840.24\n",
       "2009-01-22    827.50\n",
       "2009-01-23    831.95\n",
       "2009-01-26    836.57\n",
       "2009-01-27    845.71\n",
       "2009-01-28    874.09\n",
       "2009-01-29    845.14\n",
       "2009-01-30    825.88\n",
       "2009-02-02    825.44\n",
       "2009-02-03    838.51\n",
       "2009-02-04    832.23\n",
       "2009-02-05    845.85\n",
       "2009-02-06    868.60\n",
       "dtype: float64"
      ]
     },
     "execution_count": 11,
     "metadata": {},
     "output_type": "execute_result"
    }
   ],
   "source": [
    "s.head(30)"
   ]
  },
  {
   "cell_type": "code",
   "execution_count": 22,
   "metadata": {},
   "outputs": [
    {
     "data": {
      "text/plain": [
       "True"
      ]
     },
     "execution_count": 22,
     "metadata": {},
     "output_type": "execute_result"
    }
   ],
   "source": [
    "import pandas as pd\n",
    "\n",
    "s1=s.head(30).to_frame(name='sp500')\n",
    "s2=s1.head(20)\n",
    "s3=s1.tail(15)\n",
    "s4=pd.concat([s2,s3])\n",
    "s4=s4[~s4.index.duplicated(keep='first')]\n",
    "s4.equals(s1)"
   ]
  },
  {
   "cell_type": "code",
   "execution_count": 23,
   "metadata": {},
   "outputs": [],
   "source": [
    "s3.columns=['sp']"
   ]
  },
  {
   "cell_type": "code",
   "execution_count": 28,
   "metadata": {},
   "outputs": [
    {
     "data": {
      "text/html": [
       "<div>\n",
       "<style scoped>\n",
       "    .dataframe tbody tr th:only-of-type {\n",
       "        vertical-align: middle;\n",
       "    }\n",
       "\n",
       "    .dataframe tbody tr th {\n",
       "        vertical-align: top;\n",
       "    }\n",
       "\n",
       "    .dataframe thead th {\n",
       "        text-align: right;\n",
       "    }\n",
       "</style>\n",
       "<table border=\"1\" class=\"dataframe\">\n",
       "  <thead>\n",
       "    <tr style=\"text-align: right;\">\n",
       "      <th></th>\n",
       "      <th>sp500</th>\n",
       "      <th>sp</th>\n",
       "    </tr>\n",
       "  </thead>\n",
       "  <tbody>\n",
       "    <tr>\n",
       "      <th>2008-12-29</th>\n",
       "      <td>869.42</td>\n",
       "      <td>NaN</td>\n",
       "    </tr>\n",
       "    <tr>\n",
       "      <th>2008-12-30</th>\n",
       "      <td>890.64</td>\n",
       "      <td>NaN</td>\n",
       "    </tr>\n",
       "    <tr>\n",
       "      <th>2008-12-31</th>\n",
       "      <td>903.25</td>\n",
       "      <td>NaN</td>\n",
       "    </tr>\n",
       "    <tr>\n",
       "      <th>2009-01-01</th>\n",
       "      <td>NaN</td>\n",
       "      <td>NaN</td>\n",
       "    </tr>\n",
       "    <tr>\n",
       "      <th>2009-01-02</th>\n",
       "      <td>931.80</td>\n",
       "      <td>NaN</td>\n",
       "    </tr>\n",
       "    <tr>\n",
       "      <th>2009-01-05</th>\n",
       "      <td>927.45</td>\n",
       "      <td>NaN</td>\n",
       "    </tr>\n",
       "    <tr>\n",
       "      <th>2009-01-06</th>\n",
       "      <td>934.70</td>\n",
       "      <td>NaN</td>\n",
       "    </tr>\n",
       "    <tr>\n",
       "      <th>2009-01-07</th>\n",
       "      <td>906.65</td>\n",
       "      <td>NaN</td>\n",
       "    </tr>\n",
       "    <tr>\n",
       "      <th>2009-01-08</th>\n",
       "      <td>909.73</td>\n",
       "      <td>NaN</td>\n",
       "    </tr>\n",
       "    <tr>\n",
       "      <th>2009-01-09</th>\n",
       "      <td>890.35</td>\n",
       "      <td>NaN</td>\n",
       "    </tr>\n",
       "    <tr>\n",
       "      <th>2009-01-12</th>\n",
       "      <td>870.26</td>\n",
       "      <td>NaN</td>\n",
       "    </tr>\n",
       "    <tr>\n",
       "      <th>2009-01-13</th>\n",
       "      <td>871.79</td>\n",
       "      <td>NaN</td>\n",
       "    </tr>\n",
       "    <tr>\n",
       "      <th>2009-01-14</th>\n",
       "      <td>842.62</td>\n",
       "      <td>NaN</td>\n",
       "    </tr>\n",
       "    <tr>\n",
       "      <th>2009-01-15</th>\n",
       "      <td>843.74</td>\n",
       "      <td>NaN</td>\n",
       "    </tr>\n",
       "    <tr>\n",
       "      <th>2009-01-16</th>\n",
       "      <td>850.12</td>\n",
       "      <td>NaN</td>\n",
       "    </tr>\n",
       "    <tr>\n",
       "      <th>2009-01-19</th>\n",
       "      <td>NaN</td>\n",
       "      <td>NaN</td>\n",
       "    </tr>\n",
       "    <tr>\n",
       "      <th>2009-01-20</th>\n",
       "      <td>805.22</td>\n",
       "      <td>805.22</td>\n",
       "    </tr>\n",
       "    <tr>\n",
       "      <th>2009-01-21</th>\n",
       "      <td>840.24</td>\n",
       "      <td>840.24</td>\n",
       "    </tr>\n",
       "    <tr>\n",
       "      <th>2009-01-22</th>\n",
       "      <td>827.50</td>\n",
       "      <td>827.50</td>\n",
       "    </tr>\n",
       "    <tr>\n",
       "      <th>2009-01-23</th>\n",
       "      <td>831.95</td>\n",
       "      <td>831.95</td>\n",
       "    </tr>\n",
       "    <tr>\n",
       "      <th>2009-01-26</th>\n",
       "      <td>NaN</td>\n",
       "      <td>836.57</td>\n",
       "    </tr>\n",
       "    <tr>\n",
       "      <th>2009-01-27</th>\n",
       "      <td>NaN</td>\n",
       "      <td>845.71</td>\n",
       "    </tr>\n",
       "    <tr>\n",
       "      <th>2009-01-28</th>\n",
       "      <td>NaN</td>\n",
       "      <td>874.09</td>\n",
       "    </tr>\n",
       "    <tr>\n",
       "      <th>2009-01-29</th>\n",
       "      <td>NaN</td>\n",
       "      <td>845.14</td>\n",
       "    </tr>\n",
       "    <tr>\n",
       "      <th>2009-01-30</th>\n",
       "      <td>NaN</td>\n",
       "      <td>825.88</td>\n",
       "    </tr>\n",
       "    <tr>\n",
       "      <th>2009-02-02</th>\n",
       "      <td>NaN</td>\n",
       "      <td>825.44</td>\n",
       "    </tr>\n",
       "    <tr>\n",
       "      <th>2009-02-03</th>\n",
       "      <td>NaN</td>\n",
       "      <td>838.51</td>\n",
       "    </tr>\n",
       "    <tr>\n",
       "      <th>2009-02-04</th>\n",
       "      <td>NaN</td>\n",
       "      <td>832.23</td>\n",
       "    </tr>\n",
       "    <tr>\n",
       "      <th>2009-02-05</th>\n",
       "      <td>NaN</td>\n",
       "      <td>845.85</td>\n",
       "    </tr>\n",
       "    <tr>\n",
       "      <th>2009-02-06</th>\n",
       "      <td>NaN</td>\n",
       "      <td>868.60</td>\n",
       "    </tr>\n",
       "  </tbody>\n",
       "</table>\n",
       "</div>"
      ],
      "text/plain": [
       "             sp500      sp\n",
       "2008-12-29  869.42     NaN\n",
       "2008-12-30  890.64     NaN\n",
       "2008-12-31  903.25     NaN\n",
       "2009-01-01     NaN     NaN\n",
       "2009-01-02  931.80     NaN\n",
       "2009-01-05  927.45     NaN\n",
       "2009-01-06  934.70     NaN\n",
       "2009-01-07  906.65     NaN\n",
       "2009-01-08  909.73     NaN\n",
       "2009-01-09  890.35     NaN\n",
       "2009-01-12  870.26     NaN\n",
       "2009-01-13  871.79     NaN\n",
       "2009-01-14  842.62     NaN\n",
       "2009-01-15  843.74     NaN\n",
       "2009-01-16  850.12     NaN\n",
       "2009-01-19     NaN     NaN\n",
       "2009-01-20  805.22  805.22\n",
       "2009-01-21  840.24  840.24\n",
       "2009-01-22  827.50  827.50\n",
       "2009-01-23  831.95  831.95\n",
       "2009-01-26     NaN  836.57\n",
       "2009-01-27     NaN  845.71\n",
       "2009-01-28     NaN  874.09\n",
       "2009-01-29     NaN  845.14\n",
       "2009-01-30     NaN  825.88\n",
       "2009-02-02     NaN  825.44\n",
       "2009-02-03     NaN  838.51\n",
       "2009-02-04     NaN  832.23\n",
       "2009-02-05     NaN  845.85\n",
       "2009-02-06     NaN  868.60"
      ]
     },
     "execution_count": 28,
     "metadata": {},
     "output_type": "execute_result"
    }
   ],
   "source": [
    "s5=pd.merge(s2,s3, how='outer', left_index=True, right_index=True)\n",
    "s5"
   ]
  },
  {
   "cell_type": "code",
   "execution_count": null,
   "metadata": {},
   "outputs": [],
   "source": []
  }
 ],
 "metadata": {
  "kernelspec": {
   "display_name": "Python 3",
   "language": "python",
   "name": "python3"
  },
  "language_info": {
   "codemirror_mode": {
    "name": "ipython",
    "version": 3
   },
   "file_extension": ".py",
   "mimetype": "text/x-python",
   "name": "python",
   "nbconvert_exporter": "python",
   "pygments_lexer": "ipython3",
   "version": "3.6.7"
  }
 },
 "nbformat": 4,
 "nbformat_minor": 2
}
