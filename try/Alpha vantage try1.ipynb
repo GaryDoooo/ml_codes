{
 "cells": [
  {
   "cell_type": "raw",
   "metadata": {},
   "source": [
    "https://www.quora.com/Using-Python-whats-the-best-way-to-get-stock-data\n"
   ]
  },
  {
   "cell_type": "code",
   "execution_count": 1,
   "metadata": {},
   "outputs": [
    {
     "name": "stdout",
     "output_type": "stream",
     "text": [
      "\u001b[33mThe directory '/home/du/.cache/pip/http' or its parent directory is not owned by the current user and the cache has been disabled. Please check the permissions and owner of that directory. If executing pip with sudo, you may want sudo's -H flag.\u001b[0m\n",
      "\u001b[33mThe directory '/home/du/.cache/pip' or its parent directory is not owned by the current user and caching wheels has been disabled. check the permissions and owner of that directory. If executing pip with sudo, you may want sudo's -H flag.\u001b[0m\n",
      "Collecting alpha_vantage\n",
      "  Downloading https://files.pythonhosted.org/packages/7a/6c/81c7f1c58064cb2ce808edc6c4cdb3241f70bf8cd158289540cdf9fe0204/alpha_vantage-2.1.0.tar.gz\n",
      "Requirement already satisfied: requests in /usr/local/lib/python3.6/dist-packages (from alpha_vantage) (2.21.0)\n",
      "Requirement already satisfied: idna<2.9,>=2.5 in /usr/lib/python3/dist-packages (from requests->alpha_vantage) (2.6)\n",
      "Requirement already satisfied: urllib3<1.25,>=1.21.1 in /usr/local/lib/python3.6/dist-packages (from requests->alpha_vantage) (1.24.1)\n",
      "Requirement already satisfied: certifi>=2017.4.17 in /usr/local/lib/python3.6/dist-packages (from requests->alpha_vantage) (2018.11.29)\n",
      "Requirement already satisfied: chardet<3.1.0,>=3.0.2 in /usr/local/lib/python3.6/dist-packages (from requests->alpha_vantage) (3.0.4)\n",
      "Installing collected packages: alpha-vantage\n",
      "  Running setup.py install for alpha-vantage ... \u001b[?25ldone\n",
      "\u001b[?25hSuccessfully installed alpha-vantage-2.1.0\n"
     ]
    }
   ],
   "source": [
    "!sudo pip install alpha_vantage"
   ]
  },
  {
   "cell_type": "code",
   "execution_count": 14,
   "metadata": {},
   "outputs": [
    {
     "name": "stdout",
     "output_type": "stream",
     "text": [
      "            1. open  2. high   3. low  4. close   5. volume\n",
      "date                                                       \n",
      "2020-02-28  20.1000    20.55  18.6500     18.84  21828080.0\n",
      "2020-02-27  16.9399    18.07  16.5200     18.06  22025868.0\n",
      "2020-02-26  15.3900    16.13  14.8402     15.54  12361087.0\n",
      "2020-02-25  14.0001    16.32  13.9200     15.91  15311670.0\n",
      "2020-02-24  14.1000    14.57  13.4400     14.51  12908486.0\n",
      "            1. open  2. high  3. low  4. close  5. volume\n",
      "date                                                     \n",
      "2011-01-10    79.64    80.87   77.76   77.8800    70182.0\n",
      "2011-01-07    77.24    80.01   76.18   78.0400    42977.0\n",
      "2011-01-06    77.44    78.68   76.87   77.8800    83300.0\n",
      "2011-01-05    80.05    80.10   77.18   77.5499    74240.0\n",
      "2011-01-04    79.14    81.35   79.14   79.2300   112200.0\n"
     ]
    }
   ],
   "source": [
    "from alpha_vantage.timeseries import TimeSeries\n",
    "\n",
    "ts = TimeSeries(key='KDXMV58WTWWABHKB', output_format='pandas',indexing_type='date')\n",
    "data, meta_data = ts.get_daily(symbol='VIXY', outputsize='full')\n",
    "print(data.head())\n",
    "print(data.tail())"
   ]
  },
  {
   "cell_type": "raw",
   "metadata": {},
   "source": [
    "For the time interval between two consecutive data points in the time series, the following values are supported: 1min, 5min, 15min, 30min, 60min\n",
    "\n",
    "By default, outputsize=compact. Strings compact and full are accepted with the following specifications: compact returns only the latest 100 data points in the intraday time series; full returns the full-length intraday time series. The \"compact\" option is recommended if you would like to reduce the data size of each API call."
   ]
  },
  {
   "cell_type": "code",
   "execution_count": 3,
   "metadata": {},
   "outputs": [
    {
     "name": "stdout",
     "output_type": "stream",
     "text": [
      "                     1. open  2. high    3. low  4. close  5. volume\n",
      "date                                                                \n",
      "2018-12-19 15:56:00   103.71   103.88  103.6800   103.740   319040.0\n",
      "2018-12-19 15:57:00   103.75   103.85  103.6200   103.835   328733.0\n",
      "2018-12-19 15:58:00   103.83   104.29  103.8200   104.210   955988.0\n",
      "2018-12-19 15:59:00   104.22   104.23  103.9536   104.015   834398.0\n",
      "2018-12-19 16:00:00   104.00   104.27  103.6600   103.680  1769903.0\n"
     ]
    }
   ],
   "source": [
    "print(data.tail())"
   ]
  },
  {
   "cell_type": "code",
   "execution_count": 5,
   "metadata": {},
   "outputs": [
    {
     "ename": "KeyError",
     "evalue": "'Time Series (Daily)'",
     "output_type": "error",
     "traceback": [
      "\u001b[0;31m---------------------------------------------------------------------------\u001b[0m",
      "\u001b[0;31mKeyError\u001b[0m                                  Traceback (most recent call last)",
      "\u001b[0;32m<ipython-input-5-0ac431ed6bb9>\u001b[0m in \u001b[0;36m<module>\u001b[0;34m\u001b[0m\n\u001b[0;32m----> 1\u001b[0;31m \u001b[0mdata\u001b[0m\u001b[0;34m,\u001b[0m \u001b[0mmeta_data\u001b[0m \u001b[0;34m=\u001b[0m \u001b[0mts\u001b[0m\u001b[0;34m.\u001b[0m\u001b[0mget_daily_adjusted\u001b[0m\u001b[0;34m(\u001b[0m\u001b[0msymbol\u001b[0m\u001b[0;34m=\u001b[0m\u001b[0;34m'BDI'\u001b[0m\u001b[0;34m,\u001b[0m \u001b[0moutputsize\u001b[0m\u001b[0;34m=\u001b[0m\u001b[0;34m'compact'\u001b[0m\u001b[0;34m)\u001b[0m\u001b[0;34m\u001b[0m\u001b[0;34m\u001b[0m\u001b[0m\n\u001b[0m\u001b[1;32m      2\u001b[0m \u001b[0mprint\u001b[0m\u001b[0;34m(\u001b[0m\u001b[0mdata\u001b[0m\u001b[0;34m.\u001b[0m\u001b[0mhead\u001b[0m\u001b[0;34m(\u001b[0m\u001b[0;34m)\u001b[0m\u001b[0;34m)\u001b[0m\u001b[0;34m\u001b[0m\u001b[0;34m\u001b[0m\u001b[0m\n",
      "\u001b[0;32m/usr/local/lib/python3.6/dist-packages/alpha_vantage/alphavantage.py\u001b[0m in \u001b[0;36m_format_wrapper\u001b[0;34m(self, *args, **kwargs)\u001b[0m\n\u001b[1;32m    176\u001b[0m             \u001b[0;32mif\u001b[0m \u001b[0;34m'json'\u001b[0m \u001b[0;32min\u001b[0m \u001b[0mself\u001b[0m\u001b[0;34m.\u001b[0m\u001b[0moutput_format\u001b[0m\u001b[0;34m.\u001b[0m\u001b[0mlower\u001b[0m\u001b[0;34m(\u001b[0m\u001b[0;34m)\u001b[0m \u001b[0;32mor\u001b[0m \u001b[0;34m'pandas'\u001b[0m\u001b[0;31m \u001b[0m\u001b[0;31m\\\u001b[0m\u001b[0;34m\u001b[0m\u001b[0;34m\u001b[0m\u001b[0m\n\u001b[1;32m    177\u001b[0m                     \u001b[0;32min\u001b[0m \u001b[0mself\u001b[0m\u001b[0;34m.\u001b[0m\u001b[0moutput_format\u001b[0m\u001b[0;34m.\u001b[0m\u001b[0mlower\u001b[0m\u001b[0;34m(\u001b[0m\u001b[0;34m)\u001b[0m\u001b[0;34m:\u001b[0m\u001b[0;34m\u001b[0m\u001b[0;34m\u001b[0m\u001b[0m\n\u001b[0;32m--> 178\u001b[0;31m                 \u001b[0mdata\u001b[0m \u001b[0;34m=\u001b[0m \u001b[0mcall_response\u001b[0m\u001b[0;34m[\u001b[0m\u001b[0mdata_key\u001b[0m\u001b[0;34m]\u001b[0m\u001b[0;34m\u001b[0m\u001b[0;34m\u001b[0m\u001b[0m\n\u001b[0m\u001b[1;32m    179\u001b[0m                 \u001b[0;32mif\u001b[0m \u001b[0mmeta_data_key\u001b[0m \u001b[0;32mis\u001b[0m \u001b[0;32mnot\u001b[0m \u001b[0;32mNone\u001b[0m\u001b[0;34m:\u001b[0m\u001b[0;34m\u001b[0m\u001b[0;34m\u001b[0m\u001b[0m\n\u001b[1;32m    180\u001b[0m                     \u001b[0mmeta_data\u001b[0m \u001b[0;34m=\u001b[0m \u001b[0mcall_response\u001b[0m\u001b[0;34m[\u001b[0m\u001b[0mmeta_data_key\u001b[0m\u001b[0;34m]\u001b[0m\u001b[0;34m\u001b[0m\u001b[0;34m\u001b[0m\u001b[0m\n",
      "\u001b[0;31mKeyError\u001b[0m: 'Time Series (Daily)'"
     ]
    }
   ],
   "source": [
    "data, meta_data = ts.get_daily_adjusted(symbol='BDI', outputsize='compact')\n",
    "print(data.head())"
   ]
  },
  {
   "cell_type": "raw",
   "metadata": {},
   "source": [
    "CSV download long time data, https://fred.stlouisfed.org/series/T10Y2Y\n",
    "\n",
    "\n",
    "PowerShares QQQ Trust, Series 1 NASDAQ: QQQ\n",
    "S&P 500 (^GSPC)\n",
    "CBOE Volatility Index (^VIX)\n",
    "Dow Jones Industrial Average (^DJI)\n",
    "CBOE Interest Rate 10 Year T No (^TNX)"
   ]
  },
  {
   "cell_type": "code",
   "execution_count": 6,
   "metadata": {},
   "outputs": [
    {
     "name": "stdout",
     "output_type": "stream",
     "text": [
      "                     1. open  2. high   3. low  4. close  5. volume\n",
      "date                                                               \n",
      "2018-12-27 10:25:00  38.7185  38.7185  38.7185   38.7185     1258.0\n",
      "2018-12-27 10:55:00  38.7924  38.7924  38.7513   38.7513      878.0\n",
      "2018-12-27 11:00:00  38.6979  38.6979  38.6979   38.6979      486.0\n",
      "2018-12-27 11:20:00  38.6722  38.6722  38.6722   38.6722      944.0\n",
      "2018-12-27 11:25:00  38.7081  38.7081  38.7081   38.7081      201.0\n"
     ]
    },
    {
     "data": {
      "text/plain": [
       "(100, 5)"
      ]
     },
     "execution_count": 6,
     "metadata": {},
     "output_type": "execute_result"
    }
   ],
   "source": [
    "data, meta_data = ts.get_intraday(symbol='PEJ',interval='5min', outputsize='compact')\n",
    "print(data.head())\n",
    "data.shape"
   ]
  },
  {
   "cell_type": "markdown",
   "metadata": {},
   "source": [
    "Reference at \n",
    "https://ntguardian.wordpress.com/2018/07/17/stock-data-analysis-python-v2/"
   ]
  },
  {
   "cell_type": "code",
   "execution_count": 7,
   "metadata": {},
   "outputs": [
    {
     "name": "stdout",
     "output_type": "stream",
     "text": [
      "Populating the interactive namespace from numpy and matplotlib\n"
     ]
    },
    {
     "data": {
      "text/plain": [
       "<matplotlib.axes._subplots.AxesSubplot at 0x7f8aac353a90>"
      ]
     },
     "execution_count": 7,
     "metadata": {},
     "output_type": "execute_result"
    },
    {
     "data": {
      "image/png": "[encoded data removed]",
      "text/plain": [
       "<Figure size 1080x648 with 1 Axes>"
      ]
     },
     "metadata": {
      "needs_background": "light"
     },
     "output_type": "display_data"
    }
   ],
   "source": [
    "import pandas as pd\n",
    "import datetime\n",
    "import matplotlib.pyplot as plt   # Import matplotlib\n",
    "# This line is necessary for the plot to appear in a Jupyter notebook\n",
    "%matplotlib inline\n",
    "# Control the default size of figures in this Jupyter notebook\n",
    "%pylab inline\n",
    "pylab.rcParams['figure.figsize'] = (15, 9)   # Change the size of plots\n",
    "\n",
    "data.columns=pd.Index(['open','high','low','close','volume'])\n",
    "#print(data)\n",
    "data[\"close\"].plot(grid = True) # Plot the adjusted closing price"
   ]
  },
  {
   "cell_type": "code",
   "execution_count": 105,
   "metadata": {},
   "outputs": [
    {
     "name": "stdout",
     "output_type": "stream",
     "text": [
      "\u001b[33mThe directory '/home/du/.cache/pip/http' or its parent directory is not owned by the current user and the cache has been disabled. Please check the permissions and owner of that directory. If executing pip with sudo, you may want sudo's -H flag.\u001b[0m\n",
      "\u001b[33mThe directory '/home/du/.cache/pip' or its parent directory is not owned by the current user and caching wheels has been disabled. check the permissions and owner of that directory. If executing pip with sudo, you may want sudo's -H flag.\u001b[0m\n",
      "Requirement already satisfied: mpl_finance in /usr/local/lib/python3.6/dist-packages (0.10.0)\n",
      "Requirement already satisfied: matplotlib in /usr/local/lib/python3.6/dist-packages (from mpl_finance) (3.0.2)\n",
      "Requirement already satisfied: cycler>=0.10 in /usr/local/lib/python3.6/dist-packages (from matplotlib->mpl_finance) (0.10.0)\n",
      "Requirement already satisfied: pyparsing!=2.0.4,!=2.1.2,!=2.1.6,>=2.0.1 in /usr/local/lib/python3.6/dist-packages (from matplotlib->mpl_finance) (2.3.0)\n",
      "Requirement already satisfied: python-dateutil>=2.1 in /usr/local/lib/python3.6/dist-packages (from matplotlib->mpl_finance) (2.7.5)\n",
      "Requirement already satisfied: numpy>=1.10.0 in /usr/local/lib/python3.6/dist-packages (from matplotlib->mpl_finance) (1.15.4)\n",
      "Requirement already satisfied: kiwisolver>=1.0.1 in /usr/local/lib/python3.6/dist-packages (from matplotlib->mpl_finance) (1.0.1)\n",
      "Requirement already satisfied: six in /usr/lib/python3/dist-packages (from cycler>=0.10->matplotlib->mpl_finance) (1.11.0)\n",
      "Requirement already satisfied: setuptools in /usr/lib/python3/dist-packages (from kiwisolver>=1.0.1->matplotlib->mpl_finance) (39.0.1)\n"
     ]
    }
   ],
   "source": [
    "from matplotlib.dates import DateFormatter, WeekdayLocator,\\\n",
    "    DayLocator, MONDAY\n",
    "!sudo pip install mpl_finance\n",
    "from mpl_finance import candlestick_ohlc"
   ]
  },
  {
   "cell_type": "code",
   "execution_count": 112,
   "metadata": {},
   "outputs": [],
   "source": [
    "mondays = WeekdayLocator(MONDAY)\n",
    "data['week']=pd.to_datetime(data.index).map(lambda x:x.week)\n",
    "data['day']=pd.to_datetime(data.index).map(lambda x:x.day)\n",
    "data['year']=pd.to_datetime(data.index).map(lambda x:x.year)\n",
    "data['month']=pd.to_datetime(data.index).map(lambda x:x.month)\n",
    "data['weekday']=pd.to_datetime(data.index).map(lambda x:x.weekday) \n",
    "# The day of the week represented by the date. Monday == 0 … Sunday == 6\n",
    "\n"
   ]
  },
  {
   "cell_type": "code",
   "execution_count": 113,
   "metadata": {},
   "outputs": [
    {
     "name": "stdout",
     "output_type": "stream",
     "text": [
      "                        open   high    low   close     volume  week  day  \\\n",
      "date                                                                       \n",
      "2018-12-24 12:57:00  94.7300  94.73  94.50  94.620   375620.0    52   24   \n",
      "2018-12-24 12:58:00  94.6015  94.62  94.43  94.471   232166.0    52   24   \n",
      "2018-12-24 12:59:00  94.4600  94.59  94.42  94.420   446950.0    52   24   \n",
      "2018-12-24 13:00:00  94.4200  94.47  94.00  94.040  1110001.0    52   24   \n",
      "2018-12-24 13:01:00  94.1300  94.13  94.13  94.130  3576304.0    52   24   \n",
      "\n",
      "                     year  weekday  month  \n",
      "date                                       \n",
      "2018-12-24 12:57:00  2018        0     12  \n",
      "2018-12-24 12:58:00  2018        0     12  \n",
      "2018-12-24 12:59:00  2018        0     12  \n",
      "2018-12-24 13:00:00  2018        0     12  \n",
      "2018-12-24 13:01:00  2018        0     12  \n"
     ]
    }
   ],
   "source": [
    "print(data.tail())"
   ]
  },
  {
   "cell_type": "code",
   "execution_count": 116,
   "metadata": {},
   "outputs": [
    {
     "name": "stdout",
     "output_type": "stream",
     "text": [
      "51                          open      high       low     close      volume  week  \\\n",
      "date                                                                            \n",
      "2018-12-18 09:31:00  103.7800  104.0800  103.7300  103.8200    798528.0    51   \n",
      "2018-12-18 09:32:00  103.8202  103.9400  103.7300  103.9200    132410.0    51   \n",
      "2018-12-18 09:33:00  103.9200  104.0000  103.7400  103.7600    150255.0    51   \n",
      "2018-12-18 09:34:00  103.8700  103.9200  103.6800  103.7100    149072.0    51   \n",
      "2018-12-18 09:35:00  103.7700  103.8000  103.5000  103.7350    155960.0    51   \n",
      "2018-12-18 09:36:00  103.7900  103.8800  103.5400  103.5400     94061.0    51   \n",
      "2018-12-18 09:37:00  103.5500  103.5900  103.3400  103.4500    128081.0    51   \n",
      "2018-12-18 09:38:00  103.4150  103.5300  103.4000  103.4000     85774.0    51   \n",
      "2018-12-18 09:39:00  103.3700  103.3700  102.9500  102.9900    164514.0    51   \n",
      "2018-12-18 09:40:00  102.9400  103.1000  102.9250  103.0850    144217.0    51   \n",
      "2018-12-18 09:41:00  103.0700  103.1500  103.0700  103.1300    141586.0    51   \n",
      "2018-12-18 09:42:00  103.0800  103.1200  102.9900  103.0200    143736.0    51   \n",
      "2018-12-18 09:43:00  103.0300  103.3100  103.0300  103.3100    115438.0    51   \n",
      "2018-12-18 09:44:00  103.3200  103.4700  103.3200  103.4600    124834.0    51   \n",
      "2018-12-18 09:45:00  103.4600  103.5300  103.3600  103.4400    119278.0    51   \n",
      "2018-12-18 09:46:00  103.4950  103.6800  103.4800  103.6700    183148.0    51   \n",
      "2018-12-18 09:47:00  103.7100  103.7400  103.5200  103.5200    104886.0    51   \n",
      "2018-12-18 09:48:00  103.5400  103.6300  103.4800  103.4800     83460.0    51   \n",
      "2018-12-18 09:49:00  103.4700  103.5300  103.4000  103.5300    137625.0    51   \n",
      "2018-12-18 09:50:00  103.5250  103.5400  103.4100  103.4875     92232.0    51   \n",
      "2018-12-18 09:51:00  103.4300  103.4300  103.2830  103.4000     83950.0    51   \n",
      "2018-12-18 09:52:00  103.4000  103.4000  103.3200  103.3800     84584.0    51   \n",
      "2018-12-18 09:53:00  103.4000  103.4896  103.4000  103.4600     78649.0    51   \n",
      "2018-12-18 09:54:00  103.4600  103.5500  103.4257  103.5490    100738.0    51   \n",
      "2018-12-18 09:55:00  103.5500  103.5600  103.4100  103.5000     94651.0    51   \n",
      "2018-12-18 09:56:00  103.5400  103.6300  103.4400  103.5000     84220.0    51   \n",
      "2018-12-18 09:57:00  103.5100  103.5348  103.4500  103.5200    115377.0    51   \n",
      "2018-12-18 09:58:00  103.5250  103.5300  103.4400  103.4500     60873.0    51   \n",
      "2018-12-18 09:59:00  103.4400  103.4600  103.4400  103.4558     65090.0    51   \n",
      "2018-12-18 10:00:00  103.4700  103.5200  103.4450  103.5000     68484.0    51   \n",
      "...                       ...       ...       ...       ...         ...   ...   \n",
      "2018-12-21 15:31:00   97.8500   98.1600   97.8500   98.1400    215811.0    51   \n",
      "2018-12-21 15:32:00   98.1500   98.3500   98.1100   98.1600    309148.0    51   \n",
      "2018-12-21 15:33:00   98.1500   98.3850   98.1400   98.3100    210567.0    51   \n",
      "2018-12-21 15:34:00   98.3400   98.3400   98.2200   98.2700    168959.0    51   \n",
      "2018-12-21 15:35:00   98.2750   98.4300   98.1800   98.3400    291534.0    51   \n",
      "2018-12-21 15:36:00   98.3400   98.3500   97.9200   97.9300    259349.0    51   \n",
      "2018-12-21 15:37:00   97.9300   97.9350   97.6900   97.7100    313346.0    51   \n",
      "2018-12-21 15:38:00   97.7000   97.7800   97.6200   97.7200    256330.0    51   \n",
      "2018-12-21 15:39:00   97.7100   97.8700   97.6300   97.6300    202077.0    51   \n",
      "2018-12-21 15:40:00   97.6200   97.7300   97.5600   97.5900    297774.0    51   \n",
      "2018-12-21 15:41:00   97.5650   97.6900   97.4700   97.6800    288260.0    51   \n",
      "2018-12-21 15:42:00   97.6900   97.9300   97.6400   97.9200    220151.0    51   \n",
      "2018-12-21 15:43:00   97.8900   97.9400   97.7453   97.8500    215313.0    51   \n",
      "2018-12-21 15:44:00   97.8800   97.9800   97.8500   97.9500    174926.0    51   \n",
      "2018-12-21 15:45:00   97.9600   98.0300   97.7600   97.9900    358836.0    51   \n",
      "2018-12-21 15:46:00   98.0000   98.3000   98.0000   98.3000    276058.0    51   \n",
      "2018-12-21 15:47:00   98.2900   98.2900   97.9600   98.1100    347577.0    51   \n",
      "2018-12-21 15:48:00   98.1200   98.2750   98.0700   98.1900    277977.0    51   \n",
      "2018-12-21 15:49:00   98.1800   98.2200   98.0900   98.1600    255098.0    51   \n",
      "2018-12-21 15:50:00   98.1600   98.1600   97.9700   98.0200    315306.0    51   \n",
      "2018-12-21 15:51:00   98.0100   98.0400   97.8683   97.8800    297150.0    51   \n",
      "2018-12-21 15:52:00   97.8800   97.8900   97.5000   97.6700    507104.0    51   \n",
      "2018-12-21 15:53:00   97.6300   98.0200   97.5600   97.8900    398648.0    51   \n",
      "2018-12-21 15:54:00   97.9100   97.9500   97.8050   97.9200    322662.0    51   \n",
      "2018-12-21 15:55:00   97.9300   98.0500   97.8900   97.9100    267085.0    51   \n",
      "2018-12-21 15:56:00   97.9200   98.1360   97.8400   98.0100    807250.0    51   \n",
      "2018-12-21 15:57:00   98.0200   98.2200   97.9850   98.2100    447802.0    51   \n",
      "2018-12-21 15:58:00   98.2100   98.3800   98.2000   98.2700    553979.0    51   \n",
      "2018-12-21 15:59:00   98.2700   98.3000   98.1500   98.2400    558481.0    51   \n",
      "2018-12-21 16:00:00   98.0700   98.0700   98.0700   98.0700  31978919.0    51   \n",
      "\n",
      "                     day  year  weekday  month  \n",
      "date                                            \n",
      "2018-12-18 09:31:00   18  2018        1     12  \n",
      "2018-12-18 09:32:00   18  2018        1     12  \n",
      "2018-12-18 09:33:00   18  2018        1     12  \n",
      "2018-12-18 09:34:00   18  2018        1     12  \n",
      "2018-12-18 09:35:00   18  2018        1     12  \n",
      "2018-12-18 09:36:00   18  2018        1     12  \n",
      "2018-12-18 09:37:00   18  2018        1     12  \n",
      "2018-12-18 09:38:00   18  2018        1     12  \n",
      "2018-12-18 09:39:00   18  2018        1     12  \n",
      "2018-12-18 09:40:00   18  2018        1     12  \n",
      "2018-12-18 09:41:00   18  2018        1     12  \n",
      "2018-12-18 09:42:00   18  2018        1     12  \n",
      "2018-12-18 09:43:00   18  2018        1     12  \n",
      "2018-12-18 09:44:00   18  2018        1     12  \n",
      "2018-12-18 09:45:00   18  2018        1     12  \n",
      "2018-12-18 09:46:00   18  2018        1     12  \n",
      "2018-12-18 09:47:00   18  2018        1     12  \n",
      "2018-12-18 09:48:00   18  2018        1     12  \n",
      "2018-12-18 09:49:00   18  2018        1     12  \n",
      "2018-12-18 09:50:00   18  2018        1     12  \n",
      "2018-12-18 09:51:00   18  2018        1     12  \n",
      "2018-12-18 09:52:00   18  2018        1     12  \n",
      "2018-12-18 09:53:00   18  2018        1     12  \n",
      "2018-12-18 09:54:00   18  2018        1     12  \n",
      "2018-12-18 09:55:00   18  2018        1     12  \n",
      "2018-12-18 09:56:00   18  2018        1     12  \n",
      "2018-12-18 09:57:00   18  2018        1     12  \n",
      "2018-12-18 09:58:00   18  2018        1     12  \n",
      "2018-12-18 09:59:00   18  2018        1     12  \n",
      "2018-12-18 10:00:00   18  2018        1     12  \n",
      "...                  ...   ...      ...    ...  \n",
      "2018-12-21 15:31:00   21  2018        4     12  \n",
      "2018-12-21 15:32:00   21  2018        4     12  \n",
      "2018-12-21 15:33:00   21  2018        4     12  \n",
      "2018-12-21 15:34:00   21  2018        4     12  \n",
      "2018-12-21 15:35:00   21  2018        4     12  \n",
      "2018-12-21 15:36:00   21  2018        4     12  \n",
      "2018-12-21 15:37:00   21  2018        4     12  \n",
      "2018-12-21 15:38:00   21  2018        4     12  \n",
      "2018-12-21 15:39:00   21  2018        4     12  \n",
      "2018-12-21 15:40:00   21  2018        4     12  \n",
      "2018-12-21 15:41:00   21  2018        4     12  \n",
      "2018-12-21 15:42:00   21  2018        4     12  \n",
      "2018-12-21 15:43:00   21  2018        4     12  \n",
      "2018-12-21 15:44:00   21  2018        4     12  \n",
      "2018-12-21 15:45:00   21  2018        4     12  \n",
      "2018-12-21 15:46:00   21  2018        4     12  \n",
      "2018-12-21 15:47:00   21  2018        4     12  \n",
      "2018-12-21 15:48:00   21  2018        4     12  \n",
      "2018-12-21 15:49:00   21  2018        4     12  \n",
      "2018-12-21 15:50:00   21  2018        4     12  \n",
      "2018-12-21 15:51:00   21  2018        4     12  \n",
      "2018-12-21 15:52:00   21  2018        4     12  \n",
      "2018-12-21 15:53:00   21  2018        4     12  \n",
      "2018-12-21 15:54:00   21  2018        4     12  \n",
      "2018-12-21 15:55:00   21  2018        4     12  \n",
      "2018-12-21 15:56:00   21  2018        4     12  \n",
      "2018-12-21 15:57:00   21  2018        4     12  \n",
      "2018-12-21 15:58:00   21  2018        4     12  \n",
      "2018-12-21 15:59:00   21  2018        4     12  \n",
      "2018-12-21 16:00:00   21  2018        4     12  \n",
      "\n",
      "[1560 rows x 10 columns]\n",
      "52                         open     high      low    close     volume  week  day  \\\n",
      "date                                                                            \n",
      "2018-12-24 09:31:00  97.6900  97.7300  97.0700  97.7200  1117021.0    52   24   \n",
      "2018-12-24 09:32:00  97.7000  97.7900  97.5700  97.6900   192227.0    52   24   \n",
      "2018-12-24 09:33:00  97.6950  97.9600  97.6000  97.6700   305945.0    52   24   \n",
      "2018-12-24 09:34:00  97.6500  97.7100  97.4300  97.7100   217118.0    52   24   \n",
      "2018-12-24 09:35:00  97.7100  97.8500  97.6312  97.8200   278808.0    52   24   \n",
      "2018-12-24 09:36:00  97.8250  97.9100  97.0100  97.0100   386204.0    52   24   \n",
      "2018-12-24 09:37:00  97.0800  97.2300  96.8500  96.8500   258219.0    52   24   \n",
      "2018-12-24 09:38:00  96.8600  97.0190  96.6000  96.6700   370347.0    52   24   \n",
      "2018-12-24 09:39:00  96.6900  96.9200  96.6600  96.8100   212694.0    52   24   \n",
      "2018-12-24 09:40:00  96.8500  97.2100  96.8500  97.1700   211718.0    52   24   \n",
      "2018-12-24 09:41:00  97.1700  97.1800  96.8300  97.0700   202394.0    52   24   \n",
      "2018-12-24 09:42:00  97.0800  97.0800  96.6100  96.7500   224067.0    52   24   \n",
      "2018-12-24 09:43:00  96.7400  96.7400  95.4300  96.2200   770783.0    52   24   \n",
      "2018-12-24 09:44:00  96.1900  96.2200  95.8900  95.9300   320202.0    52   24   \n",
      "2018-12-24 09:45:00  95.9300  96.1700  95.8900  96.0900   296942.0    52   24   \n",
      "2018-12-24 09:46:00  96.0500  96.0500  95.7800  95.8200   162360.0    52   24   \n",
      "2018-12-24 09:47:00  95.8600  95.9500  95.7200  95.7700   227375.0    52   24   \n",
      "2018-12-24 09:48:00  95.7200  95.7200  94.6700  94.7000   582389.0    52   24   \n",
      "2018-12-24 09:49:00  94.6600  95.1000  94.5800  95.0210   580620.0    52   24   \n",
      "2018-12-24 09:50:00  95.0400  95.5400  95.0200  95.1900   314124.0    52   24   \n",
      "2018-12-24 09:51:00  95.1500  95.2900  94.9000  95.0601   281041.0    52   24   \n",
      "2018-12-24 09:52:00  95.0900  95.7100  95.0900  95.7000   302641.0    52   24   \n",
      "2018-12-24 09:53:00  95.7000  95.7600  95.0800  95.1000   253850.0    52   24   \n",
      "2018-12-24 09:54:00  95.0850  95.3100  95.0300  95.0900   211315.0    52   24   \n",
      "2018-12-24 09:55:00  95.0600  95.0700  94.7800  94.9000   275012.0    52   24   \n",
      "2018-12-24 09:56:00  94.8800  95.3600  94.6900  95.3000   267619.0    52   24   \n",
      "2018-12-24 09:57:00  95.2400  95.2400  94.9600  95.0700   173652.0    52   24   \n",
      "2018-12-24 09:58:00  95.0700  95.1500  94.8133  94.9100   210108.0    52   24   \n",
      "2018-12-24 09:59:00  94.9700  95.2500  94.9100  95.2400   188975.0    52   24   \n",
      "2018-12-24 10:00:00  95.2400  95.7200  95.2200  95.7100   210469.0    52   24   \n",
      "...                      ...      ...      ...      ...        ...   ...  ...   \n",
      "2018-12-24 12:32:00  95.4000  95.4500  95.3300  95.3500   135805.0    52   24   \n",
      "2018-12-24 12:33:00  95.3400  95.4000  95.1900  95.2500   130666.0    52   24   \n",
      "2018-12-24 12:34:00  95.2500  95.2750  95.0600  95.0800    75972.0    52   24   \n",
      "2018-12-24 12:35:00  95.0700  95.2900  95.0500  95.2900   145744.0    52   24   \n",
      "2018-12-24 12:36:00  95.2800  95.3600  95.1302  95.2600   116559.0    52   24   \n",
      "2018-12-24 12:37:00  95.2300  95.2300  95.0700  95.1000    73595.0    52   24   \n",
      "2018-12-24 12:38:00  95.0850  95.1800  95.0200  95.0600   113594.0    52   24   \n",
      "2018-12-24 12:39:00  95.0500  95.0600  94.9500  94.9500   115921.0    52   24   \n",
      "2018-12-24 12:40:00  94.9900  95.2700  94.9900  95.1000   147941.0    52   24   \n",
      "2018-12-24 12:41:00  95.1000  95.2100  94.9500  94.9700   192970.0    52   24   \n",
      "2018-12-24 12:42:00  94.9700  95.0300  94.9000  94.9183   152963.0    52   24   \n",
      "2018-12-24 12:43:00  94.9400  95.0300  94.8200  95.0300   128519.0    52   24   \n",
      "2018-12-24 12:44:00  95.0467  95.0600  94.8700  94.9600   110849.0    52   24   \n",
      "2018-12-24 12:45:00  94.9600  95.0700  94.9400  94.9800   108462.0    52   24   \n",
      "2018-12-24 12:46:00  94.9900  94.9900  94.7000  94.7700   219818.0    52   24   \n",
      "2018-12-24 12:47:00  94.7600  95.0100  94.7200  95.0100   150279.0    52   24   \n",
      "2018-12-24 12:48:00  95.0136  95.1000  94.9800  95.0100   136451.0    52   24   \n",
      "2018-12-24 12:49:00  95.0100  95.1300  94.9700  95.0900   190186.0    52   24   \n",
      "2018-12-24 12:50:00  95.0900  95.1000  95.0400  95.0500   121996.0    52   24   \n",
      "2018-12-24 12:51:00  95.0400  95.0865  94.9700  94.9800   126589.0    52   24   \n",
      "2018-12-24 12:52:00  94.9750  95.0700  94.8850  95.0550   192022.0    52   24   \n",
      "2018-12-24 12:53:00  95.0500  95.1000  95.0000  95.0000   120932.0    52   24   \n",
      "2018-12-24 12:54:00  95.0100  95.1200  95.0100  95.0200   152732.0    52   24   \n",
      "2018-12-24 12:55:00  95.0200  95.1200  94.9700  95.0900   225021.0    52   24   \n",
      "2018-12-24 12:56:00  94.9500  95.0500  94.6000  94.7400   318204.0    52   24   \n",
      "2018-12-24 12:57:00  94.7300  94.7300  94.5000  94.6200   375620.0    52   24   \n",
      "2018-12-24 12:58:00  94.6015  94.6200  94.4300  94.4710   232166.0    52   24   \n",
      "2018-12-24 12:59:00  94.4600  94.5900  94.4200  94.4200   446950.0    52   24   \n",
      "2018-12-24 13:00:00  94.4200  94.4700  94.0000  94.0400  1110001.0    52   24   \n",
      "2018-12-24 13:01:00  94.1300  94.1300  94.1300  94.1300  3576304.0    52   24   \n",
      "\n",
      "                     year  weekday  month  \n",
      "date                                       \n",
      "2018-12-24 09:31:00  2018        0     12  \n",
      "2018-12-24 09:32:00  2018        0     12  \n",
      "2018-12-24 09:33:00  2018        0     12  \n",
      "2018-12-24 09:34:00  2018        0     12  \n",
      "2018-12-24 09:35:00  2018        0     12  \n",
      "2018-12-24 09:36:00  2018        0     12  \n",
      "2018-12-24 09:37:00  2018        0     12  \n",
      "2018-12-24 09:38:00  2018        0     12  \n",
      "2018-12-24 09:39:00  2018        0     12  \n",
      "2018-12-24 09:40:00  2018        0     12  \n",
      "2018-12-24 09:41:00  2018        0     12  \n",
      "2018-12-24 09:42:00  2018        0     12  \n",
      "2018-12-24 09:43:00  2018        0     12  \n",
      "2018-12-24 09:44:00  2018        0     12  \n",
      "2018-12-24 09:45:00  2018        0     12  \n",
      "2018-12-24 09:46:00  2018        0     12  \n",
      "2018-12-24 09:47:00  2018        0     12  \n",
      "2018-12-24 09:48:00  2018        0     12  \n",
      "2018-12-24 09:49:00  2018        0     12  \n",
      "2018-12-24 09:50:00  2018        0     12  \n",
      "2018-12-24 09:51:00  2018        0     12  \n",
      "2018-12-24 09:52:00  2018        0     12  \n",
      "2018-12-24 09:53:00  2018        0     12  \n",
      "2018-12-24 09:54:00  2018        0     12  \n",
      "2018-12-24 09:55:00  2018        0     12  \n",
      "2018-12-24 09:56:00  2018        0     12  \n",
      "2018-12-24 09:57:00  2018        0     12  \n",
      "2018-12-24 09:58:00  2018        0     12  \n",
      "2018-12-24 09:59:00  2018        0     12  \n",
      "2018-12-24 10:00:00  2018        0     12  \n",
      "...                   ...      ...    ...  \n",
      "2018-12-24 12:32:00  2018        0     12  \n",
      "2018-12-24 12:33:00  2018        0     12  \n",
      "2018-12-24 12:34:00  2018        0     12  \n",
      "2018-12-24 12:35:00  2018        0     12  \n",
      "2018-12-24 12:36:00  2018        0     12  \n",
      "2018-12-24 12:37:00  2018        0     12  \n",
      "2018-12-24 12:38:00  2018        0     12  \n",
      "2018-12-24 12:39:00  2018        0     12  \n",
      "2018-12-24 12:40:00  2018        0     12  \n",
      "2018-12-24 12:41:00  2018        0     12  \n",
      "2018-12-24 12:42:00  2018        0     12  \n",
      "2018-12-24 12:43:00  2018        0     12  \n",
      "2018-12-24 12:44:00  2018        0     12  \n",
      "2018-12-24 12:45:00  2018        0     12  \n",
      "2018-12-24 12:46:00  2018        0     12  \n",
      "2018-12-24 12:47:00  2018        0     12  \n",
      "2018-12-24 12:48:00  2018        0     12  \n",
      "2018-12-24 12:49:00  2018        0     12  \n",
      "2018-12-24 12:50:00  2018        0     12  \n",
      "2018-12-24 12:51:00  2018        0     12  \n",
      "2018-12-24 12:52:00  2018        0     12  \n",
      "2018-12-24 12:53:00  2018        0     12  \n",
      "2018-12-24 12:54:00  2018        0     12  \n",
      "2018-12-24 12:55:00  2018        0     12  \n",
      "2018-12-24 12:56:00  2018        0     12  \n",
      "2018-12-24 12:57:00  2018        0     12  \n",
      "2018-12-24 12:58:00  2018        0     12  \n",
      "2018-12-24 12:59:00  2018        0     12  \n",
      "2018-12-24 13:00:00  2018        0     12  \n",
      "2018-12-24 13:01:00  2018        0     12  \n",
      "\n",
      "[211 rows x 10 columns]\n"
     ]
    }
   ],
   "source": [
    "data_=data.groupby('week')\n",
    "for name, group in data_:\n",
    "    print(name,group)\n",
    "# this method can be replaced by df[df['xxxxx']== xxxx]\n"
   ]
  },
  {
   "cell_type": "markdown",
   "metadata": {},
   "source": [
    "python\n",
    "df.apply(arg) will apply the function arg to each column in df, and return a DataFrame with the result\n",
    "Recall that lambda x is an anonymous function accepting parameter x; in this case, x will be a pandas Series object\n",
    "stock_return = stocks.apply(lambda x: x / x[0])\n",
    "stock_return.head() - 1"
   ]
  },
  {
   "cell_type": "code",
   "execution_count": 124,
   "metadata": {},
   "outputs": [
    {
     "ename": "AttributeError",
     "evalue": "'float' object has no attribute 'shift'",
     "output_type": "error",
     "traceback": [
      "\u001b[0;31m---------------------------------------------------------------------------\u001b[0m",
      "\u001b[0;31mAttributeError\u001b[0m                            Traceback (most recent call last)",
      "\u001b[0;32m<ipython-input-124-c3ef13d37a9b>\u001b[0m in \u001b[0;36m<module>\u001b[0;34m\u001b[0m\n\u001b[1;32m      1\u001b[0m \u001b[0;32mimport\u001b[0m \u001b[0mnumpy\u001b[0m \u001b[0;32mas\u001b[0m \u001b[0mnp\u001b[0m\u001b[0;34m\u001b[0m\u001b[0;34m\u001b[0m\u001b[0m\n\u001b[0;32m----> 2\u001b[0;31m \u001b[0mdata\u001b[0m\u001b[0;34m[\u001b[0m\u001b[0;34m'log_change'\u001b[0m\u001b[0;34m]\u001b[0m\u001b[0;34m=\u001b[0m\u001b[0mdata\u001b[0m\u001b[0;34m[\u001b[0m\u001b[0;34m'close'\u001b[0m\u001b[0;34m]\u001b[0m\u001b[0;34m.\u001b[0m\u001b[0mapply\u001b[0m\u001b[0;34m(\u001b[0m\u001b[0;32mlambda\u001b[0m \u001b[0mx\u001b[0m\u001b[0;34m:\u001b[0m\u001b[0mnp\u001b[0m\u001b[0;34m.\u001b[0m\u001b[0mlog\u001b[0m\u001b[0;34m(\u001b[0m\u001b[0mx\u001b[0m\u001b[0;34m)\u001b[0m\u001b[0;34m-\u001b[0m\u001b[0mnp\u001b[0m\u001b[0;34m.\u001b[0m\u001b[0mlog\u001b[0m\u001b[0;34m(\u001b[0m\u001b[0mx\u001b[0m\u001b[0;34m.\u001b[0m\u001b[0mshift\u001b[0m\u001b[0;34m(\u001b[0m\u001b[0;36m1\u001b[0m\u001b[0;34m)\u001b[0m\u001b[0;34m)\u001b[0m\u001b[0;34m)\u001b[0m\u001b[0;34m\u001b[0m\u001b[0;34m\u001b[0m\u001b[0m\n\u001b[0m",
      "\u001b[0;32m/usr/local/lib/python3.6/dist-packages/pandas/core/series.py\u001b[0m in \u001b[0;36mapply\u001b[0;34m(self, func, convert_dtype, args, **kwds)\u001b[0m\n\u001b[1;32m   3192\u001b[0m             \u001b[0;32melse\u001b[0m\u001b[0;34m:\u001b[0m\u001b[0;34m\u001b[0m\u001b[0;34m\u001b[0m\u001b[0m\n\u001b[1;32m   3193\u001b[0m                 \u001b[0mvalues\u001b[0m \u001b[0;34m=\u001b[0m \u001b[0mself\u001b[0m\u001b[0;34m.\u001b[0m\u001b[0mastype\u001b[0m\u001b[0;34m(\u001b[0m\u001b[0mobject\u001b[0m\u001b[0;34m)\u001b[0m\u001b[0;34m.\u001b[0m\u001b[0mvalues\u001b[0m\u001b[0;34m\u001b[0m\u001b[0;34m\u001b[0m\u001b[0m\n\u001b[0;32m-> 3194\u001b[0;31m                 \u001b[0mmapped\u001b[0m \u001b[0;34m=\u001b[0m \u001b[0mlib\u001b[0m\u001b[0;34m.\u001b[0m\u001b[0mmap_infer\u001b[0m\u001b[0;34m(\u001b[0m\u001b[0mvalues\u001b[0m\u001b[0;34m,\u001b[0m \u001b[0mf\u001b[0m\u001b[0;34m,\u001b[0m \u001b[0mconvert\u001b[0m\u001b[0;34m=\u001b[0m\u001b[0mconvert_dtype\u001b[0m\u001b[0;34m)\u001b[0m\u001b[0;34m\u001b[0m\u001b[0;34m\u001b[0m\u001b[0m\n\u001b[0m\u001b[1;32m   3195\u001b[0m \u001b[0;34m\u001b[0m\u001b[0m\n\u001b[1;32m   3196\u001b[0m         \u001b[0;32mif\u001b[0m \u001b[0mlen\u001b[0m\u001b[0;34m(\u001b[0m\u001b[0mmapped\u001b[0m\u001b[0;34m)\u001b[0m \u001b[0;32mand\u001b[0m \u001b[0misinstance\u001b[0m\u001b[0;34m(\u001b[0m\u001b[0mmapped\u001b[0m\u001b[0;34m[\u001b[0m\u001b[0;36m0\u001b[0m\u001b[0;34m]\u001b[0m\u001b[0;34m,\u001b[0m \u001b[0mSeries\u001b[0m\u001b[0;34m)\u001b[0m\u001b[0;34m:\u001b[0m\u001b[0;34m\u001b[0m\u001b[0;34m\u001b[0m\u001b[0m\n",
      "\u001b[0;32mpandas/_libs/src/inference.pyx\u001b[0m in \u001b[0;36mpandas._libs.lib.map_infer\u001b[0;34m()\u001b[0m\n",
      "\u001b[0;32m<ipython-input-124-c3ef13d37a9b>\u001b[0m in \u001b[0;36m<lambda>\u001b[0;34m(x)\u001b[0m\n\u001b[1;32m      1\u001b[0m \u001b[0;32mimport\u001b[0m \u001b[0mnumpy\u001b[0m \u001b[0;32mas\u001b[0m \u001b[0mnp\u001b[0m\u001b[0;34m\u001b[0m\u001b[0;34m\u001b[0m\u001b[0m\n\u001b[0;32m----> 2\u001b[0;31m \u001b[0mdata\u001b[0m\u001b[0;34m[\u001b[0m\u001b[0;34m'log_change'\u001b[0m\u001b[0;34m]\u001b[0m\u001b[0;34m=\u001b[0m\u001b[0mdata\u001b[0m\u001b[0;34m[\u001b[0m\u001b[0;34m'close'\u001b[0m\u001b[0;34m]\u001b[0m\u001b[0;34m.\u001b[0m\u001b[0mapply\u001b[0m\u001b[0;34m(\u001b[0m\u001b[0;32mlambda\u001b[0m \u001b[0mx\u001b[0m\u001b[0;34m:\u001b[0m\u001b[0mnp\u001b[0m\u001b[0;34m.\u001b[0m\u001b[0mlog\u001b[0m\u001b[0;34m(\u001b[0m\u001b[0mx\u001b[0m\u001b[0;34m)\u001b[0m\u001b[0;34m-\u001b[0m\u001b[0mnp\u001b[0m\u001b[0;34m.\u001b[0m\u001b[0mlog\u001b[0m\u001b[0;34m(\u001b[0m\u001b[0mx\u001b[0m\u001b[0;34m.\u001b[0m\u001b[0mshift\u001b[0m\u001b[0;34m(\u001b[0m\u001b[0;36m1\u001b[0m\u001b[0;34m)\u001b[0m\u001b[0;34m)\u001b[0m\u001b[0;34m)\u001b[0m\u001b[0;34m\u001b[0m\u001b[0;34m\u001b[0m\u001b[0m\n\u001b[0m",
      "\u001b[0;31mAttributeError\u001b[0m: 'float' object has no attribute 'shift'"
     ]
    }
   ],
   "source": [
    "import numpy as np \n",
    "data['log_change']=data['close'].apply(lambda x:np.log(x)-np.log(x.shift(1)))"
   ]
  },
  {
   "cell_type": "code",
   "execution_count": 127,
   "metadata": {},
   "outputs": [
    {
     "name": "stdout",
     "output_type": "stream",
     "text": [
      "                      open   high    low  close     volume  week  day  year  \\\n",
      "date                                                                          \n",
      "2018-12-24 13:01:00  94.13  94.13  94.13  94.13  3576304.0    52   24  2018   \n",
      "\n",
      "                     weekday  month  \n",
      "date                                 \n",
      "2018-12-24 13:01:00        0     12  \n"
     ]
    }
   ],
   "source": [
    "print(data.tail(1))"
   ]
  },
  {
   "cell_type": "code",
   "execution_count": 27,
   "metadata": {},
   "outputs": [
    {
     "name": "stdout",
     "output_type": "stream",
     "text": [
      "                         14rsi      25ema       5ema\n",
      "date                                                \n",
      "2018-12-27 10:25:00        NaN        NaN        NaN\n",
      "2018-12-27 10:55:00        NaN        NaN        NaN\n",
      "2018-12-27 11:00:00        NaN        NaN        NaN\n",
      "2018-12-27 11:20:00        NaN        NaN        NaN\n",
      "2018-12-27 11:25:00        NaN        NaN  38.702874\n",
      "2018-12-27 11:50:00        NaN        NaN  38.683361\n",
      "2018-12-27 11:55:00        NaN        NaN  38.652148\n",
      "2018-12-27 12:05:00        NaN        NaN  38.691238\n",
      "2018-12-27 12:50:00        NaN        NaN  38.611608\n",
      "2018-12-27 13:15:00        NaN        NaN  38.563885\n",
      "2018-12-27 13:30:00        NaN        NaN  38.487121\n",
      "2018-12-27 13:35:00        NaN        NaN  38.424381\n",
      "2018-12-27 14:20:00        NaN        NaN  38.290567\n",
      "2018-12-27 14:40:00        NaN        NaN  38.261513\n",
      "2018-12-27 14:55:00  41.299304        NaN  38.329876\n",
      "2018-12-27 15:15:00  50.923544        NaN  38.481156\n",
      "2018-12-27 15:20:00  47.108303        NaN  38.538214\n",
      "2018-12-27 15:25:00  52.257369        NaN  38.648336\n",
      "2018-12-27 15:30:00  54.366283        NaN  38.742555\n",
      "2018-12-27 15:35:00  57.807088        NaN  38.839757\n",
      "2018-12-27 15:50:00  64.544048        NaN  38.999261\n",
      "2018-12-28 09:35:00  69.238337        NaN  39.207266\n",
      "2018-12-28 09:40:00  69.413342        NaN  39.341748\n",
      "2018-12-28 10:30:00  61.390695        NaN  39.345981\n",
      "2018-12-28 10:45:00  59.130623  38.891139  39.317591\n",
      "2018-12-28 10:50:00  59.087705  38.922466  39.284009\n",
      "2018-12-28 10:55:00  62.053781  38.961663  39.295090\n",
      "2018-12-28 11:00:00  61.068409  38.996282  39.292451\n",
      "2018-12-28 11:25:00  60.070156  39.026402  39.292223\n",
      "2018-12-28 11:35:00  61.173397  39.057234  39.310316\n",
      "...                        ...        ...        ...\n",
      "2019-01-02 15:05:00  62.623074  39.774252  40.021018\n",
      "2019-01-03 09:35:00  56.411189  39.788662  39.982314\n",
      "2019-01-03 09:55:00  43.510968  39.761152  39.786370\n",
      "2019-01-03 10:20:00  41.867877  39.730004  39.624215\n",
      "2019-01-03 10:35:00  44.139581  39.708329  39.547572\n",
      "2019-01-03 10:50:00  42.825784  39.685876  39.471881\n",
      "2019-01-03 10:55:00  46.859238  39.676098  39.475882\n",
      "2019-01-03 11:25:00  52.787934  39.683899  39.577566\n",
      "2019-01-03 11:40:00  58.299221  39.708840  39.733354\n",
      "2019-01-03 12:05:00  53.415516  39.716334  39.772246\n",
      "2019-01-03 13:00:00  56.110405  39.734610  39.842564\n",
      "2019-01-03 13:25:00  49.116656  39.728750  39.787775\n",
      "2019-01-03 13:30:00  49.624682  39.726568  39.748318\n",
      "2019-01-03 13:40:00  50.234169  39.726052  39.719068\n",
      "2019-01-03 14:30:00  52.555959  39.731778  39.738368\n",
      "2019-01-03 15:35:00  48.280549  39.724870  39.691601\n",
      "2019-01-03 15:50:00  46.398052  39.712925  39.647938\n",
      "2019-01-04 09:35:00  57.063615  39.740949  39.766179\n",
      "2019-01-04 09:45:00  62.656569  39.784528  39.947579\n",
      "2019-01-04 10:25:00  65.850284  39.839864  40.133568\n",
      "2019-01-04 11:40:00  68.163459  39.902562  40.319200\n",
      "2019-01-04 12:25:00  70.144975  39.971327  40.495854\n",
      "2019-01-04 13:05:00  72.625968  40.050039  40.661160\n",
      "2019-01-04 14:00:00  68.045650  40.109911  40.707272\n",
      "2019-01-04 14:10:00  66.684165  40.162747  40.713750\n",
      "2019-01-04 14:20:00  65.124578  40.206429  40.694037\n",
      "2019-01-04 14:55:00  65.500651  40.250347  40.681658\n",
      "2019-01-04 15:00:00  67.272898  40.304057  40.698586\n",
      "2019-01-04 15:10:00  67.502194  40.355483  40.720852\n",
      "2019-01-04 15:45:00  62.329021  40.391054  40.689976\n",
      "\n",
      "[100 rows x 3 columns]\n"
     ]
    }
   ],
   "source": [
    "from pyti.exponential_moving_average import exponential_moving_average as ema\n",
    "from pyti.relative_strength_index import relative_strength_index as rsi\n",
    "\n",
    "\n",
    "def add_indicators(data,ema_period=[5,25],rsi_period=[14],prefix=\"\"):\n",
    "    result=None\n",
    "    for period in ema_period:\n",
    "        r_r = ema(data,period)\n",
    "        df=pd.DataFrame(r_r, index=data.index,columns=[prefix+\"%d\"%period+\"ema\"])\n",
    "        if result is None:\n",
    "            result=df\n",
    "        else:\n",
    "            result=pd.merge(df, result,\n",
    "                      how='outer',left_index=True, right_index=True)\n",
    "    for period in rsi_period:\n",
    "        r_r = rsi(data,period)\n",
    "        df=pd.DataFrame(r_r, index=data.index,columns=[prefix+\"%d\"%period+\"rsi\"])\n",
    "        result=pd.merge(df, result,\n",
    "                      how='outer',left_index=True, right_index=True)\n",
    "    return result\n",
    "\n",
    "result=pd.merge(data,add_indicators(data['close']))\n",
    "print(result)"
   ]
  },
  {
   "cell_type": "code",
   "execution_count": null,
   "metadata": {},
   "outputs": [],
   "source": []
  }
 ],
 "metadata": {
  "kernelspec": {
   "display_name": "Python 3",
   "language": "python",
   "name": "python3"
  },
  "language_info": {
   "codemirror_mode": {
    "name": "ipython",
    "version": 3
   },
   "file_extension": ".py",
   "mimetype": "text/x-python",
   "name": "python",
   "nbconvert_exporter": "python",
   "pygments_lexer": "ipython3",
   "version": "3.6.9"
  }
 },
 "nbformat": 4,
 "nbformat_minor": 2
}
