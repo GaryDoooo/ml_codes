{
 "cells": [
  {
   "cell_type": "code",
   "execution_count": 13,
   "id": "9dd04b0a",
   "metadata": {},
   "outputs": [],
   "source": [
    "def count_letters(items):\n",
    "    result = {}\n",
    "    for item in items:\n",
    "        if isinstance(item, (int, float)):\n",
    "            if item in result:\n",
    "                result[item]+=1\n",
    "            else:\n",
    "                result[item]=1\n",
    "#             result[item] = result.get(item, 0) + 1\n",
    "    return result"
   ]
  },
  {
   "cell_type": "code",
   "execution_count": 24,
   "id": "bbd517d4",
   "metadata": {},
   "outputs": [
    {
     "name": "stdout",
     "output_type": "stream",
     "text": [
      "{3: 3, 1: 1, 2: 1}\n"
     ]
    }
   ],
   "source": [
    "print(count_letters([3,1,2,\"d\",3,3]))"
   ]
  },
  {
   "cell_type": "code",
   "execution_count": 16,
   "id": "896679d3",
   "metadata": {},
   "outputs": [],
   "source": [
    "from functools import lru_cache\n",
    "\n",
    "\n",
    "@lru_cache()\n",
    "def change_money(total):\n",
    "    if total == 0:\n",
    "        return 1\n",
    "    if total < 0:\n",
    "        return 0\n",
    "    return change_money(total - 2) + change_money(total - 3) + \\\n",
    "        change_money(total - 5)"
   ]
  },
  {
   "cell_type": "code",
   "execution_count": 17,
   "id": "32dc3a3f",
   "metadata": {},
   "outputs": [
    {
     "data": {
      "text/plain": [
       "789284288713457"
      ]
     },
     "execution_count": 17,
     "metadata": {},
     "output_type": "execute_result"
    }
   ],
   "source": [
    "change_money(99)"
   ]
  },
  {
   "cell_type": "code",
   "execution_count": 20,
   "id": "1f0b707f",
   "metadata": {},
   "outputs": [
    {
     "name": "stdout",
     "output_type": "stream",
     "text": [
      "180\n"
     ]
    }
   ],
   "source": [
    "l=[0]*100\n",
    "l[0]=1\n",
    "for step in [2,3,5]:\n",
    "    for a in range(100-step):\n",
    "        l[a+step]+=l[a]\n",
    "print(l[99])"
   ]
  },
  {
   "cell_type": "code",
   "execution_count": 23,
   "id": "24137c47",
   "metadata": {},
   "outputs": [
    {
     "name": "stdout",
     "output_type": "stream",
     "text": [
      "0\n",
      "1\n"
     ]
    }
   ],
   "source": [
    "s=set()\n",
    "s.add(1)\n",
    "s.add(0)\n",
    "for i in s:\n",
    "    print(i)"
   ]
  },
  {
   "cell_type": "code",
   "execution_count": 26,
   "id": "26894fc7",
   "metadata": {},
   "outputs": [
    {
     "ename": "TypeError",
     "evalue": "'tuple' object does not support item assignment",
     "output_type": "error",
     "traceback": [
      "\u001b[0;31m---------------------------------------------------------------------------\u001b[0m",
      "\u001b[0;31mTypeError\u001b[0m                                 Traceback (most recent call last)",
      "\u001b[0;32m<ipython-input-26-fbc19177954c>\u001b[0m in \u001b[0;36m<module>\u001b[0;34m\u001b[0m\n\u001b[1;32m      1\u001b[0m \u001b[0ma\u001b[0m\u001b[0;34m=\u001b[0m\u001b[0;34m(\u001b[0m\u001b[0;36m3\u001b[0m\u001b[0;34m,\u001b[0m\u001b[0;36m4\u001b[0m\u001b[0;34m)\u001b[0m\u001b[0;34m\u001b[0m\u001b[0;34m\u001b[0m\u001b[0m\n\u001b[1;32m      2\u001b[0m \u001b[0mb\u001b[0m\u001b[0;34m=\u001b[0m\u001b[0ma\u001b[0m\u001b[0;34m\u001b[0m\u001b[0;34m\u001b[0m\u001b[0m\n\u001b[0;32m----> 3\u001b[0;31m \u001b[0mb\u001b[0m\u001b[0;34m[\u001b[0m\u001b[0;36m1\u001b[0m\u001b[0;34m]\u001b[0m\u001b[0;34m=\u001b[0m\u001b[0;36m1\u001b[0m\u001b[0;34m\u001b[0m\u001b[0;34m\u001b[0m\u001b[0m\n\u001b[0m\u001b[1;32m      4\u001b[0m \u001b[0mprint\u001b[0m\u001b[0;34m(\u001b[0m\u001b[0ma\u001b[0m\u001b[0;34m,\u001b[0m\u001b[0mb\u001b[0m\u001b[0;34m)\u001b[0m\u001b[0;34m\u001b[0m\u001b[0;34m\u001b[0m\u001b[0m\n",
      "\u001b[0;31mTypeError\u001b[0m: 'tuple' object does not support item assignment"
     ]
    }
   ],
   "source": [
    "a=(3,4)\n",
    "b=a\n",
    "b\n",
    "print(a,b)"
   ]
  },
  {
   "cell_type": "code",
   "execution_count": 27,
   "id": "50b963ba",
   "metadata": {},
   "outputs": [
    {
     "name": "stdout",
     "output_type": "stream",
     "text": [
      "2.718281828459045\n"
     ]
    }
   ],
   "source": []
  },
  {
   "cell_type": "code",
   "execution_count": 33,
   "id": "48a217bb",
   "metadata": {},
   "outputs": [
    {
     "name": "stdout",
     "output_type": "stream",
     "text": [
      "7.456946706778105\n"
     ]
    }
   ],
   "source": [
    "# The lifetime of a communication system (hours) has the pdf1.13 Problems 61\n",
    "# f (t) =2*exp(t)/(exp(t)+ 1)^2 t >0\n",
    "# A random sample of n = 30 units from this density function is tested at the\n",
    "# same time t = 0 and that the units operate independently.\n",
    "# (a) What is the probability that at least 2 units will fail within the first hour?\n",
    "# Determine the expected, and the variance of the, number of failures\n",
    "# during the first hour.\n",
    "\n",
    "from math import *\n",
    "e=exp(1)\n",
    "\n",
    "def comb(a,b):\n",
    "    res=1\n",
    "    for i in range(a,b,-1):\n",
    "            res*=i\n",
    "    for i in range(1,a-b+1):\n",
    "        res/=i\n",
    "    return res\n",
    "\n",
    "p=(e-1)/(e+1)\n",
    "s=0\n",
    "for f in range(31):\n",
    "    fx=1\n",
    "    for i in range(30):\n",
    "        if i+1<=f:\n",
    "            fx*=p\n",
    "        else:\n",
    "            fx*=(1-p)\n",
    "    s+=(f-30*p)**2*fx*comb(30,f)\n",
    "print(s)\n",
    "        "
   ]
  },
  {
   "cell_type": "code",
   "execution_count": 35,
   "id": "df9c229b",
   "metadata": {},
   "outputs": [
    {
     "data": {
      "text/plain": [
       "0.19473329851459148"
      ]
     },
     "execution_count": 35,
     "metadata": {},
     "output_type": "execute_result"
    }
   ],
   "source": [
    "R=lambda t:1+2/(1 + exp(t))\n",
    "(R(1)-R(2))/R(1)"
   ]
  },
  {
   "cell_type": "code",
   "execution_count": null,
   "id": "4960f24d",
   "metadata": {},
   "outputs": [],
   "source": []
  }
 ],
 "metadata": {
  "kernelspec": {
   "display_name": "Python 3",
   "language": "python",
   "name": "python3"
  },
  "language_info": {
   "codemirror_mode": {
    "name": "ipython",
    "version": 3
   },
   "file_extension": ".py",
   "mimetype": "text/x-python",
   "name": "python",
   "nbconvert_exporter": "python",
   "pygments_lexer": "ipython3",
   "version": "3.6.9"
  }
 },
 "nbformat": 4,
 "nbformat_minor": 5
}
