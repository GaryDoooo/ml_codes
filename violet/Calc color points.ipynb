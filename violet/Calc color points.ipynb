{
 "cells": [
  {
   "cell_type": "code",
   "execution_count": 2,
   "metadata": {},
   "outputs": [],
   "source": [
    "import csv\n",
    "import colour"
   ]
  },
  {
   "cell_type": "code",
   "execution_count": 3,
   "metadata": {},
   "outputs": [],
   "source": [
    "sp={}\n",
    "with open('v_led.csv', newline='') as csvfile:\n",
    "    for r in csv.reader(csvfile, delimiter=',', quotechar='|'):\n",
    "        #print([float(_) for _ in r[:-1]])\n",
    "        sp[int(float(r[0]))]=float(r[1])"
   ]
  },
  {
   "cell_type": "code",
   "execution_count": 4,
   "metadata": {},
   "outputs": [],
   "source": [
    "with open('green_led.csv', newline='') as csvfile:\n",
    "    for r in csv.reader(csvfile, delimiter=',', quotechar='|'):\n",
    "        #print([float(_) for _ in r[:-1]])\n",
    "        sp[int(float(r[0]))]+=float(r[1])\n",
    "with open('red_led.csv', newline='') as csvfile:\n",
    "    for r in csv.reader(csvfile, delimiter=',', quotechar='|'):\n",
    "        #print([float(_) for _ in r[:-1]])\n",
    "        sp[int(float(r[0]))]+=float(r[1])"
   ]
  },
  {
   "cell_type": "code",
   "execution_count": 5,
   "metadata": {},
   "outputs": [
    {
     "name": "stdout",
     "output_type": "stream",
     "text": [
      "SpectralDistribution([[  4.00000000e+02,   4.83320000e-01],\n",
      "                      [  4.01000000e+02,   4.94608000e-01],\n",
      "                      [  4.02000000e+02,   5.06225000e-01],\n",
      "                      [  4.03000000e+02,   5.11922000e-01],\n",
      "                      [  4.04000000e+02,   5.07855000e-01],\n",
      "                      [  4.05000000e+02,   4.95107000e-01],\n",
      "                      [  4.06000000e+02,   4.77922000e-01],\n",
      "                      [  4.07000000e+02,   4.61031000e-01],\n",
      "                      [  4.08000000e+02,   4.29189000e-01],\n",
      "                      [  4.09000000e+02,   3.95046000e-01],\n",
      "                      [  4.10000000e+02,   3.59852000e-01],\n",
      "                      [  4.11000000e+02,   3.14485000e-01],\n",
      "                      [  4.12000000e+02,   2.71929000e-01],\n",
      "                      [  4.13000000e+02,   2.40005000e-01],\n",
      "                      [  4.14000000e+02,   2.10288000e-01],\n",
      "                      [  4.15000000e+02,   1.85015000e-01],\n",
      "                      [  4.16000000e+02,   1.65176000e-01],\n",
      "                      [  4.17000000e+02,   1.44184000e-01],\n",
      "                      [  4.18000000e+02,   1.26218000e-01],\n",
      "                      [  4.19000000e+02,   1.12207000e-01],\n",
      "                      [  4.20000000e+02,   9.81960000e-02],\n",
      "                      [  4.21000000e+02,   8.69490000e-02],\n",
      "                      [  4.22000000e+02,   7.71350000e-02],\n",
      "                      [  4.23000000e+02,   6.41380000e-02],\n",
      "                      [  4.24000000e+02,   5.54480000e-02],\n",
      "                      [  4.25000000e+02,   4.91730000e-02],\n",
      "                      [  4.26000000e+02,   4.36090000e-02],\n",
      "                      [  4.27000000e+02,   3.82860000e-02],\n",
      "                      [  4.28000000e+02,   3.45990000e-02],\n",
      "                      [  4.29000000e+02,   3.09120000e-02],\n",
      "                      [  4.30000000e+02,   2.76240000e-02],\n",
      "                      [  4.31000000e+02,   2.45630000e-02],\n",
      "                      [  4.32000000e+02,   2.24630000e-02],\n",
      "                      [  4.33000000e+02,   2.06530000e-02],\n",
      "                      [  4.34000000e+02,   1.88430000e-02],\n",
      "                      [  4.35000000e+02,   1.70330000e-02],\n",
      "                      [  4.36000000e+02,   1.52220000e-02],\n",
      "                      [  4.37000000e+02,   1.35860000e-02],\n",
      "                      [  4.38000000e+02,   1.28490000e-02],\n",
      "                      [  4.39000000e+02,   1.21110000e-02],\n",
      "                      [  4.40000000e+02,   1.13730000e-02],\n",
      "                      [  4.41000000e+02,   1.06360000e-02],\n",
      "                      [  4.42000000e+02,   1.02920000e-02],\n",
      "                      [  4.43000000e+02,   1.00470000e-02],\n",
      "                      [  4.44000000e+02,   9.80000000e-03],\n",
      "                      [  4.45000000e+02,   9.55500000e-03],\n",
      "                      [  4.46000000e+02,   9.30900000e-03],\n",
      "                      [  4.47000000e+02,   9.06300000e-03],\n",
      "                      [  4.48000000e+02,   8.81600000e-03],\n",
      "                      [  4.49000000e+02,   8.61700000e-03],\n",
      "                      [  4.50000000e+02,   8.51400000e-03],\n",
      "                      [  4.51000000e+02,   8.41000000e-03],\n",
      "                      [  4.52000000e+02,   8.30500000e-03],\n",
      "                      [  4.53000000e+02,   8.20200000e-03],\n",
      "                      [  4.54000000e+02,   8.09800000e-03],\n",
      "                      [  4.55000000e+02,   7.99400000e-03],\n",
      "                      [  4.56000000e+02,   7.89100000e-03],\n",
      "                      [  4.57000000e+02,   7.78600000e-03],\n",
      "                      [  4.58000000e+02,   7.68200000e-03],\n",
      "                      [  4.59000000e+02,   7.57900000e-03],\n",
      "                      [  4.60000000e+02,   7.47500000e-03],\n",
      "                      [  4.61000000e+02,   7.37100000e-03],\n",
      "                      [  4.62000000e+02,   7.26700000e-03],\n",
      "                      [  4.63000000e+02,   7.26200000e-03],\n",
      "                      [  4.64000000e+02,   7.31600000e-03],\n",
      "                      [  4.65000000e+02,   7.36900000e-03],\n",
      "                      [  4.66000000e+02,   7.42300000e-03],\n",
      "                      [  4.67000000e+02,   7.47700000e-03],\n",
      "                      [  4.68000000e+02,   7.53200000e-03],\n",
      "                      [  4.69000000e+02,   7.63400000e-03],\n",
      "                      [  4.70000000e+02,   7.73700000e-03],\n",
      "                      [  4.71000000e+02,   7.84000000e-03],\n",
      "                      [  4.72000000e+02,   7.94400000e-03],\n",
      "                      [  4.73000000e+02,   8.04500000e-03],\n",
      "                      [  4.74000000e+02,   8.14800000e-03],\n",
      "                      [  4.75000000e+02,   8.25100000e-03],\n",
      "                      [  4.76000000e+02,   8.35400000e-03],\n",
      "                      [  4.77000000e+02,   8.45600000e-03],\n",
      "                      [  4.78000000e+02,   8.55900000e-03],\n",
      "                      [  4.79000000e+02,   8.66100000e-03],\n",
      "                      [  4.80000000e+02,   8.76400000e-03],\n",
      "                      [  4.81000000e+02,   8.92000000e-03],\n",
      "                      [  4.82000000e+02,   9.11600000e-03],\n",
      "                      [  4.83000000e+02,   9.31300000e-03],\n",
      "                      [  4.84000000e+02,   9.51000000e-03],\n",
      "                      [  4.85000000e+02,   9.70600000e-03],\n",
      "                      [  4.86000000e+02,   9.90200000e-03],\n",
      "                      [  4.87000000e+02,   1.02130000e-02],\n",
      "                      [  4.88000000e+02,   1.07590000e-02],\n",
      "                      [  4.89000000e+02,   1.13050000e-02],\n",
      "                      [  4.90000000e+02,   1.18490000e-02],\n",
      "                      [  4.91000000e+02,   1.23950000e-02],\n",
      "                      [  4.92000000e+02,   1.31020000e-02],\n",
      "                      [  4.93000000e+02,   1.38150000e-02],\n",
      "                      [  4.94000000e+02,   1.45270000e-02],\n",
      "                      [  4.95000000e+02,   1.52400000e-02],\n",
      "                      [  4.96000000e+02,   1.59530000e-02],\n",
      "                      [  4.97000000e+02,   1.72050000e-02],\n",
      "                      [  4.98000000e+02,   1.84650000e-02],\n",
      "                      [  4.99000000e+02,   1.97260000e-02],\n",
      "                      [  5.00000000e+02,   2.11410000e-02],\n",
      "                      [  5.01000000e+02,   2.30270000e-02],\n",
      "                      [  5.02000000e+02,   2.49120000e-02],\n",
      "                      [  5.03000000e+02,   2.68480000e-02],\n",
      "                      [  5.04000000e+02,   2.91090000e-02],\n",
      "                      [  5.05000000e+02,   3.13710000e-02],\n",
      "                      [  5.06000000e+02,   3.36420000e-02],\n",
      "                      [  5.07000000e+02,   3.64670000e-02],\n",
      "                      [  5.08000000e+02,   3.92920000e-02],\n",
      "                      [  5.09000000e+02,   4.22810000e-02],\n",
      "                      [  5.10000000e+02,   4.54180000e-02],\n",
      "                      [  5.11000000e+02,   4.77310000e-02],\n",
      "                      [  5.12000000e+02,   4.96170000e-02],\n",
      "                      [  5.13000000e+02,   5.15030000e-02],\n",
      "                      [  5.14000000e+02,   5.30490000e-02],\n",
      "                      [  5.15000000e+02,   5.43100000e-02],\n",
      "                      [  5.16000000e+02,   5.55700000e-02],\n",
      "                      [  5.17000000e+02,   5.68300000e-02],\n",
      "                      [  5.18000000e+02,   5.70820000e-02],\n",
      "                      [  5.19000000e+02,   5.70900000e-02],\n",
      "                      [  5.20000000e+02,   5.70990000e-02],\n",
      "                      [  5.21000000e+02,   5.70570000e-02],\n",
      "                      [  5.22000000e+02,   5.63150000e-02],\n",
      "                      [  5.23000000e+02,   5.55720000e-02],\n",
      "                      [  5.24000000e+02,   5.48310000e-02],\n",
      "                      [  5.25000000e+02,   5.34630000e-02],\n",
      "                      [  5.26000000e+02,   5.20640000e-02],\n",
      "                      [  5.27000000e+02,   5.04480000e-02],\n",
      "                      [  5.28000000e+02,   4.85800000e-02],\n",
      "                      [  5.29000000e+02,   4.67120000e-02],\n",
      "                      [  5.30000000e+02,   4.52990000e-02],\n",
      "                      [  5.31000000e+02,   4.38990000e-02],\n",
      "                      [  5.32000000e+02,   4.22770000e-02],\n",
      "                      [  5.33000000e+02,   4.04090000e-02],\n",
      "                      [  5.34000000e+02,   3.85410000e-02],\n",
      "                      [  5.35000000e+02,   3.71350000e-02],\n",
      "                      [  5.36000000e+02,   3.57360000e-02],\n",
      "                      [  5.37000000e+02,   3.41050000e-02],\n",
      "                      [  5.38000000e+02,   3.22370000e-02],\n",
      "                      [  5.39000000e+02,   3.03720000e-02],\n",
      "                      [  5.40000000e+02,   2.94420000e-02],\n",
      "                      [  5.41000000e+02,   2.85130000e-02],\n",
      "                      [  5.42000000e+02,   2.76530000e-02],\n",
      "                      [  5.43000000e+02,   2.68570000e-02],\n",
      "                      [  5.44000000e+02,   2.60610000e-02],\n",
      "                      [  5.45000000e+02,   2.52650000e-02],\n",
      "                      [  5.46000000e+02,   2.44970000e-02],\n",
      "                      [  5.47000000e+02,   2.38800000e-02],\n",
      "                      [  5.48000000e+02,   2.32630000e-02],\n",
      "                      [  5.49000000e+02,   2.26460000e-02],\n",
      "                      [  5.50000000e+02,   2.20300000e-02],\n",
      "                      [  5.51000000e+02,   2.14140000e-02],\n",
      "                      [  5.52000000e+02,   2.07960000e-02],\n",
      "                      [  5.53000000e+02,   2.01790000e-02],\n",
      "                      [  5.54000000e+02,   1.95630000e-02],\n",
      "                      [  5.55000000e+02,   1.89460000e-02],\n",
      "                      [  5.56000000e+02,   1.82820000e-02],\n",
      "                      [  5.57000000e+02,   1.76090000e-02],\n",
      "                      [  5.58000000e+02,   1.69360000e-02],\n",
      "                      [  5.59000000e+02,   1.62630000e-02],\n",
      "                      [  5.60000000e+02,   1.55880000e-02],\n",
      "                      [  5.61000000e+02,   1.49150000e-02],\n",
      "                      [  5.62000000e+02,   1.42410000e-02],\n",
      "                      [  5.63000000e+02,   1.39950000e-02],\n",
      "                      [  5.64000000e+02,   1.37700000e-02],\n",
      "                      [  5.65000000e+02,   1.35430000e-02],\n",
      "                      [  5.66000000e+02,   1.33180000e-02],\n",
      "                      [  5.67000000e+02,   1.30930000e-02],\n",
      "                      [  5.68000000e+02,   1.28670000e-02],\n",
      "                      [  5.69000000e+02,   1.26410000e-02],\n",
      "                      [  5.70000000e+02,   1.24150000e-02],\n",
      "                      [  5.71000000e+02,   1.21890000e-02],\n",
      "                      [  5.72000000e+02,   1.19640000e-02],\n",
      "                      [  5.73000000e+02,   1.17630000e-02],\n",
      "                      [  5.74000000e+02,   1.15630000e-02],\n",
      "                      [  5.75000000e+02,   1.13650000e-02],\n",
      "                      [  5.76000000e+02,   1.11650000e-02],\n",
      "                      [  5.77000000e+02,   1.09650000e-02],\n",
      "                      [  5.78000000e+02,   1.07650000e-02],\n",
      "                      [  5.79000000e+02,   1.05660000e-02],\n",
      "                      [  5.80000000e+02,   1.03660000e-02],\n",
      "                      [  5.81000000e+02,   1.01660000e-02],\n",
      "                      [  5.82000000e+02,   9.96600000e-03],\n",
      "                      [  5.83000000e+02,   9.76600000e-03],\n",
      "                      [  5.84000000e+02,   9.70200000e-03],\n",
      "                      [  5.85000000e+02,   9.67300000e-03],\n",
      "                      [  5.86000000e+02,   9.64600000e-03],\n",
      "                      [  5.87000000e+02,   9.61900000e-03],\n",
      "                      [  5.88000000e+02,   9.59200000e-03],\n",
      "                      [  5.89000000e+02,   9.56300000e-03],\n",
      "                      [  5.90000000e+02,   9.53600000e-03],\n",
      "                      [  5.91000000e+02,   9.50900000e-03],\n",
      "                      [  5.92000000e+02,   9.48200000e-03],\n",
      "                      [  5.93000000e+02,   9.45600000e-03],\n",
      "                      [  5.94000000e+02,   9.42700000e-03],\n",
      "                      [  5.95000000e+02,   9.67600000e-03],\n",
      "                      [  5.96000000e+02,   1.01390000e-02],\n",
      "                      [  5.97000000e+02,   1.06020000e-02],\n",
      "                      [  5.98000000e+02,   1.10640000e-02],\n",
      "                      [  5.99000000e+02,   1.15270000e-02],\n",
      "                      [  6.00000000e+02,   1.19900000e-02],\n",
      "                      [  6.01000000e+02,   1.24540000e-02],\n",
      "                      [  6.02000000e+02,   1.32200000e-02],\n",
      "                      [  6.03000000e+02,   1.41090000e-02],\n",
      "                      [  6.04000000e+02,   1.49980000e-02],\n",
      "                      [  6.05000000e+02,   1.58880000e-02],\n",
      "                      [  6.06000000e+02,   1.67770000e-02],\n",
      "                      [  6.07000000e+02,   1.78940000e-02],\n",
      "                      [  6.08000000e+02,   1.90960000e-02],\n",
      "                      [  6.09000000e+02,   2.02980000e-02],\n",
      "                      [  6.10000000e+02,   2.15020000e-02],\n",
      "                      [  6.11000000e+02,   2.28580000e-02],\n",
      "                      [  6.12000000e+02,   2.42170000e-02],\n",
      "                      [  6.13000000e+02,   2.61220000e-02],\n",
      "                      [  6.14000000e+02,   2.85760000e-02],\n",
      "                      [  6.15000000e+02,   3.10290000e-02],\n",
      "                      [  6.16000000e+02,   3.34820000e-02],\n",
      "                      [  6.17000000e+02,   3.64120000e-02],\n",
      "                      [  6.18000000e+02,   3.94920000e-02],\n",
      "                      [  6.19000000e+02,   4.20130000e-02],\n",
      "                      [  6.20000000e+02,   4.44960000e-02],\n",
      "                      [  6.21000000e+02,   4.82010000e-02],\n",
      "                      [  6.22000000e+02,   5.26370000e-02],\n",
      "                      [  6.23000000e+02,   5.71140000e-02],\n",
      "                      [  6.24000000e+02,   6.14430000e-02],\n",
      "                      [  6.25000000e+02,   6.49440000e-02],\n",
      "                      [  6.26000000e+02,   6.80230000e-02],\n",
      "                      [  6.27000000e+02,   6.97360000e-02],\n",
      "                      [  6.28000000e+02,   7.10940000e-02],\n",
      "                      [  6.29000000e+02,   7.23100000e-02],\n",
      "                      [  6.30000000e+02,   7.31990000e-02],\n",
      "                      [  6.31000000e+02,   7.40890000e-02],\n",
      "                      [  6.32000000e+02,   7.26940000e-02],\n",
      "                      [  6.33000000e+02,   7.07670000e-02],\n",
      "                      [  6.34000000e+02,   6.61870000e-02],\n",
      "                      [  6.35000000e+02,   6.14450000e-02],\n",
      "                      [  6.36000000e+02,   5.67050000e-02],\n",
      "                      [  6.37000000e+02,   5.17690000e-02],\n",
      "                      [  6.38000000e+02,   4.60890000e-02],\n",
      "                      [  6.39000000e+02,   4.04090000e-02],\n",
      "                      [  6.40000000e+02,   3.53990000e-02],\n",
      "                      [  6.41000000e+02,   3.02180000e-02],\n",
      "                      [  6.42000000e+02,   2.50930000e-02],\n",
      "                      [  6.43000000e+02,   2.19150000e-02],\n",
      "                      [  6.44000000e+02,   1.91810000e-02],\n",
      "                      [  6.45000000e+02,   1.72550000e-02],\n",
      "                      [  6.46000000e+02,   1.55550000e-02],\n",
      "                      [  6.47000000e+02,   1.40980000e-02],\n",
      "                      [  6.48000000e+02,   1.26410000e-02],\n",
      "                      [  6.49000000e+02,   1.16500000e-02],\n",
      "                      [  6.50000000e+02,   1.06620000e-02],\n",
      "                      [  6.51000000e+02,   9.67400000e-03],\n",
      "                      [  6.52000000e+02,   8.80700000e-03],\n",
      "                      [  6.53000000e+02,   8.28900000e-03],\n",
      "                      [  6.54000000e+02,   7.77100000e-03],\n",
      "                      [  6.55000000e+02,   7.25200000e-03],\n",
      "                      [  6.56000000e+02,   6.73400000e-03],\n",
      "                      [  6.57000000e+02,   6.31600000e-03],\n",
      "                      [  6.58000000e+02,   6.16800000e-03],\n",
      "                      [  6.59000000e+02,   6.01900000e-03],\n",
      "                      [  6.60000000e+02,   5.87200000e-03],\n",
      "                      [  6.61000000e+02,   5.72400000e-03],\n",
      "                      [  6.62000000e+02,   5.57700000e-03],\n",
      "                      [  6.63000000e+02,   5.42800000e-03],\n",
      "                      [  6.64000000e+02,   5.28000000e-03],\n",
      "                      [  6.65000000e+02,   5.13300000e-03],\n",
      "                      [  6.66000000e+02,   4.98500000e-03],\n",
      "                      [  6.67000000e+02,   4.83700000e-03],\n",
      "                      [  6.68000000e+02,   4.68800000e-03],\n",
      "                      [  6.69000000e+02,   4.54100000e-03],\n",
      "                      [  6.70000000e+02,   4.39600000e-03],\n",
      "                      [  6.71000000e+02,   4.24900000e-03],\n",
      "                      [  6.72000000e+02,   4.10200000e-03],\n",
      "                      [  6.73000000e+02,   3.95500000e-03],\n",
      "                      [  6.74000000e+02,   3.80900000e-03],\n",
      "                      [  6.75000000e+02,   3.66300000e-03],\n",
      "                      [  6.76000000e+02,   3.51600000e-03],\n",
      "                      [  6.77000000e+02,   3.36900000e-03],\n",
      "                      [  6.78000000e+02,   3.22300000e-03],\n",
      "                      [  6.79000000e+02,   3.07700000e-03],\n",
      "                      [  6.80000000e+02,   2.93100000e-03],\n",
      "                      [  6.81000000e+02,   2.78300000e-03],\n",
      "                      [  6.82000000e+02,   2.63700000e-03],\n",
      "                      [  6.83000000e+02,   2.49100000e-03],\n",
      "                      [  6.84000000e+02,   2.34400000e-03],\n",
      "                      [  6.85000000e+02,   2.19700000e-03],\n",
      "                      [  6.86000000e+02,   2.05000000e-03],\n",
      "                      [  6.87000000e+02,   1.90400000e-03],\n",
      "                      [  6.88000000e+02,   1.75900000e-03],\n",
      "                      [  6.89000000e+02,   1.61200000e-03],\n",
      "                      [  6.90000000e+02,   1.46500000e-03],\n",
      "                      [  6.91000000e+02,   1.31800000e-03],\n",
      "                      [  6.92000000e+02,   1.17200000e-03],\n",
      "                      [  6.93000000e+02,   1.02600000e-03],\n",
      "                      [  6.94000000e+02,   8.78000000e-04],\n",
      "                      [  6.95000000e+02,   7.32000000e-04],\n",
      "                      [  6.96000000e+02,   5.87000000e-04],\n",
      "                      [  6.97000000e+02,   4.40000000e-04],\n",
      "                      [  6.98000000e+02,   2.93000000e-04],\n",
      "                      [  6.99000000e+02,   1.46000000e-04],\n",
      "                      [  7.00000000e+02,   0.00000000e+00]],\n",
      "                     interpolator=SpragueInterpolator,\n",
      "                     interpolator_kwargs={},\n",
      "                     extrapolator=Extrapolator,\n",
      "                     extrapolator_kwargs={'method': 'Constant', 'left': None, 'right': None})\n"
     ]
    },
    {
     "name": "stderr",
     "output_type": "stream",
     "text": [
      "/home/du/.local/lib/python3.6/site-packages/colour/utilities/verbose.py:237: ColourUsageWarning: \"colour.SpectralPowerDistribution\" object has been renamed to \"colour.SpectralDistribution\".\n",
      "  warn(*args, **kwargs)\n"
     ]
    }
   ],
   "source": [
    "spd = colour.SpectralPowerDistribution(sp, name='Sample')\n",
    "print(repr(spd))"
   ]
  },
  {
   "cell_type": "code",
   "execution_count": 17,
   "metadata": {},
   "outputs": [
    {
     "data": {
      "image/png": "[encoded data removed]",
      "text/plain": [
       "<Figure size 432x288 with 1 Axes>"
      ]
     },
     "metadata": {
      "needs_background": "light"
     },
     "output_type": "display_data"
    },
    {
     "data": {
      "text/plain": [
       "(<Figure size 432x288 with 1 Axes>,\n",
       " <matplotlib.axes._subplots.AxesSubplot at 0x7f4c402594a8>)"
      ]
     },
     "execution_count": 17,
     "metadata": {},
     "output_type": "execute_result"
    }
   ],
   "source": [
    "# Plotting the sample spectral power distribution.\n",
    "colour.plotting.plot_single_sd(spd)"
   ]
  },
  {
   "cell_type": "code",
   "execution_count": 20,
   "metadata": {},
   "outputs": [
    {
     "name": "stdout",
     "output_type": "stream",
     "text": [
      "[ 2.2906964   2.58204777  2.7630448 ] [ 0.29999472  0.33815075]\n"
     ]
    }
   ],
   "source": [
    "spd = colour.SpectralPowerDistribution(spd)\n",
    "    cmfs = colour.colorimetry.MSDS_CMFS_STANDARD_OBSERVER['CIE 1931 2 Degree Standard Observer']\n",
    "    illuminant = colour.SDS_ILLUMINANTS['D65']\n",
    "\n",
    "    # Calculating the sample spectral power distribution *CIE XYZ* tristimulus values.\n",
    "    XYZ = colour.sd_to_XYZ(spd, cmfs, illuminant)\n",
    "    print(XYZ,colour.XYZ_to_xy(XYZ))"
   ]
  },
  {
   "cell_type": "code",
   "execution_count": 22,
   "metadata": {},
   "outputs": [
    {
     "name": "stdout",
     "output_type": "stream",
     "text": [
      "500 , 0.1\n",
      "505 , 0.07943282347242814\n",
      "510 , 0.06309573444801933\n",
      "515 , 0.05011872336272722\n",
      "520 , 0.039810717055349734\n",
      "525 , 0.03162277660168379\n",
      "530 , 0.025118864315095794\n",
      "535 , 0.0199526231496888\n",
      "540 , 0.015848931924611134\n",
      "545 , 0.012589254117941675\n",
      "550 , 0.01\n",
      "555 , 0.007943282347242814\n",
      "560 , 0.00630957344480193\n",
      "565 , 0.005011872336272725\n",
      "570 , 0.003981071705534973\n",
      "575 , 0.0031622776601683794\n",
      "580 , 0.0025118864315095794\n",
      "585 , 0.001995262314968879\n",
      "590 , 0.001584893192461114\n",
      "595 , 0.0012589254117941675\n",
      "600 , 0.001\n"
     ]
    }
   ],
   "source": [
    "for i in range(500,601,5):\n",
    "    print(i,\",\",10**((450-i)/50))"
   ]
  },
  {
   "cell_type": "code",
   "execution_count": 25,
   "metadata": {},
   "outputs": [],
   "source": [
    "sp={}\n",
    "with open('VwhiteLED1.csv', newline='') as csvfile:\n",
    "    for r in csv.reader(csvfile, delimiter=',', quotechar='|'):\n",
    "        #print([float(_) for _ in r[:-1]])\n",
    "        sp[int(float(r[0]))]=max(0,float(r[1]))"
   ]
  },
  {
   "cell_type": "code",
   "execution_count": 27,
   "metadata": {},
   "outputs": [
    {
     "data": {
      "image/png": "[encoded data removed]",
      "text/plain": [
       "<Figure size 432x288 with 1 Axes>"
      ]
     },
     "metadata": {
      "needs_background": "light"
     },
     "output_type": "display_data"
    },
    {
     "data": {
      "text/plain": [
       "(<Figure size 432x288 with 1 Axes>,\n",
       " <matplotlib.axes._subplots.AxesSubplot at 0x7f4c3ad78cf8>)"
      ]
     },
     "execution_count": 27,
     "metadata": {},
     "output_type": "execute_result"
    }
   ],
   "source": [
    "colour.plotting.plot_single_sd(spd)"
   ]
  },
  {
   "cell_type": "code",
   "execution_count": 30,
   "metadata": {},
   "outputs": [],
   "source": [
    "def read_400_700_sp(filename):\n",
    "    sp = {}\n",
    "    with open(filename, newline='') as csvfile:\n",
    "        for r in csv.reader(csvfile, delimiter=',', quotechar='|'):\n",
    "            sp[int(float(r[0]))] = float(r[1])\n",
    "    return sp\n",
    "def sp_product(sp1, sp2):\n",
    "    res = {}\n",
    "    for key in sp1:\n",
    "        res[key] = sp1[key] * sp2[key]\n",
    "    return res\n",
    "\n",
    "\n",
    "def sp_add(sp1, sp2):\n",
    "    res = {}\n",
    "    for key in sp1:\n",
    "        res[key] = sp1[key] + sp2[key]\n",
    "    return res\n",
    "\n",
    "def read_CF():\n",
    "    spb = read_400_700_sp('blue_filter.csv')\n",
    "    spg = read_400_700_sp('green_filter.csv')\n",
    "    spr = read_400_700_sp('red_filter.csv')\n",
    "    sp = sp_add(sp_add(spb, spg), spr)\n",
    "    return sp, spb, spg, spr\n",
    "spLCD, bCF, gCF, rCF = read_CF()"
   ]
  },
  {
   "cell_type": "code",
   "execution_count": 31,
   "metadata": {},
   "outputs": [],
   "source": [
    "sp_after_blue=sp_product(sp,bCF)\n",
    "sp_after_green=sp_product(sp,gCF)"
   ]
  },
  {
   "cell_type": "code",
   "execution_count": 32,
   "metadata": {},
   "outputs": [
    {
     "name": "stderr",
     "output_type": "stream",
     "text": [
      "/home/du/.local/lib/python3.6/site-packages/colour/utilities/verbose.py:237: ColourUsageWarning: \"colour.SpectralPowerDistribution\" object has been renamed to \"colour.SpectralDistribution\".\n",
      "  warn(*args, **kwargs)\n"
     ]
    },
    {
     "data": {
      "image/png": "[encoded data removed]",
      "text/plain": [
       "<Figure size 432x288 with 1 Axes>"
      ]
     },
     "metadata": {
      "needs_background": "light"
     },
     "output_type": "display_data"
    },
    {
     "data": {
      "text/plain": [
       "(<Figure size 432x288 with 1 Axes>,\n",
       " <matplotlib.axes._subplots.AxesSubplot at 0x7f4c3aaeaeb8>)"
      ]
     },
     "execution_count": 32,
     "metadata": {},
     "output_type": "execute_result"
    }
   ],
   "source": [
    "colour.plotting.plot_single_sd(colour.SpectralPowerDistribution(sp_after_blue, name='Sample'))"
   ]
  },
  {
   "cell_type": "code",
   "execution_count": 33,
   "metadata": {},
   "outputs": [
    {
     "name": "stderr",
     "output_type": "stream",
     "text": [
      "/home/du/.local/lib/python3.6/site-packages/colour/utilities/verbose.py:237: ColourUsageWarning: \"colour.SpectralPowerDistribution\" object has been renamed to \"colour.SpectralDistribution\".\n",
      "  warn(*args, **kwargs)\n"
     ]
    },
    {
     "data": {
      "image/png": "[encoded data removed]",
      "text/plain": [
       "<Figure size 432x288 with 1 Axes>"
      ]
     },
     "metadata": {
      "needs_background": "light"
     },
     "output_type": "display_data"
    },
    {
     "data": {
      "text/plain": [
       "(<Figure size 432x288 with 1 Axes>,\n",
       " <matplotlib.axes._subplots.AxesSubplot at 0x7f4c3a9a0780>)"
      ]
     },
     "execution_count": 33,
     "metadata": {},
     "output_type": "execute_result"
    }
   ],
   "source": [
    "colour.plotting.plot_single_sd(colour.SpectralPowerDistribution(sp_after_green, name='Sample'))"
   ]
  },
  {
   "cell_type": "code",
   "execution_count": 34,
   "metadata": {},
   "outputs": [
    {
     "name": "stdout",
     "output_type": "stream",
     "text": [
      "[ 0.12086943  0.25892165]\n",
      "[ 0.23584772  0.6332047 ]\n"
     ]
    }
   ],
   "source": [
    "def sp2xy(sp):\n",
    "    spd = colour.SpectralDistribution(sp, name='Sample')\n",
    "    cmfs = colour.colorimetry.MSDS_CMFS_STANDARD_OBSERVER['CIE 1931 2 Degree Standard Observer']\n",
    "    illuminant = colour.SDS_ILLUMINANTS['D65']\n",
    "    XYZ = colour.sd_to_XYZ(spd, cmfs, illuminant)\n",
    "    return colour.XYZ_to_xy(XYZ)\n",
    "print(sp2xy(sp_after_blue))\n",
    "print(sp2xy(sp_after_green))"
   ]
  },
  {
   "cell_type": "code",
   "execution_count": null,
   "metadata": {},
   "outputs": [],
   "source": []
  }
 ],
 "metadata": {
  "kernelspec": {
   "display_name": "Python 3",
   "language": "python",
   "name": "python3"
  },
  "language_info": {
   "codemirror_mode": {
    "name": "ipython",
    "version": 3
   },
   "file_extension": ".py",
   "mimetype": "text/x-python",
   "name": "python",
   "nbconvert_exporter": "python",
   "pygments_lexer": "ipython3",
   "version": "3.6.9"
  }
 },
 "nbformat": 4,
 "nbformat_minor": 4
}
